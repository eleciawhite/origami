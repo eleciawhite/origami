{
  "nbformat": 4,
  "nbformat_minor": 0,
  "metadata": {
    "colab": {
      "provenance": [],
      "authorship_tag": "ABX9TyOd5Bwgra+r+ZV1iUFh9E+C",
      "include_colab_link": true
    },
    "kernelspec": {
      "name": "python3",
      "display_name": "Python 3"
    },
    "language_info": {
      "name": "python"
    }
  },
  "cells": [
    {
      "cell_type": "markdown",
      "metadata": {
        "id": "view-in-github",
        "colab_type": "text"
      },
      "source": [
        "<a href=\"https://colab.research.google.com/github/eleciawhite/origami/blob/main/LangTiling/LangTiling.ipynb\" target=\"_parent\"><img src=\"https://colab.research.google.com/assets/colab-badge.svg\" alt=\"Open In Colab\"/></a>"
      ]
    },
    {
      "cell_type": "markdown",
      "source": [
        "This script is loosely based on [Curved Origami by Ekaterina Likasheva](https://www.amazon.com/Curved-Origami-Unlocking-Secrets-Folding/dp/0997311991/) and written by Elecia White (me). You may copy and use the script as much as you like. I'd really appreciate seeing what you do with it. (I'm logicalelegance on Mastodon and Reddit, [elecia_white on Instagram](https://www.instagram.com/elecia_white/?hl=en).)\n",
        "\n"
      ],
      "metadata": {
        "id": "23QOCPAo8tIW"
      }
    },
    {
      "cell_type": "code",
      "source": [
        "from math import *\n",
        "import matplotlib.pyplot as plt\n",
        "import numpy as np\n",
        "from matplotlib import collections  as mc\n",
        "from matplotlib.patches import Ellipse, Wedge, Polygon\n",
        "from matplotlib.path import Path\n",
        "import matplotlib\n",
        "import itertools\n",
        "\n",
        "from scipy.spatial import distance\n",
        "from scipy import signal\n",
        "from google.colab import files\n"
      ],
      "metadata": {
        "id": "Zj8ZXzp-9Qug"
      },
      "execution_count": null,
      "outputs": []
    },
    {
      "cell_type": "markdown",
      "source": [
        "The system for the curved tesselation starts with a kernel-curve. It has specific properties detailed in the book but generally can be represented with most bell-shaped curves. \n",
        "\n",
        "The rest of the system is easier if you start only with the first half of the bell.\n",
        "\n",
        "I'm using a Gaussian curve (normalized to the shape I want). I believe that generating different kernels by changing `curve_h_of_c` will lead to compatible curves for patterns such as Challenge in the book."
      ],
      "metadata": {
        "id": "5maUpJqwR3-K"
      }
    },
    {
      "cell_type": "code",
      "source": [
        "class curve_kernel(): # default is gaussian\n",
        "  def __init__(self, angle = 30.0, horiz_d = 1.0, curve_h_of_c = 0.66, N=500, std=250):\n",
        "    # angle is not used for gaussian\n",
        "    self.angle = angle;\n",
        "    self.horiz_d = horiz_d\n",
        "    self.curve_h_of_c = curve_h_of_c\n",
        "    self.a = [0,0]\n",
        "    self.mid = [horiz_d/2,0]\n",
        "    self.c = [horiz_d/2, tan(radians(angle))*horiz_d/2]\n",
        "    len = int(floor(N/2))\n",
        "\n",
        "    curve_x = np.arange(0, horiz_d,horiz_d/N)\n",
        "    curve_y = signal.gaussian(N, std)\n",
        "    curve_y -= min(curve_y)\n",
        "    curve_y *= curve_h_of_c/max(curve_y) \n",
        "    self.curve = np.array([curve_x[0:len], curve_y[0:len]])\n",
        "    self.offset = self.curve[0,-1] #+ horiz_d/N\n",
        "\n",
        "  def __repr__(self):\n",
        "    plt.plot(self.curve[0,:], self.curve[1,:])\n",
        "    print(\"Distance a to c: {:2.2}\".format(distance.euclidean(self.a, self.c)))\n",
        "    return (\"Angle {}, d {}, A {}, B {}, C {}\".format(self.angle, self.horiz_d,\n",
        "                                                    self.a, self.mid, self.c))\n",
        "class curves():\n",
        "  def __init__(self, kernel):\n",
        "    self.kernel = kernel.curve\n",
        "    self.offset = kernel.curve[0,-1]\n",
        "    self.h      = max(kernel.curve[1,:])\n",
        "    self.len    = 2*len(kernel.curve[1,:])\n",
        "\n",
        "    self.a_curve = self.concatenate(first = self.kernel, \n",
        "                                    second = self.reverse(self.kernel))\n",
        "\n",
        "    self.b_curve = self.concatenate(first = self.negative(self.reverse(self.kernel)), \n",
        "                                    second = self.kernel)\n",
        "\n",
        "    c = self.yoffset(self.kernel, -self.h)\n",
        "    self.c_curve = self.concatenate(first = c, \n",
        "                                    second = self.negative(self.reverse(c)))\n",
        "    \n",
        "  def yoffset(self, curve, offset):\n",
        "    curve = np.copy(curve)\n",
        "    curve[1,:] += offset\n",
        "    return curve\n",
        "\n",
        "  def negative(self, curve):\n",
        "    curve = np.array([curve[0,:], -curve[1,:]])\n",
        "    return curve\n",
        "\n",
        "  def reverse(self, curve):\n",
        "    curve = np.array([curve[0,:], np.flip(curve[1,:])])\n",
        "    return curve\n",
        "\n",
        "  def roll(self, curve, rollby):\n",
        "    curve = np.copy(curve)\n",
        "    nanarray = np.argwhere(np.isnan(curve))\n",
        "    curve[1,:] = np.concatenate((curve[1,rollby:], curve[1,0:rollby]))\n",
        "    for x,y in nanarray: # put back in discontinuities\n",
        "      curve[x,y] = nan\n",
        "    return curve\n",
        "\n",
        "  def concatenate(self, first, second):\n",
        "    if first is None:\n",
        "      return second\n",
        "    xoffset = first[0,-1]\n",
        "    second = np.copy(second)\n",
        "    second[0,:] += xoffset\n",
        "    return(np.concatenate((first, second), axis=1))\n",
        "\n",
        "  def __repr__(self):\n",
        "    plt.plot(self.kernel[0,:], self.kernel[1,:], 'k.')\n",
        "    plt.plot(self.a_curve[0,:], self.a_curve[1,:], 'r')\n",
        "    plt.plot(self.b_curve[0,:], self.b_curve[1,:], 'b')\n",
        "    plt.plot(self.c_curve[0,:], self.c_curve[1,:], 'c')\n",
        "    return \"\"\n",
        "\n",
        "ckernel = curve_kernel(60.0, curve_h_of_c=0.2, std=400)\n",
        "cvs = curves(ckernel)\n",
        "print(cvs)"
      ],
      "metadata": {
        "id": "RDBt8hTI-Itu",
        "colab": {
          "base_uri": "https://localhost:8080/",
          "height": 282
        },
        "outputId": "5ef6031e-edb1-44d0-9e93-6b0777370700"
      },
      "execution_count": null,
      "outputs": [
        {
          "output_type": "stream",
          "name": "stdout",
          "text": [
            "\n"
          ]
        },
        {
          "output_type": "display_data",
          "data": {
            "text/plain": [
              "<Figure size 432x288 with 1 Axes>"
            ],
            "image/png": "[encoded data removed]"
          },
          "metadata": {
            "needs_background": "light"
          }
        }
      ]
    },
    {
      "cell_type": "code",
      "source": [
        "from mpmath import *\n",
        "class algebraic_kernel(curve_kernel):  # Witch of Agnesi\n",
        "  def __init__(self, angle = 20.0, horiz_d = 1.0, curve_h_of_c = 0.66, N=500, std=250):\n",
        "\n",
        "    self.angle = np.radians(angle);\n",
        "    self.horiz_d = horiz_d\n",
        "    self.curve_h_of_c = curve_h_of_c\n",
        "    self.a = [0,0]\n",
        "    self.mid = [horiz_d/2,0]\n",
        "    self.c = [horiz_d/2, tan(radians(self.angle))*horiz_d/2]\n",
        "\n",
        "    len = int(floor(N/2))\n",
        "\n",
        "    curve_x = np.arange(0, horiz_d,horiz_d/N)\n",
        "    curve_x_mod = curve_x*10\n",
        "    a = self.angle\n",
        "    curve_y = 8*a**3 / (curve_x_mod*curve_x_mod + 4*a**2)\n",
        "    curve_y = curve_y[0:len]\n",
        "    curve_y -= curve_y.min()\n",
        "    curve_y /= curve_y.max()\n",
        "    curve_y *= curve_h_of_c\n",
        "\n",
        "    self.curve = np.array([curve_x[0:len], np.flip(curve_y[0:len])])\n",
        "    self.offset = self.curve[0,-1] #+ horiz_d/N\n",
        "\n",
        "  def __repr__(self):\n",
        "    plt.plot(self.curve[0,:], self.curve[1,:])\n",
        "    print(\"Distance a to c: {:2.2}\".format(distance.euclidean(self.a, self.c)))\n",
        "    return (\"Angle {}, d {}, A {}, B {}, C {}\".format(self.angle, self.horiz_d,\n",
        "                                                    self.a, self.mid, self.c))\n",
        "\n",
        "test = algebraic_kernel(angle= 270, N=200, curve_h_of_c=0.66)\n",
        "cvs = curves(test)\n",
        "print(cvs)\n",
        "\n"
      ],
      "metadata": {
        "colab": {
          "base_uri": "https://localhost:8080/",
          "height": 282
        },
        "id": "uKOfZBazv_Zm",
        "outputId": "823e6987-99cb-4130-9134-9cf9da9aab9f"
      },
      "execution_count": null,
      "outputs": [
        {
          "output_type": "stream",
          "name": "stdout",
          "text": [
            "\n"
          ]
        },
        {
          "output_type": "display_data",
          "data": {
            "text/plain": [
              "<Figure size 432x288 with 1 Axes>"
            ],
            "image/png": "[encoded data removed]"
          },
          "metadata": {
            "needs_background": "light"
          }
        }
      ]
    },
    {
      "cell_type": "code",
      "source": [
        "class bump_kernel(curve_kernel): \n",
        "  def __init__(self, angle = 30.0, horiz_d = 1.0, curve_h_of_c = 0.66, N=500, std=250):\n",
        "    if (angle < 20.0) or (angle > 70.0): \n",
        "      print(\"WARNING: CAB angle {} should be between 20 and 70 degrees\".format(angle))\n",
        "\n",
        "    self.angle = angle;\n",
        "    self.horiz_d = horiz_d\n",
        "    self.curve_h_of_c = curve_h_of_c\n",
        "    self.a = [0,0]\n",
        "    self.mid = [horiz_d/2,0]\n",
        "    self.c = [horiz_d/2, tan(radians(angle))*horiz_d/2]\n",
        "    len = int(floor(N/2))\n",
        "\n",
        "    curve_x = np.arange(0, horiz_d,horiz_d/N)\n",
        "    curve_xsq = 4*curve_x*curve_x\n",
        "    curve_y = np.exp(-1.0/(1.0-curve_xsq))\n",
        "\n",
        "    self.curve = np.array([curve_x[0:len], np.flip(curve_y[0:len])])\n",
        "    self.offset = self.curve[0,-1] #+ horiz_d/N\n",
        "\n",
        "  def __repr__(self):\n",
        "    plt.plot(self.curve[0,:], self.curve[1,:])\n",
        "    print(\"Distance a to c: {:2.2}\".format(distance.euclidean(self.a, self.c)))\n",
        "    return (\"Angle {}, d {}, A {}, B {}, C {}\".format(self.angle, self.horiz_d,\n",
        "                                                    self.a, self.mid, self.c))\n",
        "\n",
        "bk = bump_kernel(N=200, curve_h_of_c=1.0)\n",
        "cvs_bk = curves(bk)\n",
        "print(cvs_bk)\n"
      ],
      "metadata": {
        "colab": {
          "base_uri": "https://localhost:8080/",
          "height": 320
        },
        "id": "SlCcksc6wGdU",
        "outputId": "5c11604e-b82f-4585-90aa-0d1200862205"
      },
      "execution_count": null,
      "outputs": [
        {
          "output_type": "stream",
          "name": "stderr",
          "text": [
            "<ipython-input-4-6b2ea276e980>:16: RuntimeWarning: divide by zero encountered in true_divide\n",
            "  curve_y = np.exp(-1.0/(1.0-curve_xsq))\n"
          ]
        },
        {
          "output_type": "stream",
          "name": "stdout",
          "text": [
            "\n"
          ]
        },
        {
          "output_type": "display_data",
          "data": {
            "text/plain": [
              "<Figure size 432x288 with 1 Axes>"
            ],
            "image/png": "[encoded data removed]"
          },
          "metadata": {
            "needs_background": "light"
          }
        }
      ]
    },
    {
      "cell_type": "markdown",
      "source": [
        "I want to be able to use the Amanda Ghassaei's [Origami Simulator](https://origamisimulator.org/) to test the output of the script. \n",
        "\n",
        "In this next block, I'm fixing up the matplotlib output to be more compatible with the simulator."
      ],
      "metadata": {
        "id": "pX9RVVfmSrN4"
      }
    },
    {
      "cell_type": "code",
      "source": [
        "indef = False\n",
        "def rm_clippath(line):\n",
        "  global indef\n",
        "\n",
        "  if not indef:\n",
        "    f = line.find('<clipPath')\n",
        "  else:\n",
        "    f = line.find('</clipPath>')\n",
        "  if f >= 0:\n",
        "    indef = not indef\n",
        "    return \"\"\n",
        "  if indef: return \"\"\n",
        "\n",
        "  f = line.find('clip-path')\n",
        "  if (f < 0): return line\n",
        "  fc = line.find('\"', f) + 1\n",
        "  fe = line.find('\"', fc) +1\n",
        "  return line[:f]+line[fe:]\n",
        "\n",
        "def fixup_svg(infile):\n",
        "  global indef\n",
        "  indef = False\n",
        "  outfile = \"kt_\"+ infile\n",
        "  replace_list = [['fill:none;',\"\"], ['style=\"fill:#ffffff;\"/>','style=\"fill:none;stroke:#000000\"/>' ]]\n",
        "  with open(infile) as fin, open(outfile, \"w+\") as fout:\n",
        "    for line in fin:\n",
        "      line = rm_clippath(line)\n",
        "      for pair in replace_list:\n",
        "        line = line.replace(pair[0], pair[1])\n",
        "      fout.write(line)\n",
        "  return outfile\n"
      ],
      "metadata": {
        "id": "TLPpVG6BAEys"
      },
      "execution_count": null,
      "outputs": []
    },
    {
      "cell_type": "markdown",
      "source": [
        "Create a small language to interpret how to put together the curves to create a pattern."
      ],
      "metadata": {
        "id": "5eVYclo_wgYY"
      }
    },
    {
      "cell_type": "code",
      "source": [
        "def curveNoneZero(curve, dcat):\n",
        "  if curve is None: \n",
        "    curve = np.zeros((2,1))\n",
        "    curve[1] = dcat[1][0]\n",
        "  return curve\n",
        "\n",
        "def A_curve(curve, cvs, mult):\n",
        "  cat = mult*np.copy(cvs.a_curve)\n",
        "  curve = curveNoneZero(curve, cat)\n",
        "  return cvs.concatenate(curve, cat)\n",
        "def a_curve(curve, cvs, mult):\n",
        "  cat = mult*cvs.yoffset(cvs.a_curve, -cvs.h)\n",
        "  curve = curveNoneZero(curve, cat)\n",
        "  return cvs.concatenate(curve, cat)\n",
        "def B_curve(curve, cvs, mult):\n",
        "  cat = mult*np.copy(cvs.b_curve)\n",
        "  curve = curveNoneZero(curve, cat)\n",
        "  return cvs.concatenate(curve, cat)\n",
        "def b_curve(curve, cvs, mult):\n",
        "  cat = mult*cvs.reverse(cvs.b_curve)\n",
        "  curve = curveNoneZero(curve, cat)\n",
        "  return cvs.concatenate(curve, cat)\n",
        "def C_curve(curve, cvs, mult):\n",
        "  cat = mult*np.copy(cvs.c_curve)\n",
        "  curve = curveNoneZero(curve, cat)\n",
        "  return cvs.concatenate(curve, cat)\n",
        "def c_curve(curve, cvs, mult):\n",
        "  cat = mult*cvs.reverse(cvs.c_curve)\n",
        "  curve = curveNoneZero(curve, cat)\n",
        "  return cvs.concatenate(curve, cat)\n",
        "def U_curve(curve, cvs, mult):\n",
        "  cat = mult*cvs.negative(np.copy(cvs.a_curve))\n",
        "  curve = curveNoneZero(curve, cat)\n",
        "  return cvs.concatenate(curve, cat)\n",
        "def u_curve(curve, cvs, mult):\n",
        "  cat = mult*cvs.negative(cvs.yoffset(cvs.a_curve, -cvs.h))\n",
        "  curve = curveNoneZero(curve, cat)\n",
        "  return cvs.concatenate(curve, cat)\n",
        "\n",
        "def horizline_curve(curve, cvs, mult):\n",
        "  xoffset = (cvs.a_curve[0,-1])\n",
        "  line = np.array([[0,xoffset],[0,0]])\n",
        "  return cvs.concatenate(curve, mult*line)\n",
        "\n",
        "def pipe_curve(curve, cvs, mult):\n",
        "  pipe = np.array([[0,0],[0,cvs.h]])\n",
        "  return cvs.concatenate(curve, mult*pipe)\n",
        "\n",
        "def blank_curve(curve, cvs, mult):\n",
        "  xoffset = (cvs.a_curve[0,-1])*mult\n",
        "  blank = np.array([[0, xoffset],[np.nan,np.nan]])\n",
        "  return cvs.concatenate(curve, blank)\n",
        "\n",
        "def parse_multi_multiplier_array(mult):\n",
        "  xmult = 1.0\n",
        "  ymult = 1.0\n",
        "  if type(mult) is list:\n",
        "    if (len(mult) == 2):\n",
        "      xmult, ymult = mult[0], mult[1]\n",
        "  else: # not a list\n",
        "    xmult = mult\n",
        "  return xmult, ymult\n",
        "\n",
        "def forward_slash(curve, cvs, mult):\n",
        "  xmult,ymult = parse_multi_multiplier_array(mult)\n",
        "  slash = np.arange(0, cvs.len-1)/(cvs.len-1)\n",
        "  line = np.array([slash, ymult*(slash)])\n",
        "  return cvs.concatenate(curve, xmult*line)\n",
        "\n",
        "def backward_slash(curve, cvs, mult):\n",
        "  xmult,ymult = parse_multi_multiplier_array(mult)\n",
        "  slash = np.arange(0, cvs.len-1)/(cvs.len-1)\n",
        "  line = np.array([slash, ymult*(np.flip(slash))])\n",
        "  return cvs.concatenate(curve, xmult*line)\n",
        "\n",
        "def paper_break(curve, cvs, mult):\n",
        "  pipe = np.array([[0,0],[0,cvs.h/20]])\n",
        "  return cvs.concatenate(curve, mult*pipe)\n",
        "\n",
        "# New and poorly tested!\n",
        "def rotate_curve(curve, cvs, degrees, origin=(0,0)): \n",
        "    angle = np.deg2rad(degrees)\n",
        "    R = np.array([[np.cos(angle), -np.sin(angle)],\n",
        "                  [np.sin(angle),  np.cos(angle)]])\n",
        "    o = np.atleast_2d(origin).T\n",
        "    npcurve = np.atleast_2d(curve)\n",
        "    npcurve = (R @ (npcurve-o) + o)\n",
        "    return npcurve\n",
        "\n",
        "\n",
        "def rollctl(cvs,e):\n",
        "  mult = 1.0\n",
        "  if len(e) > 1:\n",
        "    mult= float(e[1:])\n",
        "  return int(floor(mult*cvs.len/2))\n",
        "\n",
        "def heightctl(cvs, e):\n",
        "      return (float(e[1:]) * cvs.h)\n",
        "\n",
        "def heightctl_unmoderated(cvs, e):\n",
        "      return (float(e[1:]))\n",
        "\n",
        "def color_red():\n",
        "  return 'r-'\n",
        "def color_blue():\n",
        "  return 'b-'\n",
        "def color_black():\n",
        "  return 'k-'\n",
        "def color_green():\n",
        "  return 'g-'\n",
        "\n",
        "\n",
        "# This is the pattern creator interpretor\n",
        "# each one of these can be followed by a multiplier that indicates\n",
        "# how wide or tall it should be \n",
        "interpret_curve = {             \n",
        "    \"A\"   : A_curve,             # Downward facing U-shaped curve, starts at Y midpoint\n",
        "    \"a\"   : a_curve,             # Downward facing curve, starts at min Y\n",
        "    \"B\"   : B_curve,             # Forward B (S shaped cuve)\n",
        "    \"b\"   : b_curve,             # Backward B, use with B will create a sinusoid\n",
        "    \"C\"   : C_curve,             # Forward C (often inverse S, depends on kernel)\n",
        "    \"c\"   : c_curve,             # Backward C, use with C will not create sinusoid\n",
        "    \"U\"   : U_curve,              # Upward facing U-shaped curve, starts at Y midpoint\n",
        "    \"u\"   : u_curve,              # Upward facings, starts at min Y\n",
        "    \"-\"   : horizline_curve,      # One curve's worth of horizontal line\n",
        "    \"|\"   : pipe_curve,           # A vertical line (no horizontal)\n",
        "    \"x\"   : blank_curve,          # Blank space, one curve's worth\n",
        "    \"f\"   : forward_slash,        # The multiplier controls height and width\n",
        "    \"s\"   : backward_slash,       # The multiplier controls height and width\n",
        "    \"*\"   : paper_break,          # Same as | but with a an x to break the paper\n",
        "    \"r\"   : rotate_curve,         # rotate curve from its current position: # New and poorly tested!\n",
        "}\n",
        "\n",
        "roll_control = {\n",
        "    \"o\"   : rollctl                 # move some points from the left to the right\n",
        "}\n",
        "height_control = {\n",
        "    \"h\"   : heightctl,              # height of the curve\n",
        "    \"H\"   : heightctl_unmoderated   # height of the line area\n",
        "}\n",
        "\n",
        "colors = {\n",
        "    \"red\" : color_red,\n",
        "    \"blue\": color_blue,\n",
        "    \"blk\" : color_black,\n",
        "    \"green\" : color_green\n",
        "}\n",
        "\n",
        "def interpret_line(yoffset, line, cvs, add_plot=True):\n",
        "  elements = line.split()\n",
        "  curve = None\n",
        "  color = 'k'\n",
        "  rollby = 0\n",
        "  height = cvs.h\n",
        "  for e in elements:\n",
        "    if e[0] in roll_control:\n",
        "      rollby = roll_control[e[0]](cvs, e)\n",
        "    elif e in colors:\n",
        "      color = colors[e]()\n",
        "    elif e[0] in height_control:\n",
        "      height = height_control[e[0]](cvs, e)\n",
        "    elif e[0] in interpret_curve:\n",
        "      mult = 1.0\n",
        "      if len(e) > 1:\n",
        "        split = e[1:].split(\",\",1)\n",
        "        if len(split) == 1:\n",
        "          mult = float(split[0])\n",
        "        else:\n",
        "          mult = [float(x) for x in split] \n",
        "      curve = interpret_curve[e[0]](curve, cvs, mult)\n",
        "  curve = cvs.roll(curve, rollby)\n",
        "  curve = cvs.yoffset(curve, yoffset)\n",
        "  if add_plot:\n",
        "    plt.plot(curve[0,:], curve[1,:], color)\n",
        "  return color, curve, height\n",
        "\n",
        "def minmax(minxy, maxxy, curve):\n",
        "  new_minxy = np.nanmin(curve, 1)\n",
        "  new_maxxy = np.nanmax(curve, 1)\n",
        "  minxy = np.nanmin(np.stack((minxy, new_minxy), 1),1)\n",
        "  maxxy = np.nanmax(np.stack((maxxy, new_maxxy), 1),1)\n",
        "  return minxy, maxxy\n",
        "\n",
        "def plot_outer_box(minxy, maxxy, color='k'):\n",
        "  plt.plot([minxy[0], minxy[0]], [minxy[1],maxxy[1]], color )\n",
        "  plt.plot([maxxy[0], maxxy[0]], [minxy[1],maxxy[1]], color )\n",
        "  plt.plot([minxy[0], maxxy[0]], [minxy[1],minxy[1]], color )\n",
        "  plt.plot([minxy[0], maxxy[0]], [maxxy[1],maxxy[1]], color )\n",
        "\n",
        "def interpret_tess(name, input, cvs, outputfile=True, ax=None):\n",
        "  minxy = np.ones((2)) * nan\n",
        "  maxxy = np.ones((2)) * nan\n",
        "  yoffset = 0.0\n",
        "  for line in input:\n",
        "    color, curve, height = interpret_line(yoffset, line, cvs)\n",
        "    minxy, maxxy = minmax(minxy, maxxy, curve)\n",
        "    yoffset -= height\n",
        "  if ax is not None:\n",
        "    plt.axis(ax)\n",
        "  else:\n",
        "    plt.axis('equal')\n",
        "  plt.axis('off')\n",
        "  \n",
        "  plot_outer_box(minxy, maxxy, 'k')\n",
        "  plt.savefig(name + \".svg\")\n",
        "  outputfilename = fixup_svg(name + \".svg\")\n",
        "  if outputfile:\n",
        "    files.download(outputfilename)"
      ],
      "metadata": {
        "id": "Au1SfO7ZB_iB"
      },
      "execution_count": null,
      "outputs": []
    },
    {
      "cell_type": "code",
      "source": [
        "name = \"pretty22\" # Similar to Lukasheva's p22 in the Curved Origami patterns PDF\n",
        "pretty22 = [\n",
        "          \"red a a x x a x x a a h1\",\n",
        "          \"red  x x A2  x A2 h0\",\n",
        "          \"blue a a x x a x x a a h1\",\n",
        "          \"blue x |4 x |4 x x |4 x |4 x x |4 x |4 h0\",\n",
        "          \"blue  x x A2  x A2 h0\",\n",
        " \n",
        "          \"red  x x B b x B b x h1\",\n",
        "          \"red  o u u x x u x x u u h0\",\n",
        "\n",
        "          \"blue  x x B b x B b x h1\",\n",
        "          \"blue  o u u x x u x x u u h2\",\n",
        "\n",
        "          \"red   x0.5 |3 x |3 x3 |3 x3 |3 x |3 h-1\",\n",
        "\n",
        "          \"blue  o a a x x a x x a a h1\",\n",
        "          \"blue  x x b B x b B x h0\",\n",
        "\n",
        "          \"red  o a a x x a x x a a h1\",\n",
        "          \"red  x x b B x b B x h0\",\n",
        "\n",
        "          \"blue  x x U2  x U2 h1\",\n",
        "          \"blue u u x x u x x u u h0\",\n",
        "\n",
        "          \"red   x x U2  x U2 h1\",\n",
        "          \"red  u u x x u x x u u h2\",\n",
        "          \"blue x |4 x |4 x x |4 x |4 x x |4 x |4 h0\",\n",
        "\n",
        "]\n",
        "interpret_tess(name, pretty22, cvs)"
      ],
      "metadata": {
        "colab": {
          "base_uri": "https://localhost:8080/",
          "height": 248
        },
        "id": "Nzhr0Nn0aYgJ",
        "outputId": "8e01e3cd-2b33-4274-b61a-2d8857720463"
      },
      "execution_count": null,
      "outputs": [
        {
          "output_type": "display_data",
          "data": {
            "text/plain": [
              "<IPython.core.display.Javascript object>"
            ],
            "application/javascript": [
              "\n",
              "    async function download(id, filename, size) {\n",
              "      if (!google.colab.kernel.accessAllowed) {\n",
              "        return;\n",
              "      }\n",
              "      const div = document.createElement('div');\n",
              "      const label = document.createElement('label');\n",
              "      label.textContent = `Downloading \"${filename}\": `;\n",
              "      div.appendChild(label);\n",
              "      const progress = document.createElement('progress');\n",
              "      progress.max = size;\n",
              "      div.appendChild(progress);\n",
              "      document.body.appendChild(div);\n",
              "\n",
              "      const buffers = [];\n",
              "      let downloaded = 0;\n",
              "\n",
              "      const channel = await google.colab.kernel.comms.open(id);\n",
              "      // Send a message to notify the kernel that we're ready.\n",
              "      channel.send({})\n",
              "\n",
              "      for await (const message of channel.messages) {\n",
              "        // Send a message to notify the kernel that we're ready.\n",
              "        channel.send({})\n",
              "        if (message.buffers) {\n",
              "          for (const buffer of message.buffers) {\n",
              "            buffers.push(buffer);\n",
              "            downloaded += buffer.byteLength;\n",
              "            progress.value = downloaded;\n",
              "          }\n",
              "        }\n",
              "      }\n",
              "      const blob = new Blob(buffers, {type: 'application/binary'});\n",
              "      const a = document.createElement('a');\n",
              "      a.href = window.URL.createObjectURL(blob);\n",
              "      a.download = filename;\n",
              "      div.appendChild(a);\n",
              "      a.click();\n",
              "      div.remove();\n",
              "    }\n",
              "  "
            ]
          },
          "metadata": {}
        },
        {
          "output_type": "display_data",
          "data": {
            "text/plain": [
              "<IPython.core.display.Javascript object>"
            ],
            "application/javascript": [
              "download(\"download_b043ab89-d7e9-40a9-bdb0-0e497a226931\", \"kt_pretty22.svg\", 33427)"
            ]
          },
          "metadata": {}
        },
        {
          "output_type": "display_data",
          "data": {
            "text/plain": [
              "<Figure size 432x288 with 1 Axes>"
            ],
            "image/png": "[encoded data removed]"
          },
          "metadata": {
            "needs_background": "light"
          }
        }
      ]
    },
    {
      "cell_type": "code",
      "source": [
        "\n",
        "name = \"generic_organic\" # closer Similar to Lukasheva's book p37 in the Curved Origami patterns\n",
        "organic = [\n",
        "            \"red    x0.25 |2 x x |2 x x |2 x x |2 x x |2 x0.75 h0.35\",\n",
        "\n",
        "            \"blue -10.25 h2.25\",\n",
        "            \"red    x0.25 u2 u2 u2 u2 u2 h0.5\",\n",
        "            \"green  x0.25 s f s f s f s f s x0.25 h2.75\",\n",
        "            \"red   o2.75 A2  A2 A2 A2 A2 h0\",\n",
        "\n",
        "            \"blue -10.25 h2.25\",\n",
        "            \"red    x0.25 u2 u2 u2 u2 u2 h0.5\",\n",
        "            \"green  x0.25 s f s f s f s f s x0.25 h2.75\",\n",
        "            \"red   o2.75 A2  A2 A2 A2 A2 h0\",\n",
        "\n",
        "            \"blue -10.25 h2.25\",\n",
        "            \"red    x0.25 u2 u2 u2 u2 u2 h0.5\",\n",
        "            \"green  x0.25 s f s f s f s f s x0.25 h2.75\",\n",
        "            \"red   o2.75 A2  A2 A2 A2 A2 h0\",\n",
        "\n",
        "            \"blue -10.25 h2.25\",\n",
        "            \"red    x0.25 u2 u2 u2 u2 u2 h0.5\",\n",
        "            \"green  x0.25 s f s f s f s f s x0.25 h2.75\",\n",
        "            \"red   o2.75 A2  A2 A2 A2 A2 h0\",\n",
        "\n",
        "            \"blue -10.25 h2.25\",\n",
        "            \"red    x0.25 u2 u2 u2 u2 u2 h0.5\",\n",
        "            \"green  x0.25 s f s f s f s f s x0.25 h2.75\",\n",
        "            \"red   o2.75 A2  A2 A2 A2 A2 h0\",\n",
        "\n",
        "            \"blue -10 h2.25\",\n",
        "            \"red    x0.25 u2 u2 u2 u2 u2 h0.5\",\n",
        "            \"green  x0.25 s f s f s f s f s x0.25 h2.75\",\n",
        "            \"red   o2.75 A2  A2 A2 A2 A2 h0\",\n",
        "\n",
        "            \"blue -10.25 h2.25\",\n",
        "            \"red    x0.25 u2 u2 u2 u2 u2 h0.5\",\n",
        "            \"green  x0.25 s f s f s f s f s x0.25 h2.75\",\n",
        "            \"red   o2.75 A2  A2 A2 A2 A2 h0\",\n",
        "            \"blue -10.25 h0\",\n",
        "            \"red x1.25   |-2 x x |-2 x x |-2 x x |-2 x x |-2 x0.25 h2\",        \n",
        "            \"green x10 |43 h0\",\n",
        "]\n",
        "\n",
        "test = algebraic_kernel(angle= 180, N=200, curve_h_of_c=0.2)\n",
        "cvs = curves(test)\n",
        "\n",
        "interpret_tess(name, organic, cvs)"
      ],
      "metadata": {
        "id": "I5YAgZDwg6Ia",
        "colab": {
          "base_uri": "https://localhost:8080/",
          "height": 248
        },
        "outputId": "7a5499ca-117b-419d-a4c5-6f56ddc7c380"
      },
      "execution_count": null,
      "outputs": [
        {
          "output_type": "display_data",
          "data": {
            "text/plain": [
              "<IPython.core.display.Javascript object>"
            ],
            "application/javascript": [
              "\n",
              "    async function download(id, filename, size) {\n",
              "      if (!google.colab.kernel.accessAllowed) {\n",
              "        return;\n",
              "      }\n",
              "      const div = document.createElement('div');\n",
              "      const label = document.createElement('label');\n",
              "      label.textContent = `Downloading \"${filename}\": `;\n",
              "      div.appendChild(label);\n",
              "      const progress = document.createElement('progress');\n",
              "      progress.max = size;\n",
              "      div.appendChild(progress);\n",
              "      document.body.appendChild(div);\n",
              "\n",
              "      const buffers = [];\n",
              "      let downloaded = 0;\n",
              "\n",
              "      const channel = await google.colab.kernel.comms.open(id);\n",
              "      // Send a message to notify the kernel that we're ready.\n",
              "      channel.send({})\n",
              "\n",
              "      for await (const message of channel.messages) {\n",
              "        // Send a message to notify the kernel that we're ready.\n",
              "        channel.send({})\n",
              "        if (message.buffers) {\n",
              "          for (const buffer of message.buffers) {\n",
              "            buffers.push(buffer);\n",
              "            downloaded += buffer.byteLength;\n",
              "            progress.value = downloaded;\n",
              "          }\n",
              "        }\n",
              "      }\n",
              "      const blob = new Blob(buffers, {type: 'application/binary'});\n",
              "      const a = document.createElement('a');\n",
              "      a.href = window.URL.createObjectURL(blob);\n",
              "      a.download = filename;\n",
              "      div.appendChild(a);\n",
              "      a.click();\n",
              "      div.remove();\n",
              "    }\n",
              "  "
            ]
          },
          "metadata": {}
        },
        {
          "output_type": "display_data",
          "data": {
            "text/plain": [
              "<IPython.core.display.Javascript object>"
            ],
            "application/javascript": [
              "download(\"download_c5dcd875-c1a4-49cb-b319-e4f23c799aa1\", \"kt_generic_organic.svg\", 36440)"
            ]
          },
          "metadata": {}
        },
        {
          "output_type": "display_data",
          "data": {
            "text/plain": [
              "<Figure size 432x288 with 1 Axes>"
            ],
            "image/png": "[encoded data removed]"
          },
          "metadata": {
            "needs_background": "light"
          }
        }
      ]
    },
    {
      "cell_type": "code",
      "source": [
        "name = 'p38_etude10'\n",
        "pattern= [\n",
        "  'blue x4 |8     x4 |8        x4 |8      x4 |8     x4 |8         x4 |8  h0',\n",
        "  'red  A4        A4           A4         A4        A4      A4    A4 ',\n",
        "  'blue B2 b2     B2 b2        B2 b2      B2 b2     B2 b2   B2 b2 B2 b2',\n",
        "  'red o1 U4      U4           U4         U4        U4      U4    U4     h6',\n",
        "\n",
        "  'blue B2 b2     B2 b2        B2 b2      B2 b2     B2 b2   B2 b2 B2 b2  h6',\n",
        "\n",
        "  'red  A4        A4           A4         A4        A4      A4    A4 ',\n",
        "  'blue B2 b2     B2 b2        B2 b2      B2 b2     B2 b2   B2 b2 B2 b2',\n",
        "  'red o1 U4      U4           U4         U4        U4      U4    U4     h6',\n",
        "\n",
        "  'blue B2 b2     B2 b2        B2 b2      B2 b2     B2 b2   B2 b2 B2 b2  h6',\n",
        "\n",
        "  'red  A4        A4           A4         A4        A4      A4    A4 ',\n",
        "  'blue B2 b2     B2 b2        B2 b2      B2 b2     B2 b2   B2 b2 B2 b2',\n",
        "  'red o1 U4      U4           U4         U4        U4      U4    U4     h8',\n",
        "  'blue x2 |8     x4 |8        x4 |8     x4 |8    x4 |8  x4 |8   x4 |8 ',\n",
        "\n",
        "]\n",
        "interpret_tess(name, pattern, cvs, True)"
      ],
      "metadata": {
        "colab": {
          "base_uri": "https://localhost:8080/",
          "height": 248
        },
        "id": "25asPB34tvXS",
        "outputId": "75188654-de2f-40d6-d047-4bcadd728ed8"
      },
      "execution_count": null,
      "outputs": [
        {
          "output_type": "display_data",
          "data": {
            "text/plain": [
              "<IPython.core.display.Javascript object>"
            ],
            "application/javascript": [
              "\n",
              "    async function download(id, filename, size) {\n",
              "      if (!google.colab.kernel.accessAllowed) {\n",
              "        return;\n",
              "      }\n",
              "      const div = document.createElement('div');\n",
              "      const label = document.createElement('label');\n",
              "      label.textContent = `Downloading \"${filename}\": `;\n",
              "      div.appendChild(label);\n",
              "      const progress = document.createElement('progress');\n",
              "      progress.max = size;\n",
              "      div.appendChild(progress);\n",
              "      document.body.appendChild(div);\n",
              "\n",
              "      const buffers = [];\n",
              "      let downloaded = 0;\n",
              "\n",
              "      const channel = await google.colab.kernel.comms.open(id);\n",
              "      // Send a message to notify the kernel that we're ready.\n",
              "      channel.send({})\n",
              "\n",
              "      for await (const message of channel.messages) {\n",
              "        // Send a message to notify the kernel that we're ready.\n",
              "        channel.send({})\n",
              "        if (message.buffers) {\n",
              "          for (const buffer of message.buffers) {\n",
              "            buffers.push(buffer);\n",
              "            downloaded += buffer.byteLength;\n",
              "            progress.value = downloaded;\n",
              "          }\n",
              "        }\n",
              "      }\n",
              "      const blob = new Blob(buffers, {type: 'application/binary'});\n",
              "      const a = document.createElement('a');\n",
              "      a.href = window.URL.createObjectURL(blob);\n",
              "      a.download = filename;\n",
              "      div.appendChild(a);\n",
              "      a.click();\n",
              "      div.remove();\n",
              "    }\n",
              "  "
            ]
          },
          "metadata": {}
        },
        {
          "output_type": "display_data",
          "data": {
            "text/plain": [
              "<IPython.core.display.Javascript object>"
            ],
            "application/javascript": [
              "download(\"download_6f2d50a6-c166-4808-93c0-26907c5ee288\", \"kt_p38_etude10.svg\", 32975)"
            ]
          },
          "metadata": {}
        },
        {
          "output_type": "display_data",
          "data": {
            "text/plain": [
              "<Figure size 432x288 with 1 Axes>"
            ],
            "image/png": "[encoded data removed]"
          },
          "metadata": {
            "needs_background": "light"
          }
        }
      ]
    },
    {
      "cell_type": "markdown",
      "source": [
        "This next one is a pattern I've been calling \"[Mitani Wedding Dress](https://www.instagram.com/p/CCLQHr6pbFf/)\". I reverse engineered the pattern from that picture. The key was making breaks in the paper where the curves could come together. The green in the below are the breaks for the top of the cones.  "
      ],
      "metadata": {
        "id": "13crZLBzKuWc"
      }
    },
    {
      "cell_type": "code",
      "source": [
        "name = 'm_ex15' # this is a pattern I've been calling Mitani wedding cake: https://www.instagram.com/p/CCLQHr6pbFf/ \n",
        "pattern= [\n",
        "  'blue   x4    |8     x4    |8     x4    |8   x4    |8   x4           h0.25',\n",
        "  'red    A4           A4           A4         A4         A4           h0',\n",
        "  \"green  x2     *4    x4    *4     x4    *4   x4    *4   x4    *4     h1.5\",\n",
        "  \"red   x4           |1.5    x4   |1.5   x4   |1.5  x4   |1.5         h12\",\n",
        "\n",
        "  'red    A4           A4           A4         A4         A4           h0',\n",
        "  \"green  x2     *4    x4    *4     x4    *4   x4    *4   x4    *4     h1.5\",\n",
        "  \"red   x4           |1.5    x4   |1.5   x4   |1.5  x4   |1.5         h12\",\n",
        "\n",
        "  'red    A4           A4           A4         A4         A4           h0',\n",
        "  \"green  x2     *4    x4    *4     x4    *4   x4    *4   x4    *4     h1.5\",\n",
        "  \"red   x4           |1.5    x4   |1.5   x4   |1.5  x4   |1.5         h12\",\n",
        "\n",
        "  'red    A4           A4           A4         A4         A4           h0',\n",
        "  \"red  x2     |-8     x4    |-8   x4    |-8   x4    |-8  x4    |-8    h1.5\",\n",
        "  \"red   x4           |1.5    x4   |1.5   x4   |1.5  x4   |1.5         h12\",\n",
        "\n",
        "\n",
        "]\n",
        "test = algebraic_kernel(angle= 180, N=200, curve_h_of_c=0.40)\n",
        "cvs = curves(test)\n",
        " \n",
        "interpret_tess(name, pattern, cvs, True)\n",
        "ax = plt.axis()\n",
        "\n",
        "\n"
      ],
      "metadata": {
        "colab": {
          "base_uri": "https://localhost:8080/",
          "height": 248
        },
        "id": "ipse159s7HNM",
        "outputId": "d090803b-d066-48fa-d2ea-fe13cd45be70"
      },
      "execution_count": null,
      "outputs": [
        {
          "output_type": "display_data",
          "data": {
            "text/plain": [
              "<IPython.core.display.Javascript object>"
            ],
            "application/javascript": [
              "\n",
              "    async function download(id, filename, size) {\n",
              "      if (!google.colab.kernel.accessAllowed) {\n",
              "        return;\n",
              "      }\n",
              "      const div = document.createElement('div');\n",
              "      const label = document.createElement('label');\n",
              "      label.textContent = `Downloading \"${filename}\": `;\n",
              "      div.appendChild(label);\n",
              "      const progress = document.createElement('progress');\n",
              "      progress.max = size;\n",
              "      div.appendChild(progress);\n",
              "      document.body.appendChild(div);\n",
              "\n",
              "      const buffers = [];\n",
              "      let downloaded = 0;\n",
              "\n",
              "      const channel = await google.colab.kernel.comms.open(id);\n",
              "      // Send a message to notify the kernel that we're ready.\n",
              "      channel.send({})\n",
              "\n",
              "      for await (const message of channel.messages) {\n",
              "        // Send a message to notify the kernel that we're ready.\n",
              "        channel.send({})\n",
              "        if (message.buffers) {\n",
              "          for (const buffer of message.buffers) {\n",
              "            buffers.push(buffer);\n",
              "            downloaded += buffer.byteLength;\n",
              "            progress.value = downloaded;\n",
              "          }\n",
              "        }\n",
              "      }\n",
              "      const blob = new Blob(buffers, {type: 'application/binary'});\n",
              "      const a = document.createElement('a');\n",
              "      a.href = window.URL.createObjectURL(blob);\n",
              "      a.download = filename;\n",
              "      div.appendChild(a);\n",
              "      a.click();\n",
              "      div.remove();\n",
              "    }\n",
              "  "
            ]
          },
          "metadata": {}
        },
        {
          "output_type": "display_data",
          "data": {
            "text/plain": [
              "<IPython.core.display.Javascript object>"
            ],
            "application/javascript": [
              "download(\"download_9d5aaeb3-c708-4cf5-a4e7-f5edae6df7b7\", \"kt_m_ex15.svg\", 13286)"
            ]
          },
          "metadata": {}
        },
        {
          "output_type": "display_data",
          "data": {
            "text/plain": [
              "<Figure size 432x288 with 1 Axes>"
            ],
            "image/png": "[encoded data removed]"
          },
          "metadata": {
            "needs_background": "light"
          }
        }
      ]
    },
    {
      "cell_type": "code",
      "source": [
        "# Added rotation of a signal to do the leaves in Curved Origami book... \n",
        "# This rotates one section at a time (and needs an x or x0 so the lines)\n",
        "# don't try to connect\n",
        "# This is new and hasn't been well tested\n",
        "# only works with A and U inputs\n",
        "\n",
        "def rotate_snip(snip=\"A A\", angle=-45, cr = None):\n",
        "  pattern = \"\"\n",
        "  total_angle = 0\n",
        "  if cr is None:\n",
        "    cr = sum(map(str.isalpha, snip)) * np.cos(np.deg2rad(angle))\n",
        "  cr = str(round(cr, 2))\n",
        "  while (total_angle < 360):\n",
        "    pattern += snip + \" r\" + str(angle) + \" x-\" + cr + \" \"\n",
        "    total_angle += abs(angle)\n",
        "  return pattern\n",
        "\n",
        "\n",
        "name = \"rotxAAAAA8\"\n",
        "pattern =  [\n",
        "    \"red \" + rotate_snip(\"A A A A A\" , 90) + \" h0\",\n",
        "    \"blue \" + rotate_snip(\"A A A A A\", 90) + \"r45 h0\",\n",
        "]\n",
        "\n",
        "interpret_tess(name, pattern, cvs, True)\n"
      ],
      "metadata": {
        "id": "EigqWSJD-6q6",
        "colab": {
          "base_uri": "https://localhost:8080/",
          "height": 248
        },
        "outputId": "ea8c19c9-d7d0-4299-9076-6ecf260acb47"
      },
      "execution_count": null,
      "outputs": [
        {
          "output_type": "display_data",
          "data": {
            "text/plain": [
              "<IPython.core.display.Javascript object>"
            ],
            "application/javascript": [
              "\n",
              "    async function download(id, filename, size) {\n",
              "      if (!google.colab.kernel.accessAllowed) {\n",
              "        return;\n",
              "      }\n",
              "      const div = document.createElement('div');\n",
              "      const label = document.createElement('label');\n",
              "      label.textContent = `Downloading \"${filename}\": `;\n",
              "      div.appendChild(label);\n",
              "      const progress = document.createElement('progress');\n",
              "      progress.max = size;\n",
              "      div.appendChild(progress);\n",
              "      document.body.appendChild(div);\n",
              "\n",
              "      const buffers = [];\n",
              "      let downloaded = 0;\n",
              "\n",
              "      const channel = await google.colab.kernel.comms.open(id);\n",
              "      // Send a message to notify the kernel that we're ready.\n",
              "      channel.send({})\n",
              "\n",
              "      for await (const message of channel.messages) {\n",
              "        // Send a message to notify the kernel that we're ready.\n",
              "        channel.send({})\n",
              "        if (message.buffers) {\n",
              "          for (const buffer of message.buffers) {\n",
              "            buffers.push(buffer);\n",
              "            downloaded += buffer.byteLength;\n",
              "            progress.value = downloaded;\n",
              "          }\n",
              "        }\n",
              "      }\n",
              "      const blob = new Blob(buffers, {type: 'application/binary'});\n",
              "      const a = document.createElement('a');\n",
              "      a.href = window.URL.createObjectURL(blob);\n",
              "      a.download = filename;\n",
              "      div.appendChild(a);\n",
              "      a.click();\n",
              "      div.remove();\n",
              "    }\n",
              "  "
            ]
          },
          "metadata": {}
        },
        {
          "output_type": "display_data",
          "data": {
            "text/plain": [
              "<IPython.core.display.Javascript object>"
            ],
            "application/javascript": [
              "download(\"download_ebed52cc-618b-4c4e-8b73-5baa3218be26\", \"kt_rotxAAAAA8.svg\", 14645)"
            ]
          },
          "metadata": {}
        },
        {
          "output_type": "display_data",
          "data": {
            "text/plain": [
              "<Figure size 432x288 with 1 Axes>"
            ],
            "image/png": "[encoded data removed]"
          },
          "metadata": {
            "needs_background": "light"
          }
        }
      ]
    },
    {
      "cell_type": "code",
      "source": [
        "class nl_kernel(curve_kernel): \n",
        "  def __init__(self, angle = 30.0, horiz_d = 1.0, curve_h_of_c = 0.66, \n",
        "               N=500, std=250, a=0.2):\n",
        "\n",
        "    self.angle = np.deg2rad(angle);\n",
        "    self.horiz_d = horiz_d\n",
        "    self.curve_h_of_c = curve_h_of_c\n",
        "    self.a = [0,0]\n",
        "    self.mid = [horiz_d/2,0]\n",
        "    self.c = [horiz_d/2, tan(radians(angle))*horiz_d/2]\n",
        "    len = int(floor(N/2))\n",
        "\n",
        "    b = self.angle\n",
        "    theta = np.linspace(0, 10*np.pi, N)\n",
        "    curve_x = np.exp(b*theta) * a * np.cos(theta)\n",
        "    curve_y = np.exp(b*theta) * a * np.sin(theta)\n",
        "\n",
        "    self.curve = np.array([curve_x[0:len], curve_y[0:len]])\n",
        "    self.offset = self.curve[0,-1] #+ horiz_d/N\n",
        "\n",
        "  def __repr__(self):\n",
        "    plt.plot(self.curve[0,:], self.curve[1,:])\n",
        "    print(\"Distance a to c: {:2.2}\".format(distance.euclidean(self.a, self.c)))\n",
        "    return (\"Angle {}, d {}, A {}, B {}, C {}\".format(self.angle, self.horiz_d,\n",
        "                                                    self.a, self.mid, self.c))\n",
        "\n",
        "class nl_curves(curves):\n",
        "  def __init__(self, kernel):\n",
        "    self.kernel = kernel.curve\n",
        "    self.offset = kernel.curve[0,-1]\n",
        "    self.h      = max(kernel.curve[1,:])\n",
        "    self.len    = len(kernel.curve[1,:])\n",
        "\n",
        "    self.a_curve = self.kernel\n",
        "    self.b_curve = self.negative(self.kernel)\n",
        "    self.c_curve = self.yoffset(self.kernel, -self.h)\n",
        "#    self.c_curve = self.concatenate(first = c, \n",
        "#                                    second = self.negative(self.reverse(c)))\n",
        "    \n",
        "\n",
        "\n",
        "\n",
        "nl = nl_kernel(N=200, curve_h_of_c=1.0, angle = 30)\n",
        "cvs_nl = nl_curves(nl)\n",
        "print(cvs_nl)\n",
        "#plt.plot(nl.curve[0], nl.curve[1])\n"
      ],
      "metadata": {
        "id": "ho_G24-9q0bz",
        "colab": {
          "base_uri": "https://localhost:8080/",
          "height": 283
        },
        "outputId": "eba3bae4-b3a8-4854-b98f-00a5fbcca68b"
      },
      "execution_count": null,
      "outputs": [
        {
          "output_type": "stream",
          "name": "stdout",
          "text": [
            "\n"
          ]
        },
        {
          "output_type": "display_data",
          "data": {
            "text/plain": [
              "<Figure size 432x288 with 1 Axes>"
            ],
            "image/png": "[encoded data removed]"
          },
          "metadata": {
            "needs_background": "light"
          }
        }
      ]
    },
    {
      "cell_type": "code",
      "source": [],
      "metadata": {
        "id": "OHfP87Ao3B_5"
      },
      "execution_count": null,
      "outputs": []
    },
    {
      "cell_type": "code",
      "source": [],
      "metadata": {
        "id": "BYP68qHY5OCc"
      },
      "execution_count": null,
      "outputs": []
    },
    {
      "cell_type": "code",
      "source": [
        "name = \"rot_e_AU12\"\n",
        "pattern =  [\n",
        "    \"red \" + rotate_snip(\"A \" , 90, 0.07) + \" h0\",\n",
        "    \"blue \" + rotate_snip(\"A \", 90, 0.07) + \"r45 h0\",\n",
        "#    \"blue A r60 x-1.0 A  r60 x-1.0 A h0\",\n",
        "#    \"green A h0\",\n",
        "]\n",
        "print(pattern)\n",
        "interpret_tess(name, pattern, cvs_nl,False)\n",
        "plt.axis('on')"
      ],
      "metadata": {
        "colab": {
          "base_uri": "https://localhost:8080/",
          "height": 320
        },
        "id": "y3UJLdpovcHa",
        "outputId": "516a4f57-0fbf-4285-9d9c-273a86749558"
      },
      "execution_count": null,
      "outputs": [
        {
          "output_type": "stream",
          "name": "stdout",
          "text": [
            "['red A  r90 x-0.07 A  r90 x-0.07 A  r90 x-0.07 A  r90 x-0.07  h0', 'blue A  r90 x-0.07 A  r90 x-0.07 A  r90 x-0.07 A  r90 x-0.07 r45 h0']\n"
          ]
        },
        {
          "output_type": "execute_result",
          "data": {
            "text/plain": [
              "(-1216.9423409737062, 1223.43826618774, -792.4676810352223, 792.4676810352223)"
            ]
          },
          "metadata": {},
          "execution_count": 13
        },
        {
          "output_type": "display_data",
          "data": {
            "text/plain": [
              "<Figure size 432x288 with 1 Axes>"
            ],
            "image/png": "[encoded data removed]"
          },
          "metadata": {
            "needs_background": "light"
          }
        }
      ]
    },
    {
      "cell_type": "code",
      "source": [
        "name = \"chicken_1\"\n",
        "test = algebraic_kernel(angle= 180, N=200, curve_h_of_c=1.0)\n",
        "cvs = curves(test)\n",
        "\n",
        "xmult=1\n",
        "ymult=1\n",
        "h = 1.25\n",
        "number = 4\n",
        "space = 0.5\n",
        "\n",
        "\n",
        "pattern =  []\n",
        "pattern.append(\"red  x{space} |{number} x{space} |{number} x{space} |{number} \\\n",
        "                      x{space} |{number} x{space} |{number} x{space} |{number} \\\n",
        "                      x{space} |{number} x{space}  h1\".format(space=space, number=-(number+1)))\n",
        "\n",
        "for i in range(0,number):\n",
        "  pattern.append(\"blue s{xmult},{ymult} f{xmult},{ymult} \\\n",
        "                  s{xmult},{ymult} f{xmult},{ymult}  h{h}\"\n",
        "                  .format(ymult=ymult,xmult=xmult, h=0))\n",
        "  \n",
        "  pattern.append(\"blue f{xmult},{ymult} \\\n",
        "                  s{xmult},{ymult} f{xmult},{ymult} \\\n",
        "                  s{xmult},{ymult} h{h}\"\n",
        "                  .format(ymult=ymult,xmult=xmult, h=h))      \n",
        "\n",
        "interpret_tess(name, pattern, cvs, True)\n"
      ],
      "metadata": {
        "id": "RvCJSSsK6Mb0",
        "colab": {
          "base_uri": "https://localhost:8080/",
          "height": 248
        },
        "outputId": "6b5a5b03-b04d-4a32-e3b6-8394a7ab0504"
      },
      "execution_count": null,
      "outputs": [
        {
          "output_type": "display_data",
          "data": {
            "text/plain": [
              "<IPython.core.display.Javascript object>"
            ],
            "application/javascript": [
              "\n",
              "    async function download(id, filename, size) {\n",
              "      if (!google.colab.kernel.accessAllowed) {\n",
              "        return;\n",
              "      }\n",
              "      const div = document.createElement('div');\n",
              "      const label = document.createElement('label');\n",
              "      label.textContent = `Downloading \"${filename}\": `;\n",
              "      div.appendChild(label);\n",
              "      const progress = document.createElement('progress');\n",
              "      progress.max = size;\n",
              "      div.appendChild(progress);\n",
              "      document.body.appendChild(div);\n",
              "\n",
              "      const buffers = [];\n",
              "      let downloaded = 0;\n",
              "\n",
              "      const channel = await google.colab.kernel.comms.open(id);\n",
              "      // Send a message to notify the kernel that we're ready.\n",
              "      channel.send({})\n",
              "\n",
              "      for await (const message of channel.messages) {\n",
              "        // Send a message to notify the kernel that we're ready.\n",
              "        channel.send({})\n",
              "        if (message.buffers) {\n",
              "          for (const buffer of message.buffers) {\n",
              "            buffers.push(buffer);\n",
              "            downloaded += buffer.byteLength;\n",
              "            progress.value = downloaded;\n",
              "          }\n",
              "        }\n",
              "      }\n",
              "      const blob = new Blob(buffers, {type: 'application/binary'});\n",
              "      const a = document.createElement('a');\n",
              "      a.href = window.URL.createObjectURL(blob);\n",
              "      a.download = filename;\n",
              "      div.appendChild(a);\n",
              "      a.click();\n",
              "      div.remove();\n",
              "    }\n",
              "  "
            ]
          },
          "metadata": {}
        },
        {
          "output_type": "display_data",
          "data": {
            "text/plain": [
              "<IPython.core.display.Javascript object>"
            ],
            "application/javascript": [
              "download(\"download_43bf65c8-e288-43c6-b791-0c7b0cd52d71\", \"kt_chicken_1.svg\", 4976)"
            ]
          },
          "metadata": {}
        },
        {
          "output_type": "display_data",
          "data": {
            "text/plain": [
              "<Figure size 432x288 with 1 Axes>"
            ],
            "image/png": "[encoded data removed]"
          },
          "metadata": {
            "needs_background": "light"
          }
        }
      ]
    },
    {
      "cell_type": "code",
      "source": [
        "name = \"Huffman_1_.5\"\n",
        "test = algebraic_kernel(angle= 180, N=200, curve_h_of_c=1.0)\n",
        "cvs = curves(test)\n",
        "\n",
        "xmult=1\n",
        "ymult=1\n",
        "h = 1\n",
        "number = 4\n",
        "space = 0.5\n",
        "\n",
        "\n",
        "pattern =  []\n",
        "#pattern.append(\"red  x{space} |{number} x{space} |{number} x{space} |{number} \\\n",
        "#                      x{space} |{number} x{space} |{number} x{space} |{number} \\\n",
        "#                      x{space} |{number} x{space}  h1\".format(space=space, number=-(number+1)))\n",
        "\n",
        "for i in range(0,number):\n",
        "  pattern.append(\"blue s{xmult},{ymult} f{xmult},{ymult} \\\n",
        "                  s{xmult},{ymult} f{xmult},{ymult}  h{h}\"\n",
        "                  .format(ymult=ymult,xmult=xmult, h=0.5))\n",
        "  \n",
        "  pattern.append(\"blue f{xmult},{ymult} \\\n",
        "                  s{xmult},{ymult} f{xmult},{ymult} \\\n",
        "                  s{xmult},{ymult} h{h}\"\n",
        "                  .format(ymult=ymult/2,xmult=xmult, h=h))      \n",
        "\n",
        "interpret_tess(name, pattern, cvs, False)\n"
      ],
      "metadata": {
        "id": "15CXj4jz6Hi7",
        "colab": {
          "base_uri": "https://localhost:8080/",
          "height": 248
        },
        "outputId": "7645e1bc-3d64-4a5c-8933-25427aee1ddf"
      },
      "execution_count": null,
      "outputs": [
        {
          "output_type": "display_data",
          "data": {
            "text/plain": [
              "<IPython.core.display.Javascript object>"
            ],
            "application/javascript": [
              "\n",
              "    async function download(id, filename, size) {\n",
              "      if (!google.colab.kernel.accessAllowed) {\n",
              "        return;\n",
              "      }\n",
              "      const div = document.createElement('div');\n",
              "      const label = document.createElement('label');\n",
              "      label.textContent = `Downloading \"${filename}\": `;\n",
              "      div.appendChild(label);\n",
              "      const progress = document.createElement('progress');\n",
              "      progress.max = size;\n",
              "      div.appendChild(progress);\n",
              "      document.body.appendChild(div);\n",
              "\n",
              "      const buffers = [];\n",
              "      let downloaded = 0;\n",
              "\n",
              "      const channel = await google.colab.kernel.comms.open(id);\n",
              "      // Send a message to notify the kernel that we're ready.\n",
              "      channel.send({})\n",
              "\n",
              "      for await (const message of channel.messages) {\n",
              "        // Send a message to notify the kernel that we're ready.\n",
              "        channel.send({})\n",
              "        if (message.buffers) {\n",
              "          for (const buffer of message.buffers) {\n",
              "            buffers.push(buffer);\n",
              "            downloaded += buffer.byteLength;\n",
              "            progress.value = downloaded;\n",
              "          }\n",
              "        }\n",
              "      }\n",
              "      const blob = new Blob(buffers, {type: 'application/binary'});\n",
              "      const a = document.createElement('a');\n",
              "      a.href = window.URL.createObjectURL(blob);\n",
              "      a.download = filename;\n",
              "      div.appendChild(a);\n",
              "      a.click();\n",
              "      div.remove();\n",
              "    }\n",
              "  "
            ]
          },
          "metadata": {}
        },
        {
          "output_type": "display_data",
          "data": {
            "text/plain": [
              "<IPython.core.display.Javascript object>"
            ],
            "application/javascript": [
              "download(\"download_33a808c4-09fb-47bf-8c8e-acface21d052\", \"kt_Huffman_0.75_div2.svg\", 4464)"
            ]
          },
          "metadata": {}
        },
        {
          "output_type": "display_data",
          "data": {
            "text/plain": [
              "<Figure size 432x288 with 1 Axes>"
            ],
            "image/png": "[encoded data removed]"
          },
          "metadata": {
            "needs_background": "light"
          }
        }
      ]
    },
    {
      "cell_type": "code",
      "source": [
        "name = \"Mars_broken\"\n",
        "test = algebraic_kernel(angle= 180, N=200, curve_h_of_c=1.0)\n",
        "cvs = curves(test)\n",
        "\n",
        "xmult=1\n",
        "ymult=0.25\n",
        "h = 1\n",
        "number = 4\n",
        "space = 0.5\n",
        "\n",
        "\n",
        "pattern =  []\n",
        "#pattern.append(\"red  x{space} |{number} x{space} |{number} x{space} |{number} \\\n",
        "#                      x{space} |{number} x{space} |{number} x{space} |{number} \\\n",
        "#                      x{space} |{number} x{space}  h1\".format(space=space, number=-(number+1)))\n",
        "\n",
        "for i in range(0,number):\n",
        "\n",
        "  snip = \"f{xmult},{ymult} \\\n",
        "                  s{xmult},{ymult} f{xmult},{ymult} \\\n",
        "                  s{xmult},{ymult}\".format(ymult=ymult,xmult=xmult)\n",
        "\n",
        "  pattern.append(\"blue \" + snip + \" h{h}\".format(h=h))\n",
        "                 \n",
        "\n",
        "snip = \"f{xmult},{ymult} \\\n",
        "                s{xmult},{ymult} f{xmult},{ymult} \\\n",
        "                s{xmult},{ymult} f{xmult},{ymult} h{h}\".format(ymult=ymult,xmult=xmult, h=h)\n",
        "  \n",
        "pattern.append(\"red  \" + snip + \"  r90\" )\n",
        "\n",
        "print(pattern)\n",
        "\n",
        "interpret_tess(name, pattern, cvs, True)\n"
      ],
      "metadata": {
        "id": "CRgQ4dfE6GIN",
        "colab": {
          "base_uri": "https://localhost:8080/",
          "height": 285
        },
        "outputId": "88ef0839-2d83-4eb3-e4b2-f6dddc01f031"
      },
      "execution_count": null,
      "outputs": [
        {
          "output_type": "stream",
          "name": "stdout",
          "text": [
            "['blue f1,0.25                   s1,0.25 f1,0.25                   s1,0.25 h1', 'blue f1,0.25                   s1,0.25 f1,0.25                   s1,0.25 h1', 'blue f1,0.25                   s1,0.25 f1,0.25                   s1,0.25 h1', 'blue f1,0.25                   s1,0.25 f1,0.25                   s1,0.25 h1', 'red  f1,0.25                 s1,0.25 f1,0.25                 s1,0.25 f1,0.25 h1  r90']\n"
          ]
        },
        {
          "output_type": "display_data",
          "data": {
            "text/plain": [
              "<IPython.core.display.Javascript object>"
            ],
            "application/javascript": [
              "\n",
              "    async function download(id, filename, size) {\n",
              "      if (!google.colab.kernel.accessAllowed) {\n",
              "        return;\n",
              "      }\n",
              "      const div = document.createElement('div');\n",
              "      const label = document.createElement('label');\n",
              "      label.textContent = `Downloading \"${filename}\": `;\n",
              "      div.appendChild(label);\n",
              "      const progress = document.createElement('progress');\n",
              "      progress.max = size;\n",
              "      div.appendChild(progress);\n",
              "      document.body.appendChild(div);\n",
              "\n",
              "      const buffers = [];\n",
              "      let downloaded = 0;\n",
              "\n",
              "      const channel = await google.colab.kernel.comms.open(id);\n",
              "      // Send a message to notify the kernel that we're ready.\n",
              "      channel.send({})\n",
              "\n",
              "      for await (const message of channel.messages) {\n",
              "        // Send a message to notify the kernel that we're ready.\n",
              "        channel.send({})\n",
              "        if (message.buffers) {\n",
              "          for (const buffer of message.buffers) {\n",
              "            buffers.push(buffer);\n",
              "            downloaded += buffer.byteLength;\n",
              "            progress.value = downloaded;\n",
              "          }\n",
              "        }\n",
              "      }\n",
              "      const blob = new Blob(buffers, {type: 'application/binary'});\n",
              "      const a = document.createElement('a');\n",
              "      a.href = window.URL.createObjectURL(blob);\n",
              "      a.download = filename;\n",
              "      div.appendChild(a);\n",
              "      a.click();\n",
              "      div.remove();\n",
              "    }\n",
              "  "
            ]
          },
          "metadata": {}
        },
        {
          "output_type": "display_data",
          "data": {
            "text/plain": [
              "<IPython.core.display.Javascript object>"
            ],
            "application/javascript": [
              "download(\"download_1b5787a5-2714-4de3-8b02-7cc0d3fa1f86\", \"kt_Mars_broken.svg\", 3186)"
            ]
          },
          "metadata": {}
        },
        {
          "output_type": "display_data",
          "data": {
            "text/plain": [
              "<Figure size 432x288 with 1 Axes>"
            ],
            "image/png": "[encoded data removed]"
          },
          "metadata": {
            "needs_background": "light"
          }
        }
      ]
    },
    {
      "cell_type": "code",
      "source": [
        " \n",
        "def rotate_snip(snip=\"A A\", angle=-45, cr = None):\n",
        "  pattern = \"\"\n",
        "  total_angle = 0\n",
        "  if cr is None:\n",
        "    cr = sum(map(str.isalpha, snip)) * np.cos(np.deg2rad(angle))\n",
        "  cr = str(round(cr, 2))\n",
        "  while (total_angle < 360):\n",
        "    pattern += snip + \" r\" + str(glane) + \" x-\" + cr + \" \"\n",
        "    total_angle += abs(angle)\n",
        "  return pattern"
      ],
      "metadata": {
        "id": "oWtCR1Gd5nIT"
      },
      "execution_count": null,
      "outputs": []
    },
    {
      "cell_type": "code",
      "source": [],
      "metadata": {
        "id": "SgTN7dpt5kOu"
      },
      "execution_count": null,
      "outputs": []
    },
    {
      "cell_type": "code",
      "source": [],
      "metadata": {
        "id": "gtkWu7rC5ec9"
      },
      "execution_count": null,
      "outputs": []
    },
    {
      "cell_type": "code",
      "source": [],
      "metadata": {
        "id": "MJ_wtD1t5OzW"
      },
      "execution_count": null,
      "outputs": []
    },
    {
      "cell_type": "code",
      "source": [],
      "metadata": {
        "id": "NpsG5rg_4W_Z"
      },
      "execution_count": null,
      "outputs": []
    },
    {
      "cell_type": "code",
      "source": [],
      "metadata": {
        "id": "wlSGcsWvuOVM"
      },
      "execution_count": null,
      "outputs": []
    },
    {
      "cell_type": "code",
      "source": [],
      "metadata": {
        "id": "-Ld_EFZ2qoNR"
      },
      "execution_count": null,
      "outputs": []
    },
    {
      "cell_type": "code",
      "source": [],
      "metadata": {
        "id": "hppHQrpdqadp"
      },
      "execution_count": null,
      "outputs": []
    },
    {
      "cell_type": "code",
      "source": [],
      "metadata": {
        "id": "2XH_YCIPp3Pc"
      },
      "execution_count": null,
      "outputs": []
    },
    {
      "cell_type": "code",
      "source": [],
      "metadata": {
        "id": "TqLXaEvhpmAF"
      },
      "execution_count": null,
      "outputs": []
    },
    {
      "cell_type": "code",
      "source": [],
      "metadata": {
        "id": "nKXIwje-pNDP"
      },
      "execution_count": null,
      "outputs": []
    },
    {
      "cell_type": "code",
      "source": [],
      "metadata": {
        "id": "Cs7e9t-EpJAi"
      },
      "execution_count": null,
      "outputs": []
    },
    {
      "cell_type": "code",
      "source": [],
      "metadata": {
        "id": "W-605XntpEWZ"
      },
      "execution_count": null,
      "outputs": []
    },
    {
      "cell_type": "code",
      "source": [],
      "metadata": {
        "id": "4WP31ONvo3ii"
      },
      "execution_count": null,
      "outputs": []
    },
    {
      "cell_type": "code",
      "source": [],
      "metadata": {
        "id": "S_JVw4JeowLa"
      },
      "execution_count": null,
      "outputs": []
    },
    {
      "cell_type": "code",
      "source": [],
      "metadata": {
        "id": "ZISPqXBZn4m8"
      },
      "execution_count": null,
      "outputs": []
    },
    {
      "cell_type": "code",
      "source": [],
      "metadata": {
        "id": "Xh-fy9xPnrXo"
      },
      "execution_count": null,
      "outputs": []
    },
    {
      "cell_type": "code",
      "source": [],
      "metadata": {
        "id": "dubiaRBgnnEz"
      },
      "execution_count": null,
      "outputs": []
    },
    {
      "cell_type": "code",
      "source": [],
      "metadata": {
        "id": "cAtJVTkYncEx"
      },
      "execution_count": null,
      "outputs": []
    },
    {
      "cell_type": "code",
      "source": [],
      "metadata": {
        "id": "MBukPrLKnamt"
      },
      "execution_count": null,
      "outputs": []
    },
    {
      "cell_type": "code",
      "source": [],
      "metadata": {
        "id": "crniYvCYnLaE"
      },
      "execution_count": null,
      "outputs": []
    },
    {
      "cell_type": "code",
      "source": [],
      "metadata": {
        "id": "21bWLF_ynGgm"
      },
      "execution_count": null,
      "outputs": []
    },
    {
      "cell_type": "code",
      "source": [],
      "metadata": {
        "id": "3zguZJ5bm9bb"
      },
      "execution_count": null,
      "outputs": []
    },
    {
      "cell_type": "code",
      "source": [],
      "metadata": {
        "id": "vJldJfRLm1kU"
      },
      "execution_count": null,
      "outputs": []
    },
    {
      "cell_type": "code",
      "source": [],
      "metadata": {
        "id": "Mo4vZhW0meq_"
      },
      "execution_count": null,
      "outputs": []
    },
    {
      "cell_type": "code",
      "source": [],
      "metadata": {
        "id": "z2TLhlwXlTTU"
      },
      "execution_count": null,
      "outputs": []
    }
  ]
}