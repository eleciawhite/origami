{
  "nbformat": 4,
  "nbformat_minor": 0,
  "metadata": {
    "colab": {
      "provenance": [],
      "authorship_tag": "ABX9TyMw4LTLFPdlZkiI6IgIOx2x",
      "include_colab_link": true
    },
    "kernelspec": {
      "name": "python3",
      "display_name": "Python 3"
    },
    "language_info": {
      "name": "python"
    }
  },
  "cells": [
    {
      "cell_type": "markdown",
      "metadata": {
        "id": "view-in-github",
        "colab_type": "text"
      },
      "source": [
        "<a href=\"https://colab.research.google.com/github/eleciawhite/origami/blob/main/LangTiling/LangTiling.ipynb\" target=\"_parent\"><img src=\"https://colab.research.google.com/assets/colab-badge.svg\" alt=\"Open In Colab\"/></a>"
      ]
    },
    {
      "cell_type": "markdown",
      "source": [
        "This script explores along with Robert J Lang's [Twists, Tilings, and Tesselations](https://www.amazon.com/Twists-Tilings-Tessellations-Mathematical-Geometric/dp/1568812329/). Terminology will come from this book.\n",
        "\n",
        "Focusing on the rigid foldable patterns, this uses the mini-language I developed for my [KateTess colab](https://colab.research.google.com/drive/1fzYIjLuT9UMiUwyxtAOIls0isZT1IvX4?usp=sharing) exporing Lukasheva's Origami Curves book. There is a lot of overlap and that script may be better documented.\n",
        "\n",
        "This notebook focuses on straight-line (traditional) versions of these patterns. For curvy exploration, see my [YoshiSines colab](https://colab.research.google.com/drive/1OE3RBsKrw5A8SIV6d2B1cbP3igKiKiIU?usp=sharing)."
      ],
      "metadata": {
        "id": "23QOCPAo8tIW"
      }
    },
    {
      "cell_type": "code",
      "source": [
        "from math import *\n",
        "import matplotlib.pyplot as plt\n",
        "import numpy as np\n",
        "from matplotlib import collections  as mc\n",
        "from matplotlib.patches import Ellipse, Wedge, Polygon\n",
        "from matplotlib.path import Path\n",
        "import matplotlib\n",
        "import itertools\n",
        "\n",
        "from scipy.spatial import distance\n",
        "from scipy import signal\n",
        "from google.colab import files\n"
      ],
      "metadata": {
        "id": "Zj8ZXzp-9Qug"
      },
      "execution_count": 35,
      "outputs": []
    },
    {
      "cell_type": "markdown",
      "source": [
        "The system for the curved tesselation starts with a kernel-curve. It has specific properties detailed in the book but generally can be represented with most bell-shaped curves. \n",
        "\n",
        "The rest of the system is easier if you start only with the first half of the bell.\n",
        "\n",
        "I'm using a Gaussian curve (normalized to the shape I want). I believe that generating different kernels by changing `curve_h_of_c` will lead to compatible curves for patterns such as Challenge in the book."
      ],
      "metadata": {
        "id": "5maUpJqwR3-K"
      }
    },
    {
      "cell_type": "code",
      "source": [
        "class curve_kernel(): # default is gaussian\n",
        "  def __init__(self, angle = 30.0, horiz_d = 1.0, curve_h_of_c = 0.66, N=500, std=250):\n",
        "    # angle is not used for gaussian\n",
        "    self.angle = angle;\n",
        "    self.horiz_d = horiz_d\n",
        "    self.curve_h_of_c = curve_h_of_c\n",
        "    self.a = [0,0]\n",
        "    self.mid = [horiz_d/2,0]\n",
        "    self.c = [horiz_d/2, tan(radians(angle))*horiz_d/2]\n",
        "    len = int(floor(N/2))\n",
        "\n",
        "    curve_x = np.arange(0, horiz_d,horiz_d/N)\n",
        "    curve_y = signal.gaussian(N, std)\n",
        "    curve_y -= min(curve_y)\n",
        "    curve_y *= curve_h_of_c/max(curve_y) \n",
        "    self.curve = np.array([curve_x[0:len], curve_y[0:len]])\n",
        "    self.offset = self.curve[0,-1] #+ horiz_d/N\n",
        "\n",
        "  def __repr__(self):\n",
        "    plt.plot(self.curve[0,:], self.curve[1,:])\n",
        "    print(\"Distance a to c: {:2.2}\".format(distance.euclidean(self.a, self.c)))\n",
        "    return (\"Angle {}, d {}, A {}, B {}, C {}\".format(self.angle, self.horiz_d,\n",
        "                                                    self.a, self.mid, self.c))\n",
        "class curves():\n",
        "  def __init__(self, kernel):\n",
        "    self.kernel = kernel.curve\n",
        "    self.offset = kernel.curve[0,-1]\n",
        "    self.h      = max(kernel.curve[1,:])\n",
        "    self.len    = 2*len(kernel.curve[1,:])\n",
        "\n",
        "    self.a_curve = self.concatenate(first = self.kernel, \n",
        "                                    second = self.reverse(self.kernel))\n",
        "\n",
        "    self.b_curve = self.concatenate(first = self.negative(self.reverse(self.kernel)), \n",
        "                                    second = self.kernel)\n",
        "\n",
        "    c = self.yoffset(self.kernel, -self.h)\n",
        "    self.c_curve = self.concatenate(first = c, \n",
        "                                    second = self.negative(self.reverse(c)))\n",
        "    \n",
        "  def yoffset(self, curve, offset):\n",
        "    curve = np.copy(curve)\n",
        "    curve[1,:] += offset\n",
        "    return curve\n",
        "\n",
        "  def negative(self, curve):\n",
        "    curve = np.array([curve[0,:], -curve[1,:]])\n",
        "    return curve\n",
        "\n",
        "  def reverse(self, curve):\n",
        "    curve = np.array([curve[0,:], np.flip(curve[1,:])])\n",
        "    return curve\n",
        "\n",
        "  def roll(self, curve, rollby):\n",
        "    curve = np.copy(curve)\n",
        "    nanarray = np.argwhere(np.isnan(curve))\n",
        "    curve[1,:] = np.concatenate((curve[1,rollby:], curve[1,0:rollby]))\n",
        "    for x,y in nanarray: # put back in discontinuities\n",
        "      curve[x,y] = nan\n",
        "    return curve\n",
        "\n",
        "  def concatenate(self, first, second):\n",
        "    if first is None:\n",
        "      return second\n",
        "    xoffset = first[0,-1]\n",
        "    second = np.copy(second)\n",
        "    second[0,:] += xoffset\n",
        "    return(np.concatenate((first, second), axis=1))\n",
        "\n",
        "  def __repr__(self):\n",
        "    plt.plot(self.kernel[0,:], self.kernel[1,:], 'k.')\n",
        "    plt.plot(self.a_curve[0,:], self.a_curve[1,:], 'r')\n",
        "    plt.plot(self.b_curve[0,:], self.b_curve[1,:], 'b')\n",
        "    plt.plot(self.c_curve[0,:], self.c_curve[1,:], 'c')\n",
        "    return \"\"\n"
      ],
      "metadata": {
        "id": "RDBt8hTI-Itu"
      },
      "execution_count": 36,
      "outputs": []
    },
    {
      "cell_type": "markdown",
      "source": [
        "I want to be able to use the Amanda Ghassaei's [Origami Simulator](https://origamisimulator.org/) to test the output of the script. \n",
        "\n",
        "In this next block, I'm fixing up the matplotlib output to be more compatible with the simulator."
      ],
      "metadata": {
        "id": "pX9RVVfmSrN4"
      }
    },
    {
      "cell_type": "code",
      "source": [
        "indef = False\n",
        "def rm_clippath(line):\n",
        "  global indef\n",
        "\n",
        "  if not indef:\n",
        "    f = line.find('<clipPath')\n",
        "  else:\n",
        "    f = line.find('</clipPath>')\n",
        "  if f >= 0:\n",
        "    indef = not indef\n",
        "    return \"\"\n",
        "  if indef: return \"\"\n",
        "\n",
        "  f = line.find('clip-path')\n",
        "  if (f < 0): return line\n",
        "  fc = line.find('\"', f) + 1\n",
        "  fe = line.find('\"', fc) +1\n",
        "  return line[:f]+line[fe:]\n",
        "\n",
        "def fixup_svg(infile):\n",
        "  global indef\n",
        "  indef = False\n",
        "  outfile = \"kt_\"+ infile\n",
        "  replace_list = [['fill:none;',\"\"], ['style=\"fill:#ffffff;\"/>','style=\"fill:none;stroke:#000000\"/>' ]]\n",
        "  with open(infile) as fin, open(outfile, \"w+\") as fout:\n",
        "    for line in fin:\n",
        "      line = rm_clippath(line)\n",
        "      for pair in replace_list:\n",
        "        line = line.replace(pair[0], pair[1])\n",
        "      fout.write(line)\n",
        "  return outfile\n"
      ],
      "metadata": {
        "id": "TLPpVG6BAEys"
      },
      "execution_count": 37,
      "outputs": []
    },
    {
      "cell_type": "markdown",
      "source": [
        "Create a small language to interpret how to put together the curves to create a pattern."
      ],
      "metadata": {
        "id": "5eVYclo_wgYY"
      }
    },
    {
      "cell_type": "code",
      "source": [
        "def curveNoneZero(curve, dcat):\n",
        "  if curve is None: \n",
        "    curve = np.zeros((2,1))\n",
        "    curve[1] = dcat[1][0]\n",
        "  return curve\n",
        "\n",
        "def A_curve(curve, cvs, mult):\n",
        "  cat = mult*np.copy(cvs.a_curve)\n",
        "  curve = curveNoneZero(curve, cat)\n",
        "  return cvs.concatenate(curve, cat)\n",
        "def a_curve(curve, cvs, mult):\n",
        "  cat = mult*cvs.yoffset(cvs.a_curve, -cvs.h)\n",
        "  curve = curveNoneZero(curve, cat)\n",
        "  return cvs.concatenate(curve, cat)\n",
        "def B_curve(curve, cvs, mult):\n",
        "  cat = mult*np.copy(cvs.b_curve)\n",
        "  curve = curveNoneZero(curve, cat)\n",
        "  return cvs.concatenate(curve, cat)\n",
        "def b_curve(curve, cvs, mult):\n",
        "  cat = mult*cvs.reverse(cvs.b_curve)\n",
        "  curve = curveNoneZero(curve, cat)\n",
        "  return cvs.concatenate(curve, cat)\n",
        "def C_curve(curve, cvs, mult):\n",
        "  cat = mult*np.copy(cvs.c_curve)\n",
        "  curve = curveNoneZero(curve, cat)\n",
        "  return cvs.concatenate(curve, cat)\n",
        "def c_curve(curve, cvs, mult):\n",
        "  cat = mult*cvs.reverse(cvs.c_curve)\n",
        "  curve = curveNoneZero(curve, cat)\n",
        "  return cvs.concatenate(curve, cat)\n",
        "def U_curve(curve, cvs, mult):\n",
        "  cat = mult*cvs.negative(np.copy(cvs.a_curve))\n",
        "  curve = curveNoneZero(curve, cat)\n",
        "  return cvs.concatenate(curve, cat)\n",
        "def u_curve(curve, cvs, mult):\n",
        "  cat = mult*cvs.negative(cvs.yoffset(cvs.a_curve, -cvs.h))\n",
        "  curve = curveNoneZero(curve, cat)\n",
        "  return cvs.concatenate(curve, cat)\n",
        "\n",
        "def horizline_curve(curve, cvs, mult):\n",
        "  xoffset = (cvs.a_curve[0,-1])\n",
        "  line = np.array([[0,xoffset],[0,0]])\n",
        "  return cvs.concatenate(curve, mult*line)\n",
        "\n",
        "def pipe_curve(curve, cvs, mult):\n",
        "  pipe = np.array([[0,0],[0,cvs.h]])\n",
        "  return cvs.concatenate(curve, mult*pipe)\n",
        "\n",
        "def blank_curve(curve, cvs, mult):\n",
        "  xoffset = (cvs.a_curve[0,-1])*mult\n",
        "  blank = np.array([[0, xoffset],[np.nan,np.nan]])\n",
        "  return cvs.concatenate(curve, blank)\n",
        "\n",
        "def parse_multi_multiplier_array(mult):\n",
        "  xmult = 1.0\n",
        "  ymult = 1.0\n",
        "  if type(mult) is list:\n",
        "    if (len(mult) == 2):\n",
        "      xmult, ymult = mult[0], mult[1]\n",
        "  else: # not a list\n",
        "    xmult = mult\n",
        "  return xmult, ymult\n",
        "\n",
        "def forward_slash(curve, cvs, mult):\n",
        "  xmult,ymult = parse_multi_multiplier_array(mult)\n",
        "  slash = np.arange(0, cvs.len)/(cvs.len)\n",
        "  line = np.array([slash, ymult*(slash)])\n",
        "  return cvs.concatenate(curve, xmult*line)\n",
        "\n",
        "def backward_slash(curve, cvs, mult):\n",
        "  xmult,ymult = parse_multi_multiplier_array(mult)\n",
        "  slash = np.arange(0, cvs.len)/(cvs.len)\n",
        "  line = np.array([slash, ymult*(np.flip(slash))])\n",
        "  return cvs.concatenate(curve, xmult*line)\n",
        "\n",
        "def paper_break(curve, cvs, mult):\n",
        "  pipe = np.array([[0,0],[0,cvs.h/20]])\n",
        "  return cvs.concatenate(curve, mult*pipe)\n",
        "\n",
        "# New and poorly tested!\n",
        "def rotate_curve(curve, cvs, degrees, origin=(0,0)): \n",
        "    angle = np.deg2rad(degrees)\n",
        "    R = np.array([[np.cos(angle), -np.sin(angle)],\n",
        "                  [np.sin(angle),  np.cos(angle)]])\n",
        "    o = np.atleast_2d(origin).T\n",
        "    npcurve = np.atleast_2d(curve)\n",
        "    npcurve = (R @ (npcurve-o) + o)\n",
        "    return npcurve\n",
        "\n",
        "\n",
        "def rollctl(cvs,e):\n",
        "  mult = 1.0\n",
        "  if len(e) > 1:\n",
        "    mult= float(e[1:])\n",
        "  return int(floor(mult*cvs.len/2))\n",
        "\n",
        "def heightctl(cvs, e):\n",
        "      return (float(e[1:]) * cvs.h)\n",
        "\n",
        "def heightctl_unmoderated(cvs, e):\n",
        "      return (float(e[1:]))\n",
        "\n",
        "def color_red():\n",
        "  return 'r-'\n",
        "def color_blue():\n",
        "  return 'b-'\n",
        "def color_black():\n",
        "  return 'k-'\n",
        "def color_green():\n",
        "  return 'g-'\n",
        "\n",
        "\n",
        "# This is the pattern creator interpretor\n",
        "# each one of these can be followed by a multiplier that indicates\n",
        "# how wide or tall it should be \n",
        "interpret_curve = {             \n",
        "    \"A\"   : A_curve,             # Downward facing U-shaped curve, starts at Y midpoint\n",
        "    \"a\"   : a_curve,             # Downward facing curve, starts at min Y\n",
        "    \"B\"   : B_curve,             # Forward B (S shaped cuve)\n",
        "    \"b\"   : b_curve,             # Backward B, use with B will create a sinusoid\n",
        "    \"C\"   : C_curve,             # Forward C (often inverse S, depends on kernel)\n",
        "    \"c\"   : c_curve,             # Backward C, use with C will not create sinusoid\n",
        "    \"U\"   : U_curve,              # Upward facing U-shaped curve, starts at Y midpoint\n",
        "    \"u\"   : u_curve,              # Upward facings, starts at min Y\n",
        "    \"-\"   : horizline_curve,      # One curve's worth of horizontal line\n",
        "    \"|\"   : pipe_curve,           # A vertical line (no horizontal)\n",
        "    \"x\"   : blank_curve,          # Blank space, one curve's worth\n",
        "    \"f\"   : forward_slash,        # The multiplier controls height and width\n",
        "    \"s\"   : backward_slash,       # The multiplier controls height and width\n",
        "    \"*\"   : paper_break,          # Same as | but with a an x to break the paper\n",
        "    \"r\"   : rotate_curve,         # rotate curve from its current position: # New and poorly tested!\n",
        "}\n",
        "\n",
        "roll_control = {\n",
        "    \"o\"   : rollctl                 # move some points from the left to the right\n",
        "}\n",
        "height_control = {\n",
        "    \"h\"   : heightctl,              # height of the curve\n",
        "    \"H\"   : heightctl_unmoderated   # height of the line area\n",
        "}\n",
        "\n",
        "colors = {\n",
        "    \"red\" : color_red,\n",
        "    \"blue\": color_blue,\n",
        "    \"blk\" : color_black,\n",
        "    \"green\" : color_green\n",
        "}\n",
        "\n",
        "def interpret_line(yoffset, line, cvs, add_plot=True):\n",
        "  elements = line.split()\n",
        "  curve = None\n",
        "  color = 'k'\n",
        "  rollby = 0\n",
        "  height = cvs.h\n",
        "  for e in elements:\n",
        "    if e[0] in roll_control:\n",
        "      rollby = roll_control[e[0]](cvs, e)\n",
        "    elif e in colors:\n",
        "      color = colors[e]()\n",
        "    elif e[0] in height_control:\n",
        "      height = height_control[e[0]](cvs, e)\n",
        "    elif e[0] in interpret_curve:\n",
        "      mult = 1.0\n",
        "      if len(e) > 1:\n",
        "        split = e[1:].split(\",\",1)\n",
        "        if len(split) == 1:\n",
        "          mult = float(split[0])\n",
        "        else:\n",
        "          mult = [float(x) for x in split] \n",
        "      curve = interpret_curve[e[0]](curve, cvs, mult)\n",
        "  curve = cvs.roll(curve, rollby)\n",
        "  curve = cvs.yoffset(curve, yoffset)\n",
        "  if add_plot:\n",
        "    plt.plot(curve[0,:], curve[1,:], color)\n",
        "  return color, curve, height\n",
        "\n",
        "def minmax(minxy, maxxy, curve):\n",
        "  new_minxy = np.nanmin(curve, 1)\n",
        "  new_maxxy = np.nanmax(curve, 1)\n",
        "  minxy = np.nanmin(np.stack((minxy, new_minxy), 1),1)\n",
        "  maxxy = np.nanmax(np.stack((maxxy, new_maxxy), 1),1)\n",
        "  return minxy, maxxy\n",
        "\n",
        "def plot_outer_box(minxy, maxxy, color='k'):\n",
        "  plt.plot([minxy[0], minxy[0]], [minxy[1],maxxy[1]], color )\n",
        "  plt.plot([maxxy[0], maxxy[0]], [minxy[1],maxxy[1]], color )\n",
        "  plt.plot([minxy[0], maxxy[0]], [minxy[1],minxy[1]], color )\n",
        "  plt.plot([minxy[0], maxxy[0]], [maxxy[1],maxxy[1]], color )\n",
        "\n",
        "def interpret_tess(name, input, cvs, outputfile=True, ax=None):\n",
        "  minxy = np.ones((2)) * nan\n",
        "  maxxy = np.ones((2)) * nan\n",
        "  yoffset = 0.0\n",
        "  for line in input:\n",
        "    color, curve, height = interpret_line(yoffset, line, cvs)\n",
        "    minxy, maxxy = minmax(minxy, maxxy, curve)\n",
        "    yoffset -= height\n",
        "  if ax is not None:\n",
        "    plt.axis(ax)\n",
        "  else:\n",
        "    plt.axis('equal')\n",
        "  plt.axis('off')\n",
        "  \n",
        "  plot_outer_box(minxy, maxxy, 'k')\n",
        "  plt.savefig(name + \".svg\")\n",
        "  outputfilename = fixup_svg(name + \".svg\")\n",
        "  if outputfile:\n",
        "    files.download(outputfilename)"
      ],
      "metadata": {
        "id": "Au1SfO7ZB_iB"
      },
      "execution_count": 38,
      "outputs": []
    },
    {
      "cell_type": "markdown",
      "source": [
        "Ok, let's get to the tiling!"
      ],
      "metadata": {
        "id": "RJ9nA5rbZajO"
      }
    },
    {
      "cell_type": "code",
      "source": [
        "download = False\n",
        "ckernel = curve_kernel(60.0, curve_h_of_c=1.0, std=400)\n",
        "cvs = curves(ckernel)\n"
      ],
      "metadata": {
        "id": "j6TnAtaZZR1Q"
      },
      "execution_count": 39,
      "outputs": []
    },
    {
      "cell_type": "markdown",
      "source": [
        "# Chicken Wire!"
      ],
      "metadata": {
        "id": "UiykmDa-G8Z3"
      }
    },
    {
      "cell_type": "code",
      "source": [
        "# majorLength is 1\n",
        "def chickenWire(name = None, alphaDegrees=45, minorLen = 1, \n",
        "                numberX=4, numberY=4, save=False):\n",
        "  if name is None: name = \"cw_\"\n",
        "  ymult = sin(radians(alphaDegrees)) \n",
        "  xmult = cos(radians(alphaDegrees)) \n",
        "\n",
        "  h = minorLen/xmult\n",
        "\n",
        "  # normalize\n",
        "  ymult /= xmult\n",
        "  xmult = 1.0\n",
        "\n",
        "  pattern =  []\n",
        "  snip = \"red \"\n",
        "  for i in range(0, (2*numberX)-1):\n",
        "    snip += \" x{space} |{totalHeight} \"\n",
        "  snip += \" h{h} \"\n",
        "  pattern.append(snip.format( space = xmult, h=h, totalHeight = -2*h*(numberY)))\n",
        "\n",
        "  for i in range(0,numberY):\n",
        "    snip1 = \"blue \"\n",
        "    snip2 = \"blue \"\n",
        "    for i in range(0, numberX):\n",
        "      snip1 += \" s{xmult},{ymult} f{xmult},{ymult} \"\n",
        "      snip2 += \" f{xmult},{ymult} s{xmult},{ymult} \"\n",
        "    snip1 += \" h{h}\"\n",
        "    snip2 += \" h{h}\"\n",
        "    pattern.append(snip1.format(ymult=ymult,xmult=xmult, h=h))\n",
        "    pattern.append(snip2.format(ymult=ymult,xmult=xmult, h=h))\n",
        "    \n",
        "  name += \"deg{}_minor{}\".format(alphaDegrees, minorLen)\n",
        "  interpret_tess(name, pattern, cvs, save)\n",
        "\n",
        "# These all self-intersect even when only very partially folded.\n",
        "# number X doesn't matter\n",
        "chickenWire(alphaDegrees=60, minorLen = 1, numberX = 2, save=download)"
      ],
      "metadata": {
        "colab": {
          "base_uri": "https://localhost:8080/",
          "height": 248
        },
        "id": "iRQRQgGI3FVf",
        "outputId": "dd7444c7-49bb-4f1c-df2e-b51c4bdce3a0"
      },
      "execution_count": 40,
      "outputs": [
        {
          "output_type": "display_data",
          "data": {
            "text/plain": [
              "<Figure size 432x288 with 1 Axes>"
            ],
            "image/png": "[encoded data removed]"
          },
          "metadata": {
            "needs_background": "light"
          }
        }
      ]
    },
    {
      "cell_type": "markdown",
      "source": [
        "# Yoshimura Pattern"
      ],
      "metadata": {
        "id": "DYth-nYwHoqs"
      }
    },
    {
      "cell_type": "code",
      "source": [
        "def Yoshimura(name = None, alphaDegrees=45, \n",
        "                numberX=4, numberY=4, save=False):\n",
        "  if name is None: name = \"yosh_\"\n",
        "  ymult = sin(radians(alphaDegrees)) \n",
        "  xmult = cos(radians(alphaDegrees)) \n",
        "  \n",
        "  # normalize\n",
        "  ymult /= xmult\n",
        "  xmult = 1.0\n",
        "  \n",
        "  h = ymult\n",
        "\n",
        "  pattern =  []\n",
        "  snip = \"red \"\n",
        "  for i in range(0, (4*numberX)-1):\n",
        "    snip += \" x{space} |{totalHeight} \"\n",
        "  snip += \" h{h} \"\n",
        "  pattern.append(snip.format( space = 0.5*xmult, h=h, totalHeight = -h*(numberY)))\n",
        "\n",
        "  for i in range(0,numberY):\n",
        "    snip1 = \"blue \"\n",
        "    snip2 = \"blue \"\n",
        "    for i in range(0, numberX):\n",
        "      snip1 += \" s{xmult},{ymult} f{xmult},{ymult} \"\n",
        "      snip2 += \" f{xmult},{ymult} s{xmult},{ymult} \"\n",
        "    snip1 += \" h{h}\"\n",
        "    snip2 += \" h{h}\"\n",
        "    \n",
        "    pattern.append(snip1.format(ymult=ymult,xmult=xmult, h=0))\n",
        "    pattern.append(snip2.format(ymult=ymult,xmult=xmult, h=h))\n",
        "    \n",
        "  name += \"deg{}\".format(alphaDegrees)\n",
        "  interpret_tess(name, pattern, cvs, save)\n",
        "\n",
        "# Lower alpha values self-intersect very quickly, ok above 60\n",
        "Yoshimura(alphaDegrees=60, numberX = 2, save=False)\n",
        "\n"
      ],
      "metadata": {
        "colab": {
          "base_uri": "https://localhost:8080/",
          "height": 248
        },
        "id": "bg8gbB7gHo6b",
        "outputId": "c22a3166-f1fc-43bd-d899-12ac53f4c8f9"
      },
      "execution_count": 41,
      "outputs": [
        {
          "output_type": "display_data",
          "data": {
            "text/plain": [
              "<Figure size 432x288 with 1 Axes>"
            ],
            "image/png": "[encoded data removed]"
          },
          "metadata": {
            "needs_background": "light"
          }
        }
      ]
    },
    {
      "cell_type": "markdown",
      "source": [
        "# Miura-ori"
      ],
      "metadata": {
        "id": "eOpULUCUSAEH"
      }
    },
    {
      "cell_type": "code",
      "source": [
        "def Miura(name = None, alphaDegrees=45, minorLen=1,\n",
        "                numberX=4, numberY=4, save=False):\n",
        "  if name is None: name = \"miura_\"\n",
        "  ymult = sin(radians(alphaDegrees)) \n",
        "  xmult = cos(radians(alphaDegrees)) \n",
        "  \n",
        "  # normalize\n",
        "  ymult /= xmult\n",
        "  xmult = minorLen\n",
        "  \n",
        "  h = ymult\n",
        "\n",
        "  # Not showing mountain/valley folds, see shifting Miura for that one\n",
        "  pattern =  []\n",
        "  snip = \"red \"\n",
        "  for i in range(0, (2*numberX)-1):\n",
        "    snip += \" x{space} |{totalHeight} \"\n",
        "  snip += \" h{h} \"\n",
        "  pattern.append(snip.format( space = xmult, h=h, totalHeight = -h*(numberY)))\n",
        "\n",
        "  for i in range(0,numberY):\n",
        "    snip = \"blue \"\n",
        "    for i in range(0, numberX):\n",
        "      snip += \" s{xmult},{ymult} f{xmult},{ymult} \"\n",
        "    snip += \" h{h}\"\n",
        "  \n",
        "    pattern.append(snip.format(ymult=ymult,xmult=xmult, h=h))\n",
        "    \n",
        "  name += \"deg{}_minor{}\".format(alphaDegrees, minorLen)\n",
        "  interpret_tess(name, pattern, cvs, save)\n",
        "\n",
        "Miura(alphaDegrees=15, numberX = 2, save=download)\n",
        "plt.clf()\n",
        "Miura(alphaDegrees=30, numberX = 2, save=download)\n",
        "plt.clf()\n",
        "Miura(alphaDegrees=45, numberX = 2, save=download)\n",
        "plt.clf()\n",
        "Miura(alphaDegrees=60, numberX = 2, save=download)\n",
        "plt.clf()\n",
        "Miura(alphaDegrees=75, numberX = 2, save=download)\n",
        "\n",
        "\n"
      ],
      "metadata": {
        "colab": {
          "base_uri": "https://localhost:8080/",
          "height": 248
        },
        "id": "cHUAgymoR_bl",
        "outputId": "d8e05ca2-22c9-4fcb-f0e6-1e42c61cfbe1"
      },
      "execution_count": 42,
      "outputs": [
        {
          "output_type": "display_data",
          "data": {
            "text/plain": [
              "<IPython.core.display.Javascript object>"
            ],
            "application/javascript": [
              "\n",
              "    async function download(id, filename, size) {\n",
              "      if (!google.colab.kernel.accessAllowed) {\n",
              "        return;\n",
              "      }\n",
              "      const div = document.createElement('div');\n",
              "      const label = document.createElement('label');\n",
              "      label.textContent = `Downloading \"${filename}\": `;\n",
              "      div.appendChild(label);\n",
              "      const progress = document.createElement('progress');\n",
              "      progress.max = size;\n",
              "      div.appendChild(progress);\n",
              "      document.body.appendChild(div);\n",
              "\n",
              "      const buffers = [];\n",
              "      let downloaded = 0;\n",
              "\n",
              "      const channel = await google.colab.kernel.comms.open(id);\n",
              "      // Send a message to notify the kernel that we're ready.\n",
              "      channel.send({})\n",
              "\n",
              "      for await (const message of channel.messages) {\n",
              "        // Send a message to notify the kernel that we're ready.\n",
              "        channel.send({})\n",
              "        if (message.buffers) {\n",
              "          for (const buffer of message.buffers) {\n",
              "            buffers.push(buffer);\n",
              "            downloaded += buffer.byteLength;\n",
              "            progress.value = downloaded;\n",
              "          }\n",
              "        }\n",
              "      }\n",
              "      const blob = new Blob(buffers, {type: 'application/binary'});\n",
              "      const a = document.createElement('a');\n",
              "      a.href = window.URL.createObjectURL(blob);\n",
              "      a.download = filename;\n",
              "      div.appendChild(a);\n",
              "      a.click();\n",
              "      div.remove();\n",
              "    }\n",
              "  "
            ]
          },
          "metadata": {}
        },
        {
          "output_type": "display_data",
          "data": {
            "text/plain": [
              "<IPython.core.display.Javascript object>"
            ],
            "application/javascript": [
              "download(\"download_3169c0ac-5acd-440f-80b8-02aacded8084\", \"kt_miura_deg30_minor1.svg\", 3383)"
            ]
          },
          "metadata": {}
        },
        {
          "output_type": "display_data",
          "data": {
            "text/plain": [
              "<IPython.core.display.Javascript object>"
            ],
            "application/javascript": [
              "\n",
              "    async function download(id, filename, size) {\n",
              "      if (!google.colab.kernel.accessAllowed) {\n",
              "        return;\n",
              "      }\n",
              "      const div = document.createElement('div');\n",
              "      const label = document.createElement('label');\n",
              "      label.textContent = `Downloading \"${filename}\": `;\n",
              "      div.appendChild(label);\n",
              "      const progress = document.createElement('progress');\n",
              "      progress.max = size;\n",
              "      div.appendChild(progress);\n",
              "      document.body.appendChild(div);\n",
              "\n",
              "      const buffers = [];\n",
              "      let downloaded = 0;\n",
              "\n",
              "      const channel = await google.colab.kernel.comms.open(id);\n",
              "      // Send a message to notify the kernel that we're ready.\n",
              "      channel.send({})\n",
              "\n",
              "      for await (const message of channel.messages) {\n",
              "        // Send a message to notify the kernel that we're ready.\n",
              "        channel.send({})\n",
              "        if (message.buffers) {\n",
              "          for (const buffer of message.buffers) {\n",
              "            buffers.push(buffer);\n",
              "            downloaded += buffer.byteLength;\n",
              "            progress.value = downloaded;\n",
              "          }\n",
              "        }\n",
              "      }\n",
              "      const blob = new Blob(buffers, {type: 'application/binary'});\n",
              "      const a = document.createElement('a');\n",
              "      a.href = window.URL.createObjectURL(blob);\n",
              "      a.download = filename;\n",
              "      div.appendChild(a);\n",
              "      a.click();\n",
              "      div.remove();\n",
              "    }\n",
              "  "
            ]
          },
          "metadata": {}
        },
        {
          "output_type": "display_data",
          "data": {
            "text/plain": [
              "<IPython.core.display.Javascript object>"
            ],
            "application/javascript": [
              "download(\"download_762283d1-be88-4aad-9d41-4834761413d3\", \"kt_miura_deg45_minor1.svg\", 3409)"
            ]
          },
          "metadata": {}
        },
        {
          "output_type": "display_data",
          "data": {
            "text/plain": [
              "<IPython.core.display.Javascript object>"
            ],
            "application/javascript": [
              "\n",
              "    async function download(id, filename, size) {\n",
              "      if (!google.colab.kernel.accessAllowed) {\n",
              "        return;\n",
              "      }\n",
              "      const div = document.createElement('div');\n",
              "      const label = document.createElement('label');\n",
              "      label.textContent = `Downloading \"${filename}\": `;\n",
              "      div.appendChild(label);\n",
              "      const progress = document.createElement('progress');\n",
              "      progress.max = size;\n",
              "      div.appendChild(progress);\n",
              "      document.body.appendChild(div);\n",
              "\n",
              "      const buffers = [];\n",
              "      let downloaded = 0;\n",
              "\n",
              "      const channel = await google.colab.kernel.comms.open(id);\n",
              "      // Send a message to notify the kernel that we're ready.\n",
              "      channel.send({})\n",
              "\n",
              "      for await (const message of channel.messages) {\n",
              "        // Send a message to notify the kernel that we're ready.\n",
              "        channel.send({})\n",
              "        if (message.buffers) {\n",
              "          for (const buffer of message.buffers) {\n",
              "            buffers.push(buffer);\n",
              "            downloaded += buffer.byteLength;\n",
              "            progress.value = downloaded;\n",
              "          }\n",
              "        }\n",
              "      }\n",
              "      const blob = new Blob(buffers, {type: 'application/binary'});\n",
              "      const a = document.createElement('a');\n",
              "      a.href = window.URL.createObjectURL(blob);\n",
              "      a.download = filename;\n",
              "      div.appendChild(a);\n",
              "      a.click();\n",
              "      div.remove();\n",
              "    }\n",
              "  "
            ]
          },
          "metadata": {}
        },
        {
          "output_type": "display_data",
          "data": {
            "text/plain": [
              "<IPython.core.display.Javascript object>"
            ],
            "application/javascript": [
              "download(\"download_9c03d44f-e088-4335-9092-0270e3f58c66\", \"kt_miura_deg60_minor1.svg\", 3437)"
            ]
          },
          "metadata": {}
        },
        {
          "output_type": "display_data",
          "data": {
            "text/plain": [
              "<IPython.core.display.Javascript object>"
            ],
            "application/javascript": [
              "\n",
              "    async function download(id, filename, size) {\n",
              "      if (!google.colab.kernel.accessAllowed) {\n",
              "        return;\n",
              "      }\n",
              "      const div = document.createElement('div');\n",
              "      const label = document.createElement('label');\n",
              "      label.textContent = `Downloading \"${filename}\": `;\n",
              "      div.appendChild(label);\n",
              "      const progress = document.createElement('progress');\n",
              "      progress.max = size;\n",
              "      div.appendChild(progress);\n",
              "      document.body.appendChild(div);\n",
              "\n",
              "      const buffers = [];\n",
              "      let downloaded = 0;\n",
              "\n",
              "      const channel = await google.colab.kernel.comms.open(id);\n",
              "      // Send a message to notify the kernel that we're ready.\n",
              "      channel.send({})\n",
              "\n",
              "      for await (const message of channel.messages) {\n",
              "        // Send a message to notify the kernel that we're ready.\n",
              "        channel.send({})\n",
              "        if (message.buffers) {\n",
              "          for (const buffer of message.buffers) {\n",
              "            buffers.push(buffer);\n",
              "            downloaded += buffer.byteLength;\n",
              "            progress.value = downloaded;\n",
              "          }\n",
              "        }\n",
              "      }\n",
              "      const blob = new Blob(buffers, {type: 'application/binary'});\n",
              "      const a = document.createElement('a');\n",
              "      a.href = window.URL.createObjectURL(blob);\n",
              "      a.download = filename;\n",
              "      div.appendChild(a);\n",
              "      a.click();\n",
              "      div.remove();\n",
              "    }\n",
              "  "
            ]
          },
          "metadata": {}
        },
        {
          "output_type": "display_data",
          "data": {
            "text/plain": [
              "<IPython.core.display.Javascript object>"
            ],
            "application/javascript": [
              "download(\"download_c1f7b4c6-2645-4a6f-96e0-306c32f569f2\", \"kt_miura_deg75_minor1.svg\", 3437)"
            ]
          },
          "metadata": {}
        },
        {
          "output_type": "display_data",
          "data": {
            "text/plain": [
              "<Figure size 432x288 with 1 Axes>"
            ],
            "image/png": "[encoded data removed]"
          },
          "metadata": {
            "needs_background": "light"
          }
        }
      ]
    },
    {
      "cell_type": "markdown",
      "source": [
        "# Generalized or Shifting Miura"
      ],
      "metadata": {
        "id": "Ua562_7vVDS-"
      }
    },
    {
      "cell_type": "code",
      "source": [
        "def MiuraShift(name = None, alphaDegrees=[45, 15, 45], minorLen=1,\n",
        "                numberX=4, save=False):\n",
        "  if name is None: name = \"miurashift_\"\n",
        "\n",
        "\n",
        "  pattern =  []\n",
        "  prevh = 0\n",
        "\n",
        "  count = 0\n",
        "\n",
        "  for alpha in alphaDegrees:\n",
        "    ymult = sin(radians(alpha)) \n",
        "    xmult = cos(radians(alpha)) \n",
        "\n",
        "    # normalize\n",
        "    ymult /= xmult\n",
        "    xmult = 1.0\n",
        "    h = ymult*minorLen\n",
        "\n",
        "    # have to move down the height of the new line \n",
        "    snip = \"red x h{h} \" #causes a Nan line warning\n",
        "    pattern.append(snip.format(h=h-prevh))\n",
        "\n",
        "    if count % 2 == 0:\n",
        "      snip = \"red \"\n",
        "    else:\n",
        "      snip = \"blue \"\n",
        "\n",
        "    for i in range(0, (2*numberX)-1):\n",
        "      snip += \" x{space} |{totalHeight} \"\n",
        "    snip += \" h{h} \"\n",
        "    pattern.append(snip.format( space = xmult, h=0, totalHeight = ymult))\n",
        "\n",
        "    if count % 2 == 0:\n",
        "      snip = \"blue \"\n",
        "    else:\n",
        "      snip = \"red \"\n",
        "    for i in range(0, numberX):\n",
        "      snip += \" s{xmult},{ymult} f{xmult},{ymult} \"\n",
        "    snip += \" h{h}\"    \n",
        "    pattern.append(snip.format(ymult=ymult,xmult=xmult, h=h))\n",
        "\n",
        "    prevh = h\n",
        "    count += 1\n",
        "      \n",
        "  name += \"deg{}_minor{}\".format(alphaDegrees, minorLen)\n",
        "  interpret_tess(name, pattern, cvs, save)\n",
        "\n",
        "MiuraShift(alphaDegrees=[45, 45, 40, 40, 35, 35, 30, 30, 25, 25, 20, 20, 15, 15, 10, 10, 5], numberX = 6, save=True)\n",
        "\n",
        "\n"
      ],
      "metadata": {
        "colab": {
          "base_uri": "https://localhost:8080/",
          "height": 387
        },
        "id": "OTEDT_vdVIm7",
        "outputId": "95875ab4-20ce-4674-9e13-68bd49073383"
      },
      "execution_count": 84,
      "outputs": [
        {
          "output_type": "stream",
          "name": "stderr",
          "text": [
            "<ipython-input-38-e6295f80d620>:178: RuntimeWarning: All-NaN slice encountered\n",
            "  new_minxy = np.nanmin(curve, 1)\n",
            "<ipython-input-38-e6295f80d620>:179: RuntimeWarning: All-NaN slice encountered\n",
            "  new_maxxy = np.nanmax(curve, 1)\n",
            "<ipython-input-38-e6295f80d620>:180: RuntimeWarning: All-NaN slice encountered\n",
            "  minxy = np.nanmin(np.stack((minxy, new_minxy), 1),1)\n",
            "<ipython-input-38-e6295f80d620>:181: RuntimeWarning: All-NaN slice encountered\n",
            "  maxxy = np.nanmax(np.stack((maxxy, new_maxxy), 1),1)\n"
          ]
        },
        {
          "output_type": "display_data",
          "data": {
            "text/plain": [
              "<IPython.core.display.Javascript object>"
            ],
            "application/javascript": [
              "\n",
              "    async function download(id, filename, size) {\n",
              "      if (!google.colab.kernel.accessAllowed) {\n",
              "        return;\n",
              "      }\n",
              "      const div = document.createElement('div');\n",
              "      const label = document.createElement('label');\n",
              "      label.textContent = `Downloading \"${filename}\": `;\n",
              "      div.appendChild(label);\n",
              "      const progress = document.createElement('progress');\n",
              "      progress.max = size;\n",
              "      div.appendChild(progress);\n",
              "      document.body.appendChild(div);\n",
              "\n",
              "      const buffers = [];\n",
              "      let downloaded = 0;\n",
              "\n",
              "      const channel = await google.colab.kernel.comms.open(id);\n",
              "      // Send a message to notify the kernel that we're ready.\n",
              "      channel.send({})\n",
              "\n",
              "      for await (const message of channel.messages) {\n",
              "        // Send a message to notify the kernel that we're ready.\n",
              "        channel.send({})\n",
              "        if (message.buffers) {\n",
              "          for (const buffer of message.buffers) {\n",
              "            buffers.push(buffer);\n",
              "            downloaded += buffer.byteLength;\n",
              "            progress.value = downloaded;\n",
              "          }\n",
              "        }\n",
              "      }\n",
              "      const blob = new Blob(buffers, {type: 'application/binary'});\n",
              "      const a = document.createElement('a');\n",
              "      a.href = window.URL.createObjectURL(blob);\n",
              "      a.download = filename;\n",
              "      div.appendChild(a);\n",
              "      a.click();\n",
              "      div.remove();\n",
              "    }\n",
              "  "
            ]
          },
          "metadata": {}
        },
        {
          "output_type": "display_data",
          "data": {
            "text/plain": [
              "<IPython.core.display.Javascript object>"
            ],
            "application/javascript": [
              "download(\"download_916d2fe6-4732-49b3-8663-0e959d4950b2\", \"kt_miurashift_deg[45, 45, 40, 40, 35, 35, 30, 30, 25, 25, 20, 20, 15, 15, 10, 10, 5]_minor1.svg\", 23672)"
            ]
          },
          "metadata": {}
        },
        {
          "output_type": "display_data",
          "data": {
            "text/plain": [
              "<Figure size 432x288 with 1 Axes>"
            ],
            "image/png": "[encoded data removed]"
          },
          "metadata": {
            "needs_background": "light"
          }
        }
      ]
    },
    {
      "cell_type": "code",
      "source": [
        "name = \"Huffman_1_.5\"\n",
        "\n",
        "xmult=1\n",
        "ymult=1\n",
        "h = 1\n",
        "number = 4\n",
        "space = 0.5\n",
        "\n",
        "\n",
        "pattern =  []\n",
        "#pattern.append(\"red  x{space} |{number} x{space} |{number} x{space} |{number} \\\n",
        "#                      x{space} |{number} x{space} |{number} x{space} |{number} \\\n",
        "#                      x{space} |{number} x{space}  h1\".format(space=space, number=-(number+1)))\n",
        "\n",
        "for i in range(0,number):\n",
        "  pattern.append(\"blue s{xmult},{ymult} f{xmult},{ymult} \\\n",
        "                  s{xmult},{ymult} f{xmult},{ymult}  h{h}\"\n",
        "                  .format(ymult=ymult,xmult=xmult, h=0.5))\n",
        "  \n",
        "  pattern.append(\"blue f{xmult},{ymult} \\\n",
        "                  s{xmult},{ymult} f{xmult},{ymult} \\\n",
        "                  s{xmult},{ymult} h{h}\"\n",
        "                  .format(ymult=ymult/2,xmult=xmult, h=h))      \n",
        "\n",
        "interpret_tess(name, pattern, cvs, False)\n"
      ],
      "metadata": {
        "id": "15CXj4jz6Hi7",
        "colab": {
          "base_uri": "https://localhost:8080/",
          "height": 248
        },
        "outputId": "43e83db6-276d-41fe-e582-c026a832d51b"
      },
      "execution_count": 85,
      "outputs": [
        {
          "output_type": "display_data",
          "data": {
            "text/plain": [
              "<Figure size 432x288 with 1 Axes>"
            ],
            "image/png": "[encoded data removed]"
          },
          "metadata": {
            "needs_background": "light"
          }
        }
      ]
    },
    {
      "cell_type": "code",
      "source": [
        "name = \"Mars_broken\"\n",
        "test = algebraic_kernel(angle= 180, N=200, curve_h_of_c=1.0)\n",
        "cvs = curves(test)\n",
        "\n",
        "xmult=1\n",
        "ymult=0.25\n",
        "h = 1\n",
        "number = 4\n",
        "space = 0.5\n",
        "\n",
        "\n",
        "pattern =  []\n",
        "#pattern.append(\"red  x{space} |{number} x{space} |{number} x{space} |{number} \\\n",
        "#                      x{space} |{number} x{space} |{number} x{space} |{number} \\\n",
        "#                      x{space} |{number} x{space}  h1\".format(space=space, number=-(number+1)))\n",
        "\n",
        "for i in range(0,number):\n",
        "\n",
        "  snip = \"f{xmult},{ymult} \\\n",
        "                  s{xmult},{ymult} f{xmult},{ymult} \\\n",
        "                  s{xmult},{ymult}\".format(ymult=ymult,xmult=xmult)\n",
        "\n",
        "  pattern.append(\"blue \" + snip + \" h{h}\".format(h=h))\n",
        "                 \n",
        "\n",
        "snip = \"f{xmult},{ymult} \\\n",
        "                s{xmult},{ymult} f{xmult},{ymult} \\\n",
        "                s{xmult},{ymult} f{xmult},{ymult} h{h}\".format(ymult=ymult,xmult=xmult, h=h)\n",
        "  \n",
        "pattern.append(\"red  \" + snip + \"  r90\" )\n",
        "\n",
        "print(pattern)\n",
        "\n",
        "interpret_tess(name, pattern, cvs, True)\n"
      ],
      "metadata": {
        "id": "CRgQ4dfE6GIN",
        "colab": {
          "base_uri": "https://localhost:8080/",
          "height": 285
        },
        "outputId": "88ef0839-2d83-4eb3-e4b2-f6dddc01f031"
      },
      "execution_count": null,
      "outputs": [
        {
          "output_type": "stream",
          "name": "stdout",
          "text": [
            "['blue f1,0.25                   s1,0.25 f1,0.25                   s1,0.25 h1', 'blue f1,0.25                   s1,0.25 f1,0.25                   s1,0.25 h1', 'blue f1,0.25                   s1,0.25 f1,0.25                   s1,0.25 h1', 'blue f1,0.25                   s1,0.25 f1,0.25                   s1,0.25 h1', 'red  f1,0.25                 s1,0.25 f1,0.25                 s1,0.25 f1,0.25 h1  r90']\n"
          ]
        },
        {
          "output_type": "display_data",
          "data": {
            "text/plain": [
              "<IPython.core.display.Javascript object>"
            ],
            "application/javascript": [
              "\n",
              "    async function download(id, filename, size) {\n",
              "      if (!google.colab.kernel.accessAllowed) {\n",
              "        return;\n",
              "      }\n",
              "      const div = document.createElement('div');\n",
              "      const label = document.createElement('label');\n",
              "      label.textContent = `Downloading \"${filename}\": `;\n",
              "      div.appendChild(label);\n",
              "      const progress = document.createElement('progress');\n",
              "      progress.max = size;\n",
              "      div.appendChild(progress);\n",
              "      document.body.appendChild(div);\n",
              "\n",
              "      const buffers = [];\n",
              "      let downloaded = 0;\n",
              "\n",
              "      const channel = await google.colab.kernel.comms.open(id);\n",
              "      // Send a message to notify the kernel that we're ready.\n",
              "      channel.send({})\n",
              "\n",
              "      for await (const message of channel.messages) {\n",
              "        // Send a message to notify the kernel that we're ready.\n",
              "        channel.send({})\n",
              "        if (message.buffers) {\n",
              "          for (const buffer of message.buffers) {\n",
              "            buffers.push(buffer);\n",
              "            downloaded += buffer.byteLength;\n",
              "            progress.value = downloaded;\n",
              "          }\n",
              "        }\n",
              "      }\n",
              "      const blob = new Blob(buffers, {type: 'application/binary'});\n",
              "      const a = document.createElement('a');\n",
              "      a.href = window.URL.createObjectURL(blob);\n",
              "      a.download = filename;\n",
              "      div.appendChild(a);\n",
              "      a.click();\n",
              "      div.remove();\n",
              "    }\n",
              "  "
            ]
          },
          "metadata": {}
        },
        {
          "output_type": "display_data",
          "data": {
            "text/plain": [
              "<IPython.core.display.Javascript object>"
            ],
            "application/javascript": [
              "download(\"download_1b5787a5-2714-4de3-8b02-7cc0d3fa1f86\", \"kt_Mars_broken.svg\", 3186)"
            ]
          },
          "metadata": {}
        },
        {
          "output_type": "display_data",
          "data": {
            "text/plain": [
              "<Figure size 432x288 with 1 Axes>"
            ],
            "image/png": "[encoded data removed]"
          },
          "metadata": {
            "needs_background": "light"
          }
        }
      ]
    },
    {
      "cell_type": "code",
      "source": [
        " \n",
        "def rotate_snip(snip=\"A A\", angle=-45, cr = None):\n",
        "  pattern = \"\"\n",
        "  total_angle = 0\n",
        "  if cr is None:\n",
        "    cr = sum(map(str.isalpha, snip)) * np.cos(np.deg2rad(angle))\n",
        "  cr = str(round(cr, 2))\n",
        "  while (total_angle < 360):\n",
        "    pattern += snip + \" r\" + str(glane) + \" x-\" + cr + \" \"\n",
        "    total_angle += abs(angle)\n",
        "  return pattern"
      ],
      "metadata": {
        "id": "oWtCR1Gd5nIT"
      },
      "execution_count": null,
      "outputs": []
    },
    {
      "cell_type": "code",
      "source": [],
      "metadata": {
        "id": "SgTN7dpt5kOu"
      },
      "execution_count": null,
      "outputs": []
    },
    {
      "cell_type": "code",
      "source": [],
      "metadata": {
        "id": "gtkWu7rC5ec9"
      },
      "execution_count": null,
      "outputs": []
    },
    {
      "cell_type": "code",
      "source": [],
      "metadata": {
        "id": "MJ_wtD1t5OzW"
      },
      "execution_count": null,
      "outputs": []
    },
    {
      "cell_type": "code",
      "source": [],
      "metadata": {
        "id": "NpsG5rg_4W_Z"
      },
      "execution_count": null,
      "outputs": []
    },
    {
      "cell_type": "code",
      "source": [],
      "metadata": {
        "id": "wlSGcsWvuOVM"
      },
      "execution_count": null,
      "outputs": []
    },
    {
      "cell_type": "code",
      "source": [],
      "metadata": {
        "id": "-Ld_EFZ2qoNR"
      },
      "execution_count": null,
      "outputs": []
    },
    {
      "cell_type": "code",
      "source": [],
      "metadata": {
        "id": "hppHQrpdqadp"
      },
      "execution_count": null,
      "outputs": []
    },
    {
      "cell_type": "code",
      "source": [],
      "metadata": {
        "id": "2XH_YCIPp3Pc"
      },
      "execution_count": null,
      "outputs": []
    },
    {
      "cell_type": "code",
      "source": [],
      "metadata": {
        "id": "TqLXaEvhpmAF"
      },
      "execution_count": null,
      "outputs": []
    },
    {
      "cell_type": "code",
      "source": [],
      "metadata": {
        "id": "nKXIwje-pNDP"
      },
      "execution_count": null,
      "outputs": []
    },
    {
      "cell_type": "code",
      "source": [],
      "metadata": {
        "id": "Cs7e9t-EpJAi"
      },
      "execution_count": null,
      "outputs": []
    },
    {
      "cell_type": "code",
      "source": [],
      "metadata": {
        "id": "W-605XntpEWZ"
      },
      "execution_count": null,
      "outputs": []
    },
    {
      "cell_type": "code",
      "source": [],
      "metadata": {
        "id": "4WP31ONvo3ii"
      },
      "execution_count": null,
      "outputs": []
    },
    {
      "cell_type": "code",
      "source": [],
      "metadata": {
        "id": "S_JVw4JeowLa"
      },
      "execution_count": null,
      "outputs": []
    },
    {
      "cell_type": "code",
      "source": [],
      "metadata": {
        "id": "ZISPqXBZn4m8"
      },
      "execution_count": null,
      "outputs": []
    },
    {
      "cell_type": "code",
      "source": [],
      "metadata": {
        "id": "Xh-fy9xPnrXo"
      },
      "execution_count": null,
      "outputs": []
    },
    {
      "cell_type": "code",
      "source": [],
      "metadata": {
        "id": "dubiaRBgnnEz"
      },
      "execution_count": null,
      "outputs": []
    },
    {
      "cell_type": "code",
      "source": [],
      "metadata": {
        "id": "cAtJVTkYncEx"
      },
      "execution_count": null,
      "outputs": []
    },
    {
      "cell_type": "code",
      "source": [],
      "metadata": {
        "id": "MBukPrLKnamt"
      },
      "execution_count": null,
      "outputs": []
    },
    {
      "cell_type": "code",
      "source": [],
      "metadata": {
        "id": "crniYvCYnLaE"
      },
      "execution_count": null,
      "outputs": []
    },
    {
      "cell_type": "code",
      "source": [],
      "metadata": {
        "id": "21bWLF_ynGgm"
      },
      "execution_count": null,
      "outputs": []
    },
    {
      "cell_type": "code",
      "source": [],
      "metadata": {
        "id": "3zguZJ5bm9bb"
      },
      "execution_count": null,
      "outputs": []
    },
    {
      "cell_type": "code",
      "source": [],
      "metadata": {
        "id": "vJldJfRLm1kU"
      },
      "execution_count": null,
      "outputs": []
    },
    {
      "cell_type": "code",
      "source": [],
      "metadata": {
        "id": "Mo4vZhW0meq_"
      },
      "execution_count": null,
      "outputs": []
    },
    {
      "cell_type": "code",
      "source": [],
      "metadata": {
        "id": "z2TLhlwXlTTU"
      },
      "execution_count": null,
      "outputs": []
    }
  ]
}