{
  "nbformat": 4,
  "nbformat_minor": 0,
  "metadata": {
    "colab": {
      "provenance": [],
      "authorship_tag": "ABX9TyOLkD3ecuMJGpuF2RGSOICF",
      "include_colab_link": true
    },
    "kernelspec": {
      "name": "python3",
      "display_name": "Python 3"
    },
    "language_info": {
      "name": "python"
    }
  },
  "cells": [
    {
      "cell_type": "markdown",
      "metadata": {
        "id": "view-in-github",
        "colab_type": "text"
      },
      "source": [
        "<a href=\"https://colab.research.google.com/github/eleciawhite/origami/blob/main/LangTiling/YoshiSines.ipynb\" target=\"_parent\"><img src=\"https://colab.research.google.com/assets/colab-badge.svg\" alt=\"Open In Colab\"/></a>"
      ]
    },
    {
      "cell_type": "markdown",
      "source": [
        "This script explores how origami can be made of Yoshimura patterns and curved crease. \n",
        "\n",
        "You may want to look at my [KateTess collab](https://colab.research.google.com/drive/1fzYIjLuT9UMiUwyxtAOIls0isZT1IvX4?usp=sharing) first as there is some overlap in functions and that is better documented. "
      ],
      "metadata": {
        "id": "b-RzlivYOIZK"
      }
    },
    {
      "cell_type": "code",
      "execution_count": null,
      "metadata": {
        "id": "p56Kzq2A31to"
      },
      "outputs": [],
      "source": [
        "from math import *\n",
        "import matplotlib.pyplot as plt\n",
        "import numpy as np\n",
        "from matplotlib import collections  as mc\n",
        "from matplotlib.patches import Ellipse, Wedge, Polygon\n",
        "from matplotlib.path import Path\n",
        "import matplotlib\n",
        "import itertools\n",
        "\n",
        "from scipy.spatial import distance\n",
        "from scipy import signal\n",
        "import scipy\n",
        "from google.colab import files\n"
      ]
    },
    {
      "cell_type": "markdown",
      "source": [
        "I want to be able to use the Amanda Ghassaei's [Origami Simulator](https://origamisimulator.org/) to test the output of the script. \n",
        "\n",
        "In this next block, I'm fixing up the matplotlib output to be more compatible with the simulator."
      ],
      "metadata": {
        "id": "t72uLZWa4FbH"
      }
    },
    {
      "cell_type": "code",
      "source": [
        "indef = False\n",
        "def rm_clippath(line):\n",
        "  global indef\n",
        "\n",
        "  if not indef:\n",
        "    f = line.find('<clipPath')\n",
        "  else:\n",
        "    f = line.find('</clipPath>')\n",
        "  if f >= 0:\n",
        "    indef = not indef\n",
        "    return \"\"\n",
        "  if indef: return \"\"\n",
        "\n",
        "  f = line.find('clip-path')\n",
        "  if (f < 0): return line\n",
        "  fc = line.find('\"', f) + 1\n",
        "  fe = line.find('\"', fc) +1\n",
        "  return line[:f]+line[fe:]\n",
        "\n",
        "def fixup_svg(infile):\n",
        "  global indef\n",
        "  indef = False\n",
        "  outfile = \"kt_\"+ infile\n",
        "  replace_list = [['fill:none;',\"\"], ['style=\"fill:#ffffff;\"/>','style=\"fill:none;stroke:#000000\"/>' ]]\n",
        "  with open(infile) as fin, open(outfile, \"w+\") as fout:\n",
        "    for line in fin:\n",
        "      line = rm_clippath(line)\n",
        "      for pair in replace_list:\n",
        "        line = line.replace(pair[0], pair[1])\n",
        "      fout.write(line)\n",
        "  return outfile\n",
        "\n",
        "def save_fig(name):\n",
        "#  plt.axis('equal') # sometimes you need this but you can put it before save_fig\n",
        "  plt.axis('off')\n",
        "  plt.savefig(name + \".svg\", bbox_inches = 'tight')\n",
        "  outputfilename = fixup_svg(name + \".svg\")\n",
        "  files.download(outputfilename)"
      ],
      "metadata": {
        "id": "q_XWgPE536fO"
      },
      "execution_count": null,
      "outputs": []
    },
    {
      "cell_type": "code",
      "source": [
        "def rotate(p, origin=(0, 0), degrees=0):\n",
        "    angle = np.deg2rad(degrees)\n",
        "    R = np.array([[np.cos(angle), -np.sin(angle)],\n",
        "                  [np.sin(angle),  np.cos(angle)]])\n",
        "    o = np.atleast_2d(origin)\n",
        "    p = np.atleast_2d(p)\n",
        "    return np.squeeze((R @ (p.T-o.T) + o.T).T)"
      ],
      "metadata": {
        "id": "oTI3azIgsGIY"
      },
      "execution_count": null,
      "outputs": []
    },
    {
      "cell_type": "markdown",
      "source": [
        "Yoshimura patterns ([see Schwarz Lantern on Wikipedia](https://en.wikipedia.org/w/index.php?title=Yoshimura_fold&redirect=yes)) are related to Miura Ori patterns ([Wiki](https://en.wikipedia.org/wiki/Miura_fold)). With straight line creases, they can be folded flat and expanded like the solar panels of a space craft.\n",
        "\n",
        "When you add curves to this, the flat fold goes away but the pattern is lovely.\n",
        "\n",
        "This function only creates one set of lines but below are some to stack more lines."
      ],
      "metadata": {
        "id": "yfFzxjkD4s_E"
      }
    },
    {
      "cell_type": "code",
      "source": [
        "# Yoshimura and sines\n",
        "def yoshimuraSine(name, start, horizLen, freq, angleDeg, amplitude, \n",
        "                  verticalOffset = 0,\n",
        "                  numpoints=100, normalize = True, \n",
        "                  roll = 0, save = False):\n",
        "  angle = radians(angleDeg)\n",
        "  diagLen = 2.0*np.sin(angle)*horizLen/np.sin(np.pi - 2.0 * angle)\n",
        "  height = (horizLen/2.0)*tan(angle)\n",
        "\n",
        "  horizT = np.linspace(start, start + horizLen, numpoints)\n",
        "  diagT = np.linspace(start, start + diagLen, numpoints)\n",
        "\n",
        "  horiz = amplitude * np.sin( freq * horizT)\n",
        "  \n",
        "  diagF = freq\n",
        "  if normalize:\n",
        "    diagF = freq * ( diagLen / horizLen ) \n",
        "  diag = amplitude * np.sin( diagF * diagT )\n",
        "\n",
        "\n",
        "  plt.plot(horizT + roll, horiz + verticalOffset, 'r') \n",
        "  plt.plot(horizT + roll, horiz + verticalOffset + height, 'r') \n",
        "\n",
        "  diag = np.hstack((np.vstack(diagT), np.vstack(diag)))\n",
        "  origin=(diag[0])\n",
        "  diagUp = rotate(diag, origin=origin, degrees=angleDeg)\n",
        "  diagDown = rotate(diag, origin=origin, degrees=-angleDeg)\n",
        "  plt.plot(diagUp[:,0] + roll, diagUp[:, 1] + verticalOffset, 'b') \n",
        "  plt.plot(diagDown[:,0] + roll, diagDown[:, 1] + verticalOffset, 'b') \n",
        "\n",
        "  ax = plt.gca()\n",
        "  ax.set_aspect('equal', adjustable='box')\n",
        "  plt.axis('off')\n",
        "\n",
        "  if (save):\n",
        "    save_fig(\"yoshi_{}_deg{}_amp{}_freq{}\".\n",
        "           format(name,angleDeg, amplitude, freq))\n",
        "    \n",
        "  return (2*height) + verticalOffset"
      ],
      "metadata": {
        "id": "c1r5T7wv5a6w"
      },
      "execution_count": null,
      "outputs": []
    },
    {
      "cell_type": "markdown",
      "source": [
        "For pics of the following, see [Cricut Project Yoshimura Sines 1](https://design.cricut.com/landing/project-detail/63de9a7ff77e7d594e5ef648)."
      ],
      "metadata": {
        "id": "kn2Rntz37F5j"
      }
    },
    {
      "cell_type": "code",
      "source": [
        "download = False\n",
        "yoshimuraSine(\"0off_2pi_n_\", start = 0, horizLen = 2*np.pi, \n",
        "                          freq = 2, angleDeg = 10, amplitude = 0.3, \n",
        "                          normalize=False, save=download)"
      ],
      "metadata": {
        "colab": {
          "base_uri": "https://localhost:8080/",
          "height": 177
        },
        "id": "49HFTFFL1tbb",
        "outputId": "9c3327ab-4e11-4b52-d95c-78ff8151f85d"
      },
      "execution_count": null,
      "outputs": [
        {
          "output_type": "execute_result",
          "data": {
            "text/plain": [
              "1.1078950944467654"
            ]
          },
          "metadata": {},
          "execution_count": 6
        },
        {
          "output_type": "display_data",
          "data": {
            "text/plain": [
              "<Figure size 432x288 with 1 Axes>"
            ],
            "image/png": "[encoded data removed]"
          },
          "metadata": {
            "needs_background": "light"
          }
        }
      ]
    },
    {
      "cell_type": "code",
      "source": [
        "yoshimuraSine(\"0off_2pi_n\", 0, 1*np.pi, 2, 34, 0.25, normalize=True, save=download)"
      ],
      "metadata": {
        "id": "c8MRG8AftR3b",
        "colab": {
          "base_uri": "https://localhost:8080/",
          "height": 265
        },
        "outputId": "f4d8d133-adb9-44a7-aaa0-5ae542fe0ba8"
      },
      "execution_count": null,
      "outputs": [
        {
          "output_type": "execute_result",
          "data": {
            "text/plain": [
              "2.119031001295915"
            ]
          },
          "metadata": {},
          "execution_count": 7
        },
        {
          "output_type": "display_data",
          "data": {
            "text/plain": [
              "<Figure size 432x288 with 1 Axes>"
            ],
            "image/png": "[encoded data removed]"
          },
          "metadata": {
            "needs_background": "light"
          }
        }
      ]
    },
    {
      "cell_type": "markdown",
      "source": [
        "Stack some of those on top of each other to get a better picture. Allow for a change in where the pattern starts..."
      ],
      "metadata": {
        "id": "KNH2eo9lNGtL"
      }
    },
    {
      "cell_type": "code",
      "source": [
        "def shiftingYoshiSines(name, start, hlen, hshift, iterations, \n",
        "                       freq, angleDeg, amplitude, normalize,\n",
        "                       roll = 0,\n",
        "                       save = True):\n",
        "  verticalOffset = 0\n",
        "\n",
        "  while iterations > 0:\n",
        "    horizLen = hlen + iterations * hshift \n",
        "    verticalOffset = yoshimuraSine(\"\", start = start, horizLen = horizLen, \n",
        "                          freq = freq, angleDeg = angleDeg, \n",
        "                          amplitude = amplitude, \n",
        "                          verticalOffset = verticalOffset,\n",
        "                          normalize=normalize, roll = roll, save=False)\n",
        "    start = (start + hshift)\n",
        "    iterations -= 1\n",
        "  # end while\n",
        "  start -= hshift # undo the last one\n",
        "  plt.xlim([start, horizLen+start])\n",
        "  ax = plt.gca()\n",
        "  ax.set_aspect('equal', adjustable='box')\n",
        "  if (save): \n",
        "    save_fig(\"yoshiShift_{}_off{}_deg{}_amp{}_freq{}_norm{}\".\n",
        "           format(name, round(hshift,2),\n",
        "                  angleDeg, amplitude, freq, normalize))\n",
        "\n"
      ],
      "metadata": {
        "id": "A-PNU5vML8yG"
      },
      "execution_count": null,
      "outputs": []
    },
    {
      "cell_type": "markdown",
      "source": [
        "Before I show the shifting, make a normal one with no offset"
      ],
      "metadata": {
        "id": "zv5Oi4xgOGtH"
      }
    },
    {
      "cell_type": "code",
      "source": [
        "download = False\n",
        "shiftingYoshiSines(\"\", 0, 2*np.pi, 0, iterations = 4, \n",
        "                  freq = 2, angleDeg = 10, amplitude = 0.3,\n",
        "                   normalize=False, save=download)\n"
      ],
      "metadata": {
        "id": "v_zCtV4VMZ-6",
        "colab": {
          "base_uri": "https://localhost:8080/",
          "height": 248
        },
        "outputId": "c268fbf9-7fd6-40c7-dd0d-20fea2f661dd"
      },
      "execution_count": null,
      "outputs": [
        {
          "output_type": "display_data",
          "data": {
            "text/plain": [
              "<Figure size 432x288 with 1 Axes>"
            ],
            "image/png": "[encoded data removed]"
          },
          "metadata": {
            "needs_background": "light"
          }
        }
      ]
    },
    {
      "cell_type": "code",
      "source": [
        "download = False\n",
        "shiftingYoshiSines(\"straight_\", 0, 4*np.pi, 0, iterations = 4, \n",
        "                  freq = 10, angleDeg = 60, amplitude = 0,\n",
        "                   normalize=False, save=download)\n"
      ],
      "metadata": {
        "colab": {
          "base_uri": "https://localhost:8080/",
          "height": 248
        },
        "id": "ckwEIewvTyRd",
        "outputId": "e0a22eeb-4498-4416-b2e3-73073f91413b"
      },
      "execution_count": null,
      "outputs": [
        {
          "output_type": "display_data",
          "data": {
            "text/plain": [
              "<Figure size 432x288 with 1 Axes>"
            ],
            "image/png": "[encoded data removed]"
          },
          "metadata": {
            "needs_background": "light"
          }
        }
      ]
    },
    {
      "cell_type": "markdown",
      "source": [
        "Another one that came out pretty neat... it looks like acorns and folds into an arch like a straightline version of Yoshimura folds."
      ],
      "metadata": {
        "id": "x9snApvmlrn6"
      }
    },
    {
      "cell_type": "code",
      "source": [
        "download = False\n",
        "# kt_yoshi_0off_2pi_n__deg34_amp0.25_freq1\n",
        "shiftingYoshiSines(\"\", start = 0, hlen = 2*np.pi, hshift = 0, iterations = 4, \n",
        "                  freq = 1, angleDeg = 35.5, amplitude = 0.25,\n",
        "                   normalize=True, save=download)\n"
      ],
      "metadata": {
        "colab": {
          "base_uri": "https://localhost:8080/",
          "height": 248
        },
        "id": "yF16Z7A7lsZ2",
        "outputId": "1296e562-f56d-4898-8ab5-a25e53ddfbd5"
      },
      "execution_count": null,
      "outputs": [
        {
          "output_type": "display_data",
          "data": {
            "text/plain": [
              "<Figure size 432x288 with 1 Axes>"
            ],
            "image/png": "[encoded data removed]"
          },
          "metadata": {
            "needs_background": "light"
          }
        }
      ]
    },
    {
      "cell_type": "markdown",
      "source": [
        "Of course, this can be used to make straight line Yoshimura patterns as well."
      ],
      "metadata": {
        "id": "JjO6Ou7gPl7F"
      }
    },
    {
      "cell_type": "code",
      "source": [
        "shiftingYoshiSines(\"straight\", start = 0, hlen = 1*np.pi, hshift = 0, iterations = 8, \n",
        "                  freq = 1, angleDeg = 20, amplitude = 0,\n",
        "                   normalize=False, save=download)\n"
      ],
      "metadata": {
        "id": "8ECPvTAHUpaI"
      },
      "execution_count": null,
      "outputs": []
    },
    {
      "cell_type": "markdown",
      "source": [
        "Let's get shifty! The crosspoint isn't perfect here. And the offset doesn't make as much difference as expected so I think there are some bugs above.\n",
        "\n",
        "The blue moves but the red doesn't... hmmm... that wasn't what I was goingn for but it is kind of interesting...\n",
        "\n",
        "> Indented block\n",
        "\n"
      ],
      "metadata": {
        "id": "-hyhkiziUrFa"
      }
    },
    {
      "cell_type": "code",
      "source": [
        "download = True\n",
        "shiftingYoshiSines(\"x\", 0, 4*np.pi, 0.5*np.pi, iterations = 8, \n",
        "                  freq = 0.5, angleDeg = 10, amplitude = 0.4,\n",
        "                   normalize=False, save=download)\n",
        "\n"
      ],
      "metadata": {
        "colab": {
          "base_uri": "https://localhost:8080/",
          "height": 248
        },
        "id": "7yg0LspNWBt8",
        "outputId": "db0efd12-b031-4178-aa56-6e9640b44706"
      },
      "execution_count": null,
      "outputs": [
        {
          "output_type": "display_data",
          "data": {
            "text/plain": [
              "<IPython.core.display.Javascript object>"
            ],
            "application/javascript": [
              "\n",
              "    async function download(id, filename, size) {\n",
              "      if (!google.colab.kernel.accessAllowed) {\n",
              "        return;\n",
              "      }\n",
              "      const div = document.createElement('div');\n",
              "      const label = document.createElement('label');\n",
              "      label.textContent = `Downloading \"${filename}\": `;\n",
              "      div.appendChild(label);\n",
              "      const progress = document.createElement('progress');\n",
              "      progress.max = size;\n",
              "      div.appendChild(progress);\n",
              "      document.body.appendChild(div);\n",
              "\n",
              "      const buffers = [];\n",
              "      let downloaded = 0;\n",
              "\n",
              "      const channel = await google.colab.kernel.comms.open(id);\n",
              "      // Send a message to notify the kernel that we're ready.\n",
              "      channel.send({})\n",
              "\n",
              "      for await (const message of channel.messages) {\n",
              "        // Send a message to notify the kernel that we're ready.\n",
              "        channel.send({})\n",
              "        if (message.buffers) {\n",
              "          for (const buffer of message.buffers) {\n",
              "            buffers.push(buffer);\n",
              "            downloaded += buffer.byteLength;\n",
              "            progress.value = downloaded;\n",
              "          }\n",
              "        }\n",
              "      }\n",
              "      const blob = new Blob(buffers, {type: 'application/binary'});\n",
              "      const a = document.createElement('a');\n",
              "      a.href = window.URL.createObjectURL(blob);\n",
              "      a.download = filename;\n",
              "      div.appendChild(a);\n",
              "      a.click();\n",
              "      div.remove();\n",
              "    }\n",
              "  "
            ]
          },
          "metadata": {}
        },
        {
          "output_type": "display_data",
          "data": {
            "text/plain": [
              "<IPython.core.display.Javascript object>"
            ],
            "application/javascript": [
              "download(\"download_74b935ce-eaef-43d7-b0e3-5b995cd10e45\", \"kt_yoshiShift_x_off1.57_deg10_amp0.4_freq0.5_normFalse.svg\", 63938)"
            ]
          },
          "metadata": {}
        },
        {
          "output_type": "display_data",
          "data": {
            "text/plain": [
              "<Figure size 432x288 with 1 Axes>"
            ],
            "image/png": "[encoded data removed]"
          },
          "metadata": {
            "needs_background": "light"
          }
        }
      ]
    },
    {
      "cell_type": "markdown",
      "source": [
        "By changing the horizontal length, the crossover point was changing. You can see it exaggerated with\n",
        "\n"
      ],
      "metadata": {
        "id": "C8nDerFxms9B"
      }
    },
    {
      "cell_type": "code",
      "source": [
        "shiftingYoshiSines(\"straight\", 0, 8*np.pi, 3*np.pi, iterations = 8, \n",
        "                  freq = 1, angleDeg = 10, amplitude = 0,\n",
        "                   normalize=False, save=download)"
      ],
      "metadata": {
        "colab": {
          "base_uri": "https://localhost:8080/",
          "height": 248
        },
        "id": "PgEQwr9_9enE",
        "outputId": "7e1971bb-a23a-48f4-ceba-380cbf79ae59"
      },
      "execution_count": null,
      "outputs": [
        {
          "output_type": "display_data",
          "data": {
            "text/plain": [
              "<Figure size 432x288 with 1 Axes>"
            ],
            "image/png": "[encoded data removed]"
          },
          "metadata": {
            "needs_background": "light"
          }
        }
      ]
    },
    {
      "cell_type": "markdown",
      "source": [
        "I only want to change where the sine was when it started so keeping the horizontal length constant, try shifting over values."
      ],
      "metadata": {
        "id": "Id_9P0Hc9j6O"
      }
    },
    {
      "cell_type": "code",
      "source": [
        "def roll(self, curve, rollby):\n",
        "  curve = np.copy(curve)\n",
        "  nanarray = np.argwhere(np.isnan(curve))\n",
        "  curve[1,:] = np.concatenate((curve[1,rollby:], curve[1,0:rollby]))\n",
        "  for x,y in nanarray: # put back in discontinuities\n",
        "    curve[x,y] = nan\n",
        "  return curve\n",
        "\n",
        "def yoshimuraSine(name, start, horizLen, freq, angleDeg, amplitude, \n",
        "                  verticalOffset = 0,\n",
        "                  numpoints=1000, normalize = True, \n",
        "                  roll = 0, save = False):\n",
        "  angle = radians(angleDeg)\n",
        "  diagLen = 2.0*np.sin(angle)*horizLen/np.sin(np.pi - (2.0 * angle))\n",
        "  height = (horizLen/2.0)*tan(angle)\n",
        "\n",
        "  horizT = np.linspace(start, start + horizLen, numpoints)\n",
        "  diagT = np.linspace(start, start + diagLen, numpoints)\n",
        "\n",
        "  horiz = amplitude * np.sin( freq * horizT)\n",
        "  \n",
        "  diagF = freq\n",
        "  if normalize:\n",
        "    diagF = freq * ( diagLen / horizLen ) \n",
        "  diag = amplitude * np.sin( diagF * diagT )\n",
        "\n",
        "  if roll != 0:\n",
        "    rollby = floor((roll/start)*numpoints)\n",
        "    horiz = np.concatenate((horiz[rollby:], horiz[0:rollby]))\n",
        "    horizT += roll\n",
        "    diag = np.concatenate((horiz[rollby:], horiz[0:rollby]))\n",
        "    diagT += roll\n",
        "\n",
        "  plt.plot(horizT, horiz + verticalOffset, 'r') \n",
        "  plt.plot(horizT, horiz + verticalOffset + height, 'r') \n",
        "\n",
        "  diag = np.hstack((np.vstack(diagT), np.vstack(diag)))\n",
        "  origin=(diag[0])\n",
        "  diagUp = rotate(diag, origin=origin, degrees=angleDeg)\n",
        "  diagDown = rotate(diag, origin=origin, degrees=-angleDeg)\n",
        "\n",
        "  plt.plot(diagUp[:,0], diagUp[:, 1] + verticalOffset, 'b') \n",
        "  plt.plot(diagDown[:,0], diagDown[:, 1] + verticalOffset, 'g') \n",
        "  ax = plt.gca()\n",
        "  ax.set_aspect('equal', adjustable='box')\n",
        "  plt.axis('off')\n",
        "\n",
        "  if (save):\n",
        "    save_fig(\"yoshi_{}_deg{}_amp{}_freq{}\".\n",
        "           format(name,angleDeg, amplitude, freq))\n",
        "    \n",
        "  return (2*height) + verticalOffset\n",
        "  return plt.ylim()[1]-plt.ylim()[0]"
      ],
      "metadata": {
        "id": "__i3ys9apj6N"
      },
      "execution_count": null,
      "outputs": []
    },
    {
      "cell_type": "code",
      "source": [
        "def shiftingYoshiSines2(name, start, hlen, hoffset, iterations, \n",
        "                       freq, angleDeg, amplitude, normalize,\n",
        "                       save):\n",
        "  verticalOffset = 0\n",
        "\n",
        "  while iterations > 0:\n",
        "    verticalOffset = yoshimuraSine(\"\", start = start, horizLen = hlen, \n",
        "                          freq = freq, angleDeg = angleDeg, \n",
        "                          amplitude = amplitude, \n",
        "                          verticalOffset = verticalOffset,\n",
        "                          roll = -start, normalize=normalize, save=False)\n",
        "    start = (start + hoffset)\n",
        "    iterations -= 1\n",
        "  # end while\n",
        "  start -= hoffset # undo the last one\n",
        "  ax = plt.gca()\n",
        "  ax.set_aspect('equal', adjustable='box')\n",
        "  if (save): \n",
        "    save_fig(\"yoshiShift_{}_off{}_deg{}_amp{}_freq{}_norm{}\".\n",
        "           format(name, round(hoffset,2),\n",
        "                  angleDeg, amplitude, freq, normalize))\n"
      ],
      "metadata": {
        "id": "jvl7Bmifmuqo"
      },
      "execution_count": null,
      "outputs": []
    },
    {
      "cell_type": "markdown",
      "source": [],
      "metadata": {
        "id": "EDzKRDDVKCry"
      }
    },
    {
      "cell_type": "code",
      "source": [
        "download = False\n",
        "shiftingYoshiSines2(\"hm\", 0, 2*np.pi, .5*np.pi, iterations = 6, \n",
        "                  freq = 1, angleDeg =25, amplitude = .35,\n",
        "                   normalize=True, save=download)\n"
      ],
      "metadata": {
        "colab": {
          "base_uri": "https://localhost:8080/",
          "height": 248
        },
        "id": "TbM7pSIfKDaf",
        "outputId": "568869a3-17ee-4841-c4e8-f413e044c882"
      },
      "execution_count": null,
      "outputs": [
        {
          "output_type": "display_data",
          "data": {
            "text/plain": [
              "<Figure size 432x288 with 1 Axes>"
            ],
            "image/png": "[encoded data removed]"
          },
          "metadata": {
            "needs_background": "light"
          }
        }
      ]
    },
    {
      "cell_type": "code",
      "source": [
        "def randYoshiSines(name, start, hlen, hoffset, iterations, \n",
        "                       freq, angleDeg, amplitude, normalize,\n",
        "                       save):\n",
        "  verticalOffset = 0\n",
        "\n",
        "  while iterations > 0:\n",
        "    verticalOffset = yoshimuraSine(\"\", start = start, horizLen = hlen, \n",
        "                          freq = freq, angleDeg = angleDeg, \n",
        "                          amplitude = amplitude, \n",
        "                          roll = -start,\n",
        "                          verticalOffset = verticalOffset,\n",
        "                          normalize=normalize, save=False)\n",
        "    start = hoffset * 2*(np.random.rand() - 0.5)\n",
        "    print(start)\n",
        "\n",
        "    iterations -= 1\n",
        "  # end while\n",
        "  ax = plt.gca()\n",
        "  ax.set_aspect('equal', adjustable='box')\n",
        "  if (save): \n",
        "    save_fig(\"yRand_{}_off{}_deg{}_amp{}_freq{}_norm{}\".\n",
        "           format(name, round(hoffset,2),\n",
        "                  angleDeg, amplitude, freq, normalize))\n",
        "\n"
      ],
      "metadata": {
        "id": "T7nekk3DPjX3"
      },
      "execution_count": null,
      "outputs": []
    },
    {
      "cell_type": "code",
      "source": [
        "download = True\n",
        "\n",
        "randYoshiSines(\"5\", 0, 2*np.pi, 1*np.pi, iterations = 8, \n",
        "                  freq = 2, angleDeg = 35, amplitude = 0.25,\n",
        "                   normalize=False, save=download)\n"
      ],
      "metadata": {
        "colab": {
          "base_uri": "https://localhost:8080/",
          "height": 390
        },
        "id": "RrqWkci_Pkwb",
        "outputId": "8054e47d-e0e0-4910-bae5-13dc1c0c8361"
      },
      "execution_count": null,
      "outputs": [
        {
          "output_type": "stream",
          "name": "stdout",
          "text": [
            "2.3609772805482123\n",
            "2.945089773158768\n",
            "2.957585446978467\n",
            "-1.9348234269773565\n",
            "2.1305201897167216\n",
            "0.23368906320395386\n",
            "-1.7909563919481364\n",
            "-0.9606342627807472\n"
          ]
        },
        {
          "output_type": "display_data",
          "data": {
            "text/plain": [
              "<IPython.core.display.Javascript object>"
            ],
            "application/javascript": [
              "\n",
              "    async function download(id, filename, size) {\n",
              "      if (!google.colab.kernel.accessAllowed) {\n",
              "        return;\n",
              "      }\n",
              "      const div = document.createElement('div');\n",
              "      const label = document.createElement('label');\n",
              "      label.textContent = `Downloading \"${filename}\": `;\n",
              "      div.appendChild(label);\n",
              "      const progress = document.createElement('progress');\n",
              "      progress.max = size;\n",
              "      div.appendChild(progress);\n",
              "      document.body.appendChild(div);\n",
              "\n",
              "      const buffers = [];\n",
              "      let downloaded = 0;\n",
              "\n",
              "      const channel = await google.colab.kernel.comms.open(id);\n",
              "      // Send a message to notify the kernel that we're ready.\n",
              "      channel.send({})\n",
              "\n",
              "      for await (const message of channel.messages) {\n",
              "        // Send a message to notify the kernel that we're ready.\n",
              "        channel.send({})\n",
              "        if (message.buffers) {\n",
              "          for (const buffer of message.buffers) {\n",
              "            buffers.push(buffer);\n",
              "            downloaded += buffer.byteLength;\n",
              "            progress.value = downloaded;\n",
              "          }\n",
              "        }\n",
              "      }\n",
              "      const blob = new Blob(buffers, {type: 'application/binary'});\n",
              "      const a = document.createElement('a');\n",
              "      a.href = window.URL.createObjectURL(blob);\n",
              "      a.download = filename;\n",
              "      div.appendChild(a);\n",
              "      a.click();\n",
              "      div.remove();\n",
              "    }\n",
              "  "
            ]
          },
          "metadata": {}
        },
        {
          "output_type": "display_data",
          "data": {
            "text/plain": [
              "<IPython.core.display.Javascript object>"
            ],
            "application/javascript": [
              "download(\"download_412ffa61-6b5a-42b3-867f-85255ceef737\", \"kt_yRand_5_off3.14_deg35_amp0.25_freq2_normFalse.svg\", 21272)"
            ]
          },
          "metadata": {}
        },
        {
          "output_type": "display_data",
          "data": {
            "text/plain": [
              "<Figure size 432x288 with 1 Axes>"
            ],
            "image/png": "[encoded data removed]"
          },
          "metadata": {
            "needs_background": "light"
          }
        }
      ]
    },
    {
      "cell_type": "markdown",
      "source": [],
      "metadata": {
        "id": "MYZVpByePoWa"
      }
    }
  ]
}