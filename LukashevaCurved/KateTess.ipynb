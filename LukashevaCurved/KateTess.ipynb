{
  "nbformat": 4,
  "nbformat_minor": 0,
  "metadata": {
    "colab": {
      "name": "KateTess.ipynb",
      "provenance": [],
      "collapsed_sections": []
    },
    "kernelspec": {
      "name": "python3",
      "display_name": "Python 3"
    },
    "language_info": {
      "name": "python"
    }
  },
  "cells": [
    {
      "cell_type": "markdown",
      "source": [
        "This script is based on Curved Origami by Ekaterina Likasheva. The terminology from that book is used to build generic tesselation style curves, obeying the rules (as I understand them) from the book. I suspect there is some additional mathematics that I am unaware of (but would be interested in knowing)."
      ],
      "metadata": {
        "id": "23QOCPAo8tIW"
      }
    },
    {
      "cell_type": "code",
      "source": [
        "from math import *\n",
        "import matplotlib.pyplot as plt\n",
        "import numpy as np\n",
        "from matplotlib import collections  as mc\n",
        "from matplotlib.patches import Ellipse, Wedge, Polygon\n",
        "from matplotlib.path import Path\n",
        "import matplotlib\n",
        "import itertools\n",
        "\n",
        "from scipy.spatial import distance\n",
        "from scipy import signal\n"
      ],
      "metadata": {
        "id": "Zj8ZXzp-9Qug"
      },
      "execution_count": 187,
      "outputs": []
    },
    {
      "cell_type": "markdown",
      "source": [
        "The system for the curved tesselation starts with a kernel-curve. It has specific properties detailed in the book but generally can be represented with most bell-shaped curves. \n",
        "\n",
        "The rest of the system is easier if you start only with the first half of the bell.\n",
        "\n",
        "I'm using a Gaussian curve (normalized to the shape I want). I believe that generating different kernels by changing `curve_h_of_c` will lead to compatible curves for patterns such as Challenge in the book."
      ],
      "metadata": {
        "id": "5maUpJqwR3-K"
      }
    },
    {
      "cell_type": "code",
      "source": [
        "class curve_kernel():\n",
        "  def __init__(self, angle = 60.0, horiz_d = 1.0, curve_h_of_c = 0.66, N=100, std=50):\n",
        "    if (angle < 20.0) or (angle > 70.0): \n",
        "      print(\"WARNING: CAB angle {} should be between 20 and 70 degrees\".format(angle))\n",
        "\n",
        "    self.angle = angle;\n",
        "    self.horiz_d = horiz_d\n",
        "    self.curve_h_of_c = curve_h_of_c\n",
        "    self.a = [0,0]\n",
        "    self.mid = [horiz_d/2,0]\n",
        "    self.c = [horiz_d/2, tan(radians(angle))*horiz_d/2]\n",
        "    \n",
        "    curve_x = np.arange(0, horiz_d,horiz_d/N)\n",
        "    curve_y = signal.gaussian(N, std)\n",
        "    curve_y -= min(curve_y)\n",
        "    curve_y *= curve_h_of_c/max(curve_y) \n",
        "    self.curve = np.array([curve_x[0:floor(N/2)], curve_y[0:floor(N/2)]])\n",
        "    self.offset = self.curve[0,-1] #+ horiz_d/N\n",
        "\n",
        "  def __repr__(self):\n",
        "    plt.plot(self.curve[0,:], self.curve[1,:])\n",
        "    print(\"Distance a to c: {:2.2}\".format(distance.euclidean(self.a, self.c)))\n",
        "    return (\"Angle {}, d {}, A {}, B {}, C {}\".format(self.angle, self.horiz_d,\n",
        "                                                    self.a, self.mid, self.c))\n",
        "\n",
        "class curves():\n",
        "  def __init__(self, kernel):\n",
        "    self.kernel = kernel.curve\n",
        "    self.offset = kernel.curve[0,-1]\n",
        "    self.h      = max(kernel.curve[1,:])\n",
        "    self.len    = 2*len(kernel.curve[1,:])\n",
        "\n",
        "    self.a_curve = self.concatenate(first = self.kernel, \n",
        "                                    second = self.reverse(self.kernel))\n",
        "\n",
        "    self.b_curve = self.concatenate(first = self.negative(self.reverse(self.kernel)), \n",
        "                                    second = self.kernel)\n",
        "\n",
        "    c = self.yoffset(self.kernel, -self.h)\n",
        "    self.c_curve = self.concatenate(first = c, \n",
        "                                    second = self.negative(self.reverse(c)))\n",
        "    \n",
        "  def yoffset(self, curve, offset):\n",
        "    curve = np.copy(curve)\n",
        "    curve[1,:] += offset\n",
        "    return curve\n",
        "\n",
        "  def negative(self, curve):\n",
        "    curve = np.array([curve[0,:], -curve[1,:]])\n",
        "    return curve\n",
        "\n",
        "  def reverse(self, curve):\n",
        "    curve = np.array([curve[0,:], np.flip(curve[1,:])])\n",
        "    return curve\n",
        "\n",
        "  def roll(self, curve, rollby):\n",
        "    curve = np.copy(curve)\n",
        "    curve[1,:] = np.roll(curve[1,:], rollby)\n",
        "    return curve\n",
        "\n",
        "  def concatenate(self, first, second):\n",
        "    if first is None:\n",
        "      return second\n",
        "    xoffset = first[0,-1]\n",
        "    second = np.copy(second)\n",
        "    second[0,:] += xoffset\n",
        "    return(np.concatenate((first, second), axis=1))\n",
        "\n",
        "  def __repr__(self):\n",
        "    plt.plot(self.kernel[0,:], self.kernel[1,:], 'k.')\n",
        "    plt.plot(self.a_curve[0,:], self.a_curve[1,:], 'r')\n",
        "    plt.plot(self.b_curve[0,:], self.b_curve[1,:], 'b')\n",
        "    plt.plot(self.c_curve[0,:], self.c_curve[1,:], 'c')\n",
        "    return \"\"\n"
      ],
      "metadata": {
        "id": "RDBt8hTI-Itu"
      },
      "execution_count": 355,
      "outputs": []
    },
    {
      "cell_type": "code",
      "source": [
        "ckernel = curve_kernel(60.0)\n",
        "cvs = curves(ckernel)\n",
        "print(cvs)"
      ],
      "metadata": {
        "colab": {
          "base_uri": "https://localhost:8080/",
          "height": 283
        },
        "id": "JswiXFHgADEZ",
        "outputId": "605d471a-5a94-4a90-8061-ba7d645bf6f1"
      },
      "execution_count": 356,
      "outputs": [
        {
          "output_type": "stream",
          "name": "stdout",
          "text": [
            "\n"
          ]
        },
        {
          "output_type": "display_data",
          "data": {
            "image/png": "[encoded data removed]",
            "text/plain": [
              "<Figure size 432x288 with 1 Axes>"
            ]
          },
          "metadata": {
            "needs_background": "light"
          }
        }
      ]
    },
    {
      "cell_type": "markdown",
      "source": [
        "I want to be able to use the Amanda Ghassaei's [Origami Simulator](https://origamisimulator.org/) to test the output of the script. \n",
        "\n",
        "In this next block, I'm fixing up the matplotlib output to be more compatible with the simulator."
      ],
      "metadata": {
        "id": "pX9RVVfmSrN4"
      }
    },
    {
      "cell_type": "code",
      "source": [
        "indef = False\n",
        "def rm_clippath(line):\n",
        "  global indef\n",
        "\n",
        "  if not indef:\n",
        "    f = line.find('<clipPath')\n",
        "  else:\n",
        "    f = line.find('</clipPath>')\n",
        "  if f >= 0:\n",
        "    indef = not indef\n",
        "    return \"\"\n",
        "  if indef: return \"\"\n",
        "\n",
        "  f = line.find('clip-path')\n",
        "  if (f < 0): return line\n",
        "  fc = line.find('\"', f) + 1\n",
        "  fe = line.find('\"', fc) +1\n",
        "  return line[:f]+line[fe:]\n",
        "\n",
        "def fixup_svg(infile):\n",
        "  global indef\n",
        "  indef = False\n",
        "  outfile = \"kt_\"+ infile\n",
        "  delete_list = ['fill:none;']\n",
        "  with open(infile) as fin, open(outfile, \"w+\") as fout:\n",
        "    for line in fin:\n",
        "      line = rm_clippath(line)\n",
        "      for word in delete_list:\n",
        "        line = line.replace(word, \"\")\n",
        "      fout.write(line)\n"
      ],
      "metadata": {
        "id": "TLPpVG6BAEys"
      },
      "execution_count": 357,
      "outputs": []
    },
    {
      "cell_type": "code",
      "source": [
        "def curveNoneZero(curve):\n",
        "  if curve is None: \n",
        "    curve = np.zeros((2,1))\n",
        "  return curve\n",
        "\n",
        "def A_curve(curve, cvs, mult):\n",
        "  curve = curveNoneZero(curve)\n",
        "  return cvs.concatenate(curve, mult*np.copy(cvs.a_curve))\n",
        "def a_curve(curve, cvs, mult):\n",
        "  curve = curveNoneZero(curve)\n",
        "  return cvs.concatenate(curve, mult*cvs.yoffset(cvs.a_curve, -cvs.h))\n",
        "def B_curve(curve, cvs, mult):\n",
        "  curve = curveNoneZero(curve)\n",
        "  return cvs.concatenate(curve, mult*np.copy(cvs.b_curve))\n",
        "def b_curve(curve, cvs, mult):\n",
        "  curve = curveNoneZero(curve)\n",
        "  return cvs.concatenate(curve, mult*cvs.reverse(cvs.b_curve))\n",
        "def C_curve(curve, cvs, mult):\n",
        "  curve = curveNoneZero(curve)\n",
        "  return cvs.concatenate(curve, mult*np.copy(cvs.c_curve))\n",
        "def c_curve(curve, cvs, mult):\n",
        "  curve = curveNoneZero(curve)\n",
        "  return cvs.concatenate(curve, mult*cvs.reverse(cvs.c_curve))\n",
        "def U_curve(curve, cvs, mult):\n",
        "  curve = curveNoneZero(curve)\n",
        "  return cvs.concatenate(curve, mult*cvs.negative(np.copy(cvs.a_curve)))\n",
        "def u_curve(curve, cvs, mult):\n",
        "  curve = curveNoneZero(curve)\n",
        "  return cvs.concatenate(curve, mult*cvs.negative(cvs.yoffset(cvs.a_curve, -cvs.h)))\n",
        "\n",
        "\n",
        "def pipe_curve(curve, cvs, mult):\n",
        "  pipe = np.array([[0,0],[0,cvs.h]])\n",
        "  return cvs.concatenate(curve, mult*pipe)\n",
        "\n",
        "def blank_curve(curve, cvs, mult):\n",
        "  xoffset = (cvs.a_curve[0,-1])*mult\n",
        "  blank = np.array([[0, xoffset],[np.nan,np.nan]])\n",
        "  return cvs.concatenate(curve, blank)\n",
        "\n",
        "def rollhalf(cvs):\n",
        "  return floor(cvs.len/2)\n",
        "\n",
        "def color_red():\n",
        "  return 'r-'\n",
        "def color_blue():\n",
        "  return 'b-'\n",
        "\n",
        "interpret_curve = {\n",
        "    \"A\"   : A_curve,\n",
        "    \"a\"   : a_curve,\n",
        "    \"B\"   : B_curve,\n",
        "    \"b\"   : b_curve,\n",
        "    \"C\"   : C_curve,\n",
        "    \"c\"   : c_curve,\n",
        "    \"U\"   : U_curve,\n",
        "    \"u\"   : u_curve,\n",
        "    \n",
        "    \"|\"   : pipe_curve,\n",
        "    \"x\"   : blank_curve\n",
        "}\n",
        "\n",
        "roll_control = {\n",
        "    \"o\"   : rollhalf\n",
        "}\n",
        "height_control = {\n",
        "    \"h\"   : rollhalf\n",
        "}\n",
        "\n",
        "colors = {\n",
        "    \"red\" : color_red,\n",
        "    \"blue\": color_blue,\n",
        "}\n",
        "\n",
        "def interpret_line(yoffset, line, cvs):\n",
        "  elements = line.split()\n",
        "  curve = None\n",
        "  color = 'k'\n",
        "  rollby = 0\n",
        "  height = 1\n",
        "  for e in elements:\n",
        "    if e in roll_control:\n",
        "      rollby = roll[e](cvs)\n",
        "    elif e in colors:\n",
        "      color = colors[e]()\n",
        "    elif e[0] in height_control:\n",
        "      height = float(e[1:]) * cvs.h\n",
        "    elif e[0] in interpret_curve:\n",
        "      mult = 1.0\n",
        "      if len(e) > 1:\n",
        "        mult = float(e[1:])\n",
        "      curve = interpret_curve[e[0]](curve, cvs, mult)\n",
        "  curve = cvs.roll(curve, rollby)\n",
        "  curve = cvs.yoffset(curve, yoffset)\n",
        "  plt.plot(curve[0,:], curve[1,:], color)\n",
        "  return color, curve, height\n",
        "\n",
        "def minmax(minxy, maxxy, curve):\n",
        "  new_minxy = np.nanmin(curve, 1)\n",
        "  new_maxxy = np.nanmax(curve, 1)\n",
        "  minxy = np.nanmin(np.stack((minxy, new_minxy), 1),1)\n",
        "  maxxy = np.nanmax(np.stack((maxxy, new_maxxy), 1),1)\n",
        "  return minxy, maxxy\n",
        "\n",
        "def plot_outer_box(minxy, maxxy, color='k'):\n",
        "  plt.plot([minxy[0], minxy[0]], [minxy[1],maxxy[1]], color )\n",
        "  plt.plot([maxxy[0], maxxy[0]], [minxy[1],maxxy[1]], color )\n",
        "  plt.plot([minxy[0], maxxy[0]], [minxy[1],minxy[1]], color )\n",
        "  plt.plot([minxy[0], maxxy[0]], [maxxy[1],maxxy[1]], color )\n",
        "\n"
      ],
      "metadata": {
        "id": "Au1SfO7ZB_iB"
      },
      "execution_count": 391,
      "outputs": []
    },
    {
      "cell_type": "code",
      "source": [
        "def interpret_tess(name, input, cvs):\n",
        "  minxy = np.ones((2)) * nan\n",
        "  maxxy = np.ones((2)) * nan\n",
        "  yoffset = 0.0\n",
        "  for line in input:\n",
        "    color, curve, height = interpret_line(yoffset, line, cvs)\n",
        "    minxy, maxxy = minmax(minxy, maxxy, curve)\n",
        "    yoffset -= height\n",
        "  plt.axis('off')\n",
        "  plot_outer_box(minxy, maxxy, 'k')\n",
        "  plt.savefig(name + \".svg\")\n",
        "  fixup_svg(name + \".svg\")\n"
      ],
      "metadata": {
        "id": "aCWthNKrZtbj"
      },
      "execution_count": 392,
      "outputs": []
    },
    {
      "cell_type": "code",
      "source": [
        "name = \"testone2\"\n",
        "\n",
        "testone = [\n",
        "    \"red A2 A2 A2 A2 h0\",\n",
        "    \"blue x2 |4 x2 |4 x2 |4 h0\",\n",
        "    \"blue  B b B b B b B b\",\n",
        "    \"blue  B b B b B b B b h0\",\n",
        "    \"red o U2 U2 U2 U2 h0\",\n",
        "    \"blue  x |-4 x2 |-4 x2 |-4 x2 |-4\"\n",
        "]\n",
        "\n",
        "interpret_tess(name,testone, cvs)"
      ],
      "metadata": {
        "colab": {
          "base_uri": "https://localhost:8080/",
          "height": 248
        },
        "id": "Nzhr0Nn0aYgJ",
        "outputId": "46ab5911-f380-4517-d413-b0a45e6910c8"
      },
      "execution_count": 393,
      "outputs": [
        {
          "output_type": "display_data",
          "data": {
            "image/png": "[encoded data removed]",
            "text/plain": [
              "<Figure size 432x288 with 1 Axes>"
            ]
          },
          "metadata": {
            "needs_background": "light"
          }
        }
      ]
    },
    {
      "cell_type": "code",
      "source": [
        "unevenwaves = [\n",
        "    \"blue x2 |4 x4 |4 x4 |4 h0\",\n",
        "    \"red A2 A4 A4 A2 h0\",\n",
        "\n",
        "    \"blue  x x B2 b2 B2 b2 x x h1\",\n",
        "    \"blue  B b x2 x2 x2 x2 B b h0.5\",\n",
        "\n",
        "    \"red  x x B2 b2 B2 b2 x x h1\",\n",
        "    \"red  B b x2 x2 x2 x2 B b h2\",\n",
        "\n",
        "    \"red   b B x2 x2 x2 x2 b B h1\",\n",
        "    \"red  x x b2 B2 b2 B2 x x h0.5\",\n",
        "\n",
        "    \"blue   b B x2 x2 x2 x2 b B h1\",\n",
        "    \"blue  x x b2 B2 b2 B2 x x h0.5\",\n",
        "\n",
        "    \"red U2 U4 U4 U2 h0\",\n",
        "    \"blue x2 |-4 x4 |-4 x4 |-4 h0\",\n",
        "]\n",
        "interpret_tess(\"unevenwaves\",unevenwaves,cvs)"
      ],
      "metadata": {
        "colab": {
          "base_uri": "https://localhost:8080/",
          "height": 248
        },
        "id": "40HDDirGE_xx",
        "outputId": "a7eaceb1-3939-402a-e6ca-2f6a9e85b613"
      },
      "execution_count": 394,
      "outputs": [
        {
          "output_type": "display_data",
          "data": {
            "image/png": "[encoded data removed]",
            "text/plain": [
              "<Figure size 432x288 with 1 Axes>"
            ]
          },
          "metadata": {
            "needs_background": "light"
          }
        }
      ]
    },
    {
      "cell_type": "code",
      "source": [
        "jellytwo = [\n",
        "    \"blue  x20 |40 x40 |40  x40 |40 h0\",\n",
        "    \"red   A20     A40     A40     A20     A10 A5 A2.5 h-10.0\",\n",
        "\n",
        "\n",
        "    \"blue  x10 x10 B20 b20 B20 b20 x10 x10 h10\",\n",
        "    \"blue  B10 b10 x20 x20 x20 x20 B10 b10 h5\",\n",
        "    \"blue  x10 x10 x20 x20 x20 x20 x10 x10 B5 b5 B5 b5 h10\",\n",
        "\n",
        "    \"red  x10 x10 B20 b20 B20 b20 x10 x10 h10\",\n",
        "    \"red  B10 b10 x20 x20 x20 x20 B10 b10 h20\",\n",
        "\n",
        "    \"red   b10 B10 x20 x20 x20 x20 b10 B10 h10\",\n",
        "    \"red   x10 x10 b20 B20 b20 B20 x10 x10 h5\",\n",
        "\n",
        "    \"blue  b10 B10 x20 x20 x20 x20 b10 B10 h10\",\n",
        "    \"blue  x10 x10 b20 B20 b20 B20 x10 x10 h5\",\n",
        "\n",
        "    \"red U20 U40 U40 U20 h0\",\n",
        "    \"blue x20 |-40 x40 |-40 x40 |-40 h0\",\n",
        "]\n",
        "interpret_tess(\"jellytwo\",jellytwo, cvs)"
      ],
      "metadata": {
        "colab": {
          "base_uri": "https://localhost:8080/",
          "height": 248
        },
        "id": "44ZqrCAwZsZe",
        "outputId": "a879c30c-1eed-420c-b941-037e26e307de"
      },
      "execution_count": 395,
      "outputs": [
        {
          "output_type": "display_data",
          "data": {
            "image/png": "[encoded data removed]",
            "text/plain": [
              "<Figure size 432x288 with 1 Axes>"
            ]
          },
          "metadata": {
            "needs_background": "light"
          }
        }
      ]
    },
    {
      "cell_type": "code",
      "source": [
        ""
      ],
      "metadata": {
        "id": "vA3edEI33RJk"
      },
      "execution_count": 395,
      "outputs": []
    },
    {
      "cell_type": "code",
      "source": [
        ""
      ],
      "metadata": {
        "id": "B071Al-e4VC8"
      },
      "execution_count": 395,
      "outputs": []
    },
    {
      "cell_type": "code",
      "source": [
        ""
      ],
      "metadata": {
        "id": "fg02FcYX8pjZ"
      },
      "execution_count": 395,
      "outputs": []
    },
    {
      "cell_type": "code",
      "source": [
        ""
      ],
      "metadata": {
        "id": "rwQtrVYG4SuR"
      },
      "execution_count": 395,
      "outputs": []
    },
    {
      "cell_type": "code",
      "source": [
        ""
      ],
      "metadata": {
        "id": "cS9T3wocWR5e"
      },
      "execution_count": 395,
      "outputs": []
    },
    {
      "cell_type": "code",
      "source": [
        ""
      ],
      "metadata": {
        "id": "e7cCEczsm87v"
      },
      "execution_count": 395,
      "outputs": []
    },
    {
      "cell_type": "code",
      "source": [
        "curve "
      ],
      "metadata": {
        "colab": {
          "base_uri": "https://localhost:8080/"
        },
        "id": "7oORWLznnHZi",
        "outputId": "72c6da82-a6e4-43fa-a1d8-75a6ee8ca794"
      },
      "execution_count": 396,
      "outputs": [
        {
          "output_type": "execute_result",
          "data": {
            "text/plain": [
              "array([[ 0.  ,  0.98,  0.98,  0.98,  0.98,  2.94,  2.94,  2.94,  2.94,\n",
              "         4.9 ,  4.9 ,  4.9 ,  4.9 ,  6.86,  6.86,  6.86],\n",
              "       [  nan,   nan, -1.98, -4.62,   nan,   nan, -1.98, -4.62,   nan,\n",
              "          nan, -1.98, -4.62,   nan,   nan, -1.98, -4.62]])"
            ]
          },
          "metadata": {},
          "execution_count": 396
        }
      ]
    },
    {
      "cell_type": "code",
      "source": [
        ""
      ],
      "metadata": {
        "id": "8yMUytiO3tj8"
      },
      "execution_count": null,
      "outputs": []
    }
  ]
}