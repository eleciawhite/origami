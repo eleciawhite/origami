{
  "nbformat": 4,
  "nbformat_minor": 0,
  "metadata": {
    "colab": {
      "name": "KateTess.ipynb",
      "provenance": [],
      "collapsed_sections": []
    },
    "kernelspec": {
      "name": "python3",
      "display_name": "Python 3"
    },
    "language_info": {
      "name": "python"
    }
  },
  "cells": [
    {
      "cell_type": "markdown",
      "source": [
        "This script is based on Curved Origami by Ekaterina Likasheva. The terminology from that book is used to build generic tesselation style curves, obeying the rules (as I understand them) from the book. I suspect there is some additional mathematics that I am unaware of (but would be interested in knowing)."
      ],
      "metadata": {
        "id": "23QOCPAo8tIW"
      }
    },
    {
      "cell_type": "code",
      "source": [
        "from math import *\n",
        "import matplotlib.pyplot as plt\n",
        "import numpy as np\n",
        "from matplotlib import collections  as mc\n",
        "from matplotlib.patches import Ellipse, Wedge, Polygon\n",
        "from matplotlib.path import Path\n",
        "import matplotlib\n",
        "import itertools\n",
        "\n",
        "from scipy.spatial import distance\n",
        "from scipy import signal\n"
      ],
      "metadata": {
        "id": "Zj8ZXzp-9Qug"
      },
      "execution_count": 1,
      "outputs": []
    },
    {
      "cell_type": "code",
      "source": [
        "class curve_kernel():\n",
        "  def __init__(self, angle = 60.0, horiz_d = 1.0, curve_h_of_c = 0.66, N=100, std=50):\n",
        "    if (angle < 20.0) or (angle > 70.0): \n",
        "      print(\"WARNING: CAB angle {} should be between 20 and 70 degrees\".format(angle))\n",
        "\n",
        "    self.angle = angle;\n",
        "    self.horiz_d = horiz_d\n",
        "    self.curve_h_of_c = curve_h_of_c\n",
        "    self.a = [0,0]\n",
        "    self.mid = [horiz_d/2,0]\n",
        "    self.c = [horiz_d/2, tan(radians(angle))*horiz_d/2]\n",
        "    \n",
        "    curve_x = np.arange(0, horiz_d,horiz_d/N)\n",
        "    curve_y = signal.gaussian(N, std)\n",
        "    curve_y -= min(curve_y)\n",
        "    curve_y *= curve_h_of_c/max(curve_y) \n",
        "    self.curve = np.array([curve_x[0:floor(N/2)], curve_y[0:floor(N/2)]])\n",
        "    self.offset = self.curve[0,-1] #+ horiz_d/N\n",
        "\n",
        "  def __repr__(self):\n",
        "    plt.plot(self.curve[0,:], self.curve[1,:])\n",
        "    print(\"Distance a to c: {:2.2}\".format(distance.euclidean(self.a, self.c)))\n",
        "    return (\"Angle {}, d {}, A {}, B {}, C {}\".format(self.angle, self.horiz_d,\n",
        "                                                    self.a, self.mid, self.c))\n",
        "\n",
        "class curves():\n",
        "  def __init__(self, kernel):\n",
        "    self.kernel = kernel.curve\n",
        "    self.offset = kernel.curve[0,-1]\n",
        "    self.h      = max(kernel.curve[1,:])\n",
        "    self.len    = 2*len(kernel.curve[1,:])\n",
        "\n",
        "    self.a_curve = self.concatenate(first = self.kernel, \n",
        "                                    second = self.reverse(self.kernel))\n",
        "\n",
        "    self.b_curve = self.concatenate(first = self.negative(self.reverse(self.kernel)), \n",
        "                                    second = self.kernel)\n",
        "\n",
        "    c = self.yoffset(self.kernel, -self.h)\n",
        "    self.c_curve = self.concatenate(first = c, \n",
        "                                    second = self.negative(self.reverse(c)))\n",
        "    \n",
        "  def yoffset(self, curve, offset):\n",
        "    curve = np.copy(curve)\n",
        "    curve[1,:] += offset\n",
        "    return curve\n",
        "\n",
        "  def negative(self, curve):\n",
        "    curve = np.array([curve[0,:], -curve[1,:]])\n",
        "    return curve\n",
        "\n",
        "  def reverse(self, curve):\n",
        "    curve = np.array([curve[0,:], np.flip(curve[1,:])])\n",
        "    return curve\n",
        "\n",
        "  def roll(self, curve, rollby):\n",
        "    curve = np.copy(curve)\n",
        "    curve[1,:] = np.roll(curve[1,:], rollby)\n",
        "    return curve\n",
        "\n",
        "  def concatenate(self, first, second):\n",
        "    if first is None:\n",
        "      return second\n",
        "    xoffset = first[0,-1]\n",
        "    second = np.copy(second)\n",
        "    second[0,:] += xoffset\n",
        "    return(np.concatenate((first, second), axis=1))\n",
        "\n",
        "  def __repr__(self):\n",
        "    plt.plot(self.kernel[0,:], self.kernel[1,:], 'k.')\n",
        "    plt.plot(self.a_curve[0,:], self.a_curve[1,:], 'r')\n",
        "    plt.plot(self.b_curve[0,:], self.b_curve[1,:], 'b')\n",
        "    plt.plot(self.c_curve[0,:], self.c_curve[1,:], 'c')\n",
        "    return \"\"\n"
      ],
      "metadata": {
        "id": "RDBt8hTI-Itu"
      },
      "execution_count": 2,
      "outputs": []
    },
    {
      "cell_type": "code",
      "source": [
        "ckernel = curve_kernel(60.0)\n",
        "cvs = curves(ckernel)\n",
        "print(cvs)"
      ],
      "metadata": {
        "colab": {
          "base_uri": "https://localhost:8080/",
          "height": 283
        },
        "id": "JswiXFHgADEZ",
        "outputId": "bb483d43-28ce-426e-acf0-5d96b514f236"
      },
      "execution_count": 3,
      "outputs": [
        {
          "output_type": "stream",
          "name": "stdout",
          "text": [
            "\n"
          ]
        },
        {
          "output_type": "display_data",
          "data": {
            "image/png": "[encoded data removed]",
            "text/plain": [
              "<Figure size 432x288 with 1 Axes>"
            ]
          },
          "metadata": {
            "needs_background": "light"
          }
        }
      ]
    },
    {
      "cell_type": "code",
      "source": [
        "def fixup_svg(infile):\n",
        "  outfile = \"kt_\"+ infile\n",
        "\n",
        "  delete_list = ['fill:none;', 'clip-path=\"url(#paee79991a7)\"']\n",
        "  with open(infile) as fin, open(outfile, \"w+\") as fout:\n",
        "    for line in fin:\n",
        "        for word in delete_list:\n",
        "            line = line.replace(word, \"\")\n",
        "        fout.write(line)"
      ],
      "metadata": {
        "id": "TLPpVG6BAEys"
      },
      "execution_count": 21,
      "outputs": []
    },
    {
      "cell_type": "code",
      "source": [
        "\n",
        "def A_curve(curve, cvs, mult):\n",
        "  return cvs.concatenate(curve, mult*np.copy(cvs.a_curve))\n",
        "def a_curve(curve, cvs, mult):\n",
        "  return cvs.concatenate(curve, mult*cvs.yoffset(cvs.a_curve, -cvs.h))\n",
        "def B_curve(curve, cvs, mult):\n",
        "  return cvs.concatenate(curve, mult*np.copy(cvs.b_curve))\n",
        "def b_curve(curve, cvs, mult):\n",
        "  return cvs.concatenate(curve, mult*cvs.reverse(cvs.b_curve))\n",
        "def C_curve(curve, cvs, mult):\n",
        "  return cvs.concatenate(curve, mult*np.copy(cvs.c_curve))\n",
        "def c_curve(curve, cvs, mult):\n",
        "  return cvs.concatenate(curve, mult*cvs.reverse(cvs.c_curve))\n",
        "def U_curve(curve, cvs, mult):\n",
        "  return cvs.concatenate(curve, mult*cvs.negative(np.copy(cvs.a_curve)))\n",
        "def u_curve(curve, cvs, mult):\n",
        "  return cvs.concatenate(curve, mult*cvs.negative(cvs.yoffset(cvs.a_curve, -cvs.h)))\n",
        "\n",
        "\n",
        "def pipe_curve(curve, cvs, mult):\n",
        "  pipe = np.array([[0,0],[0,cvs.h]])\n",
        "  return cvs.concatenate(curve, mult*pipe)\n",
        "\n",
        "def blank_curve(curve, cvs, mult):\n",
        "  xoffset = (cvs.a_curve[0,-1])*mult\n",
        "  blank = np.array([[0, xoffset],[np.nan,np.nan]])\n",
        "  return cvs.concatenate(curve, blank)\n",
        "\n",
        "def rollhalf(cvs):\n",
        "  return floor(cvs.len/2)\n",
        "\n",
        "def color_red():\n",
        "  return 'r-'\n",
        "def color_blue():\n",
        "  return 'b-'\n",
        "\n",
        "interpret_curve = {\n",
        "    \"A\"   : A_curve,\n",
        "    \"a\"   : a_curve,\n",
        "    \"B\"   : B_curve,\n",
        "    \"b\"   : b_curve,\n",
        "    \"C\"   : C_curve,\n",
        "    \"c\"   : c_curve,\n",
        "    \"U\"   : U_curve,\n",
        "    \"u\"   : u_curve,\n",
        "    \n",
        "    \"|\"   : pipe_curve,\n",
        "    \"x\"   : blank_curve\n",
        "}\n",
        "\n",
        "special = {\n",
        "    \"o\"   : rollhalf\n",
        "\n",
        "}\n",
        "\n",
        "colors = {\n",
        "    \"red\" : color_red,\n",
        "    \"blue\": color_blue,\n",
        "}\n",
        "\n",
        "def interpret_line(yoffset, line):\n",
        "  elements = line.split()\n",
        "  curve = None\n",
        "  color = 'k'\n",
        "  rollby = 0\n",
        "  for e in elements:\n",
        "    if e in special:\n",
        "      rollby = special[e](cvs)\n",
        "    elif e in colors:\n",
        "      color = colors[e]()\n",
        "    elif e[0] in interpret_curve:\n",
        "      mult = 1.0\n",
        "      if len(e) > 1:\n",
        "        mult = float(e[1:])\n",
        "      curve = interpret_curve[e[0]](curve, cvs, mult)\n",
        "  curve = cvs.roll(curve, rollby)\n",
        "  curve = cvs.yoffset(curve, yoffset)\n",
        "  plt.plot(curve[0,:], curve[1,:], color)\n",
        "  return color, curve\n"
      ],
      "metadata": {
        "id": "Au1SfO7ZB_iB"
      },
      "execution_count": 52,
      "outputs": []
    },
    {
      "cell_type": "code",
      "source": [
        ""
      ],
      "metadata": {
        "id": "Xo0pwiFbCCP9"
      },
      "execution_count": 52,
      "outputs": []
    },
    {
      "cell_type": "code",
      "source": [
        ""
      ],
      "metadata": {
        "id": "UBwW9O4I8q9s"
      },
      "execution_count": 52,
      "outputs": []
    },
    {
      "cell_type": "code",
      "source": [
        "name = \"testone\"\n",
        "\n",
        "yoffset = 0.0\n",
        "color, curve=interpret_line(yoffset, \"red A2 A2 A2 A2\")\n",
        "color, curve=interpret_line(yoffset, \"blue x2 |4 x2 |4 x2 |4\")\n",
        "yoffset -= cvs.h\n",
        "color, curve=interpret_line(yoffset, \"blue  B b B b B b B b\")\n",
        "yoffset -= cvs.h\n",
        "color, curve=interpret_line(yoffset, \"blue  B b B b B b B b\")\n",
        "yoffset -= cvs.h\n",
        "color, curve=interpret_line(yoffset, \"red o U2 U2 U2 U2 \")\n",
        "color, curve=interpret_line(yoffset, \"blue  x |-4 x2 |-4 x2 |-4 x2 |-4\")\n",
        "\n",
        "plt.axis('off')\n",
        "xmini, xmaxi, ymini, ymaxi = plt.axis('tight')\n",
        "xmini = xmini * 0\n",
        "xmaxi = xmaxi * 0.95\n",
        "ymini = ymini * 0.90\n",
        "ymaxi = ymaxi * 0.90\n",
        "\n",
        "plt.plot([xmini, xmini], [ymini,ymaxi], 'k' )\n",
        "plt.plot([xmaxi, xmaxi], [ymini,ymaxi], 'k' )\n",
        "plt.plot([xmini, xmaxi], [ymini,ymini], 'k' )\n",
        "plt.plot([xmini, xmaxi], [ymaxi,ymaxi], 'k' )\n",
        "plt.savefig(name + \".svg\")\n",
        "fixup_svg(name + \".svg\")\n"
      ],
      "metadata": {
        "colab": {
          "base_uri": "https://localhost:8080/",
          "height": 248
        },
        "id": "40HDDirGE_xx",
        "outputId": "4bc43fc0-2f75-455a-a7b0-5bbcce09d45d"
      },
      "execution_count": 65,
      "outputs": [
        {
          "output_type": "display_data",
          "data": {
            "image/png": "[encoded data removed]",
            "text/plain": [
              "<Figure size 432x288 with 1 Axes>"
            ]
          },
          "metadata": {
            "needs_background": "light"
          }
        }
      ]
    },
    {
      "cell_type": "code",
      "source": [
        ""
      ],
      "metadata": {
        "id": "fg02FcYX8pjZ"
      },
      "execution_count": 18,
      "outputs": []
    },
    {
      "cell_type": "code",
      "source": [
        ""
      ],
      "metadata": {
        "id": "cS9T3wocWR5e"
      },
      "execution_count": 18,
      "outputs": []
    },
    {
      "cell_type": "code",
      "source": [
        ""
      ],
      "metadata": {
        "colab": {
          "base_uri": "https://localhost:8080/"
        },
        "id": "e7cCEczsm87v",
        "outputId": "9ab92532-ce0a-40be-cd8b-88b48938c3de"
      },
      "execution_count": 183,
      "outputs": [
        {
          "output_type": "stream",
          "name": "stdout",
          "text": [
            "c\n",
            "[[ 0  1  2  3  4  5]\n",
            " [ 1  2  4  6  8 10]]\n",
            "d\n",
            "[[ 0  1  2  3  4  5]\n",
            " [ 8 10  1  2  4  6]]\n"
          ]
        }
      ]
    },
    {
      "cell_type": "code",
      "source": [
        "curve "
      ],
      "metadata": {
        "colab": {
          "base_uri": "https://localhost:8080/"
        },
        "id": "7oORWLznnHZi",
        "outputId": "7c918993-cb1d-4769-f9ae-631ccb3cd4c9"
      },
      "execution_count": 163,
      "outputs": [
        {
          "output_type": "execute_result",
          "data": {
            "text/plain": [
              "array([[ 0.        ,  0.        ,  0.02      ,  0.04      ,  0.06      ,\n",
              "         0.08      ,  0.1       ,  0.12      ,  0.14      ,  0.16      ,\n",
              "         0.18      ,  0.2       ,  0.22      ,  0.24      ,  0.26      ,\n",
              "         0.28      ,  0.3       ,  0.32      ,  0.34      ,  0.36      ,\n",
              "         0.38      ,  0.4       ,  0.42      ,  0.44      ,  0.46      ,\n",
              "         0.48      ,  0.5       ,  0.52      ,  0.54      ,  0.56      ,\n",
              "         0.58      ,  0.6       ,  0.62      ,  0.64      ,  0.66      ,\n",
              "         0.68      ,  0.7       ,  0.72      ,  0.74      ,  0.76      ,\n",
              "         0.78      ,  0.8       ,  0.82      ,  0.84      ,  0.86      ,\n",
              "         0.88      ,  0.9       ,  0.92      ,  0.94      ,  0.96      ,\n",
              "         0.98      ,  0.98      ,  1.        ,  1.02      ,  1.04      ,\n",
              "         1.06      ,  1.08      ,  1.1       ,  1.12      ,  1.14      ,\n",
              "         1.16      ,  1.18      ,  1.2       ,  1.22      ,  1.24      ,\n",
              "         1.26      ,  1.28      ,  1.3       ,  1.32      ,  1.34      ,\n",
              "         1.36      ,  1.38      ,  1.4       ,  1.42      ,  1.44      ,\n",
              "         1.46      ,  1.48      ,  1.5       ,  1.52      ,  1.54      ,\n",
              "         1.56      ,  1.58      ,  1.6       ,  1.62      ,  1.64      ,\n",
              "         1.66      ,  1.68      ,  1.7       ,  1.72      ,  1.74      ,\n",
              "         1.76      ,  1.78      ,  1.8       ,  1.82      ,  1.84      ,\n",
              "         1.86      ,  1.88      ,  1.9       ,  1.92      ,  1.94      ,\n",
              "         1.96      ,  1.96      ,  1.96      ,  1.96      ,  1.98      ,\n",
              "         2.        ,  2.02      ,  2.04      ,  2.06      ,  2.08      ,\n",
              "         2.1       ,  2.12      ,  2.14      ,  2.16      ,  2.18      ,\n",
              "         2.2       ,  2.22      ,  2.24      ,  2.26      ,  2.28      ,\n",
              "         2.3       ,  2.32      ,  2.34      ,  2.36      ,  2.38      ,\n",
              "         2.4       ,  2.42      ,  2.44      ,  2.46      ,  2.48      ,\n",
              "         2.5       ,  2.52      ,  2.54      ,  2.56      ,  2.58      ,\n",
              "         2.6       ,  2.62      ,  2.64      ,  2.66      ,  2.68      ,\n",
              "         2.7       ,  2.72      ,  2.74      ,  2.76      ,  2.78      ,\n",
              "         2.8       ,  2.82      ,  2.84      ,  2.86      ,  2.88      ,\n",
              "         2.9       ,  2.92      ,  2.94      ,  2.94      ,  2.96      ,\n",
              "         2.98      ,  3.        ,  3.02      ,  3.04      ,  3.06      ,\n",
              "         3.08      ,  3.1       ,  3.12      ,  3.14      ,  3.16      ,\n",
              "         3.18      ,  3.2       ,  3.22      ,  3.24      ,  3.26      ,\n",
              "         3.28      ,  3.3       ,  3.32      ,  3.34      ,  3.36      ,\n",
              "         3.38      ,  3.4       ,  3.42      ,  3.44      ,  3.46      ,\n",
              "         3.48      ,  3.5       ,  3.52      ,  3.54      ,  3.56      ,\n",
              "         3.58      ,  3.6       ,  3.62      ,  3.64      ,  3.66      ,\n",
              "         3.68      ,  3.7       ,  3.72      ,  3.74      ,  3.76      ,\n",
              "         3.78      ,  3.8       ,  3.82      ,  3.84      ,  3.86      ,\n",
              "         3.88      ,  3.9       ,  3.92      ,  3.92      ,  3.92      ,\n",
              "         3.92      ,  3.94      ,  3.96      ,  3.98      ,  4.        ,\n",
              "         4.02      ,  4.04      ,  4.06      ,  4.08      ,  4.1       ,\n",
              "         4.12      ,  4.14      ,  4.16      ,  4.18      ,  4.2       ,\n",
              "         4.22      ,  4.24      ,  4.26      ,  4.28      ,  4.3       ,\n",
              "         4.32      ,  4.34      ,  4.36      ,  4.38      ,  4.4       ,\n",
              "         4.42      ,  4.44      ,  4.46      ,  4.48      ,  4.5       ,\n",
              "         4.52      ,  4.54      ,  4.56      ,  4.58      ,  4.6       ,\n",
              "         4.62      ,  4.64      ,  4.66      ,  4.68      ,  4.7       ,\n",
              "         4.72      ,  4.74      ,  4.76      ,  4.78      ,  4.8       ,\n",
              "         4.82      ,  4.84      ,  4.86      ,  4.88      ,  4.9       ,\n",
              "         4.9       ,  4.92      ,  4.94      ,  4.96      ,  4.98      ,\n",
              "         5.        ,  5.02      ,  5.04      ,  5.06      ,  5.08      ,\n",
              "         5.1       ,  5.12      ,  5.14      ,  5.16      ,  5.18      ,\n",
              "         5.2       ,  5.22      ,  5.24      ,  5.26      ,  5.28      ,\n",
              "         5.3       ,  5.32      ,  5.34      ,  5.36      ,  5.38      ,\n",
              "         5.4       ,  5.42      ,  5.44      ,  5.46      ,  5.48      ,\n",
              "         5.5       ,  5.52      ,  5.54      ,  5.56      ,  5.58      ,\n",
              "         5.6       ,  5.62      ,  5.64      ,  5.66      ,  5.68      ,\n",
              "         5.7       ,  5.72      ,  5.74      ,  5.76      ,  5.78      ,\n",
              "         5.8       ,  5.82      ,  5.84      ,  5.86      ,  5.88      ,\n",
              "         5.88      ,  5.88      ,  5.88      ,  5.9       ,  5.92      ,\n",
              "         5.94      ,  5.96      ,  5.98      ,  6.        ,  6.02      ,\n",
              "         6.04      ,  6.06      ,  6.08      ,  6.1       ,  6.12      ,\n",
              "         6.14      ,  6.16      ,  6.18      ,  6.2       ,  6.22      ,\n",
              "         6.24      ,  6.26      ,  6.28      ,  6.3       ,  6.32      ,\n",
              "         6.34      ,  6.36      ,  6.38      ,  6.4       ,  6.42      ,\n",
              "         6.44      ,  6.46      ,  6.48      ,  6.5       ,  6.52      ,\n",
              "         6.54      ,  6.56      ,  6.58      ,  6.6       ,  6.62      ,\n",
              "         6.64      ,  6.66      ,  6.68      ,  6.7       ,  6.72      ,\n",
              "         6.74      ,  6.76      ,  6.78      ,  6.8       ,  6.82      ,\n",
              "         6.84      ,  6.86      ,  6.86      ,  6.88      ,  6.9       ,\n",
              "         6.92      ,  6.94      ,  6.96      ,  6.98      ,  7.        ,\n",
              "         7.02      ,  7.04      ,  7.06      ,  7.08      ,  7.1       ,\n",
              "         7.12      ,  7.14      ,  7.16      ,  7.18      ,  7.2       ,\n",
              "         7.22      ,  7.24      ,  7.26      ,  7.28      ,  7.3       ,\n",
              "         7.32      ,  7.34      ,  7.36      ,  7.38      ,  7.4       ,\n",
              "         7.42      ,  7.44      ,  7.46      ,  7.48      ,  7.5       ,\n",
              "         7.52      ,  7.54      ,  7.56      ,  7.58      ,  7.6       ,\n",
              "         7.62      ,  7.64      ,  7.66      ,  7.68      ,  7.7       ,\n",
              "         7.72      ,  7.74      ,  7.76      ,  7.78      ,  7.8       ,\n",
              "         7.82      ,  7.84      ],\n",
              "       [-1.98      , -1.98      , -2.02131985, -2.06258932, -2.10377411,\n",
              "        -2.14483936, -2.18574969, -2.22646927, -2.26696187, -2.30719086,\n",
              "        -2.34711935, -2.38671015, -2.4259259 , -2.46472909, -2.50308213,\n",
              "        -2.54094739, -2.57828731, -2.61506439, -2.65124132, -2.68678098,\n",
              "        -2.72164657, -2.7558016 , -2.78921003, -2.82183625, -2.85364523,\n",
              "        -2.88460249, -2.91467425, -2.94382744, -2.97202977, -2.99924978,\n",
              "        -3.02545692, -3.05062161, -3.07471525, -3.09771034, -3.11958047,\n",
              "        -3.14030042, -3.15984618, -3.178195  , -3.19532545, -3.21121742,\n",
              "        -3.22585223, -3.23921259, -3.2512827 , -3.26204822, -3.27149635,\n",
              "        -3.27961584, -3.28639697, -3.29183165, -3.29591338, -3.29863725,\n",
              "        -3.3       , -3.3       , -3.29863725, -3.29591338, -3.29183165,\n",
              "        -3.28639697, -3.27961584, -3.27149635, -3.26204822, -3.2512827 ,\n",
              "        -3.23921259, -3.22585223, -3.21121742, -3.19532545, -3.178195  ,\n",
              "        -3.15984618, -3.14030042, -3.11958047, -3.09771034, -3.07471525,\n",
              "        -3.05062161, -3.02545692, -2.99924978, -2.97202977, -2.94382744,\n",
              "        -2.91467425, -2.88460249, -2.85364523, -2.82183625, -2.78921003,\n",
              "        -2.7558016 , -2.72164657, -2.68678098, -2.65124132, -2.61506439,\n",
              "        -2.57828731, -2.54094739, -2.50308213, -2.46472909, -2.4259259 ,\n",
              "        -2.38671015, -2.34711935, -2.30719086, -2.26696187, -2.22646927,\n",
              "        -2.18574969, -2.14483936, -2.10377411, -2.06258932, -2.02131985,\n",
              "        -1.98      , -1.98      , -4.62      , -1.98      , -2.02131985,\n",
              "        -2.06258932, -2.10377411, -2.14483936, -2.18574969, -2.22646927,\n",
              "        -2.26696187, -2.30719086, -2.34711935, -2.38671015, -2.4259259 ,\n",
              "        -2.46472909, -2.50308213, -2.54094739, -2.57828731, -2.61506439,\n",
              "        -2.65124132, -2.68678098, -2.72164657, -2.7558016 , -2.78921003,\n",
              "        -2.82183625, -2.85364523, -2.88460249, -2.91467425, -2.94382744,\n",
              "        -2.97202977, -2.99924978, -3.02545692, -3.05062161, -3.07471525,\n",
              "        -3.09771034, -3.11958047, -3.14030042, -3.15984618, -3.178195  ,\n",
              "        -3.19532545, -3.21121742, -3.22585223, -3.23921259, -3.2512827 ,\n",
              "        -3.26204822, -3.27149635, -3.27961584, -3.28639697, -3.29183165,\n",
              "        -3.29591338, -3.29863725, -3.3       , -3.3       , -3.29863725,\n",
              "        -3.29591338, -3.29183165, -3.28639697, -3.27961584, -3.27149635,\n",
              "        -3.26204822, -3.2512827 , -3.23921259, -3.22585223, -3.21121742,\n",
              "        -3.19532545, -3.178195  , -3.15984618, -3.14030042, -3.11958047,\n",
              "        -3.09771034, -3.07471525, -3.05062161, -3.02545692, -2.99924978,\n",
              "        -2.97202977, -2.94382744, -2.91467425, -2.88460249, -2.85364523,\n",
              "        -2.82183625, -2.78921003, -2.7558016 , -2.72164657, -2.68678098,\n",
              "        -2.65124132, -2.61506439, -2.57828731, -2.54094739, -2.50308213,\n",
              "        -2.46472909, -2.4259259 , -2.38671015, -2.34711935, -2.30719086,\n",
              "        -2.26696187, -2.22646927, -2.18574969, -2.14483936, -2.10377411,\n",
              "        -2.06258932, -2.02131985, -1.98      , -1.98      , -4.62      ,\n",
              "        -1.98      , -2.02131985, -2.06258932, -2.10377411, -2.14483936,\n",
              "        -2.18574969, -2.22646927, -2.26696187, -2.30719086, -2.34711935,\n",
              "        -2.38671015, -2.4259259 , -2.46472909, -2.50308213, -2.54094739,\n",
              "        -2.57828731, -2.61506439, -2.65124132, -2.68678098, -2.72164657,\n",
              "        -2.7558016 , -2.78921003, -2.82183625, -2.85364523, -2.88460249,\n",
              "        -2.91467425, -2.94382744, -2.97202977, -2.99924978, -3.02545692,\n",
              "        -3.05062161, -3.07471525, -3.09771034, -3.11958047, -3.14030042,\n",
              "        -3.15984618, -3.178195  , -3.19532545, -3.21121742, -3.22585223,\n",
              "        -3.23921259, -3.2512827 , -3.26204822, -3.27149635, -3.27961584,\n",
              "        -3.28639697, -3.29183165, -3.29591338, -3.29863725, -3.3       ,\n",
              "        -3.3       , -3.29863725, -3.29591338, -3.29183165, -3.28639697,\n",
              "        -3.27961584, -3.27149635, -3.26204822, -3.2512827 , -3.23921259,\n",
              "        -3.22585223, -3.21121742, -3.19532545, -3.178195  , -3.15984618,\n",
              "        -3.14030042, -3.11958047, -3.09771034, -3.07471525, -3.05062161,\n",
              "        -3.02545692, -2.99924978, -2.97202977, -2.94382744, -2.91467425,\n",
              "        -2.88460249, -2.85364523, -2.82183625, -2.78921003, -2.7558016 ,\n",
              "        -2.72164657, -2.68678098, -2.65124132, -2.61506439, -2.57828731,\n",
              "        -2.54094739, -2.50308213, -2.46472909, -2.4259259 , -2.38671015,\n",
              "        -2.34711935, -2.30719086, -2.26696187, -2.22646927, -2.18574969,\n",
              "        -2.14483936, -2.10377411, -2.06258932, -2.02131985, -1.98      ,\n",
              "        -1.98      , -4.62      , -1.98      , -2.02131985, -2.06258932,\n",
              "        -2.10377411, -2.14483936, -2.18574969, -2.22646927, -2.26696187,\n",
              "        -2.30719086, -2.34711935, -2.38671015, -2.4259259 , -2.46472909,\n",
              "        -2.50308213, -2.54094739, -2.57828731, -2.61506439, -2.65124132,\n",
              "        -2.68678098, -2.72164657, -2.7558016 , -2.78921003, -2.82183625,\n",
              "        -2.85364523, -2.88460249, -2.91467425, -2.94382744, -2.97202977,\n",
              "        -2.99924978, -3.02545692, -3.05062161, -3.07471525, -3.09771034,\n",
              "        -3.11958047, -3.14030042, -3.15984618, -3.178195  , -3.19532545,\n",
              "        -3.21121742, -3.22585223, -3.23921259, -3.2512827 , -3.26204822,\n",
              "        -3.27149635, -3.27961584, -3.28639697, -3.29183165, -3.29591338,\n",
              "        -3.29863725, -3.3       , -3.3       , -3.29863725, -3.29591338,\n",
              "        -3.29183165, -3.28639697, -3.27961584, -3.27149635, -3.26204822,\n",
              "        -3.2512827 , -3.23921259, -3.22585223, -3.21121742, -3.19532545,\n",
              "        -3.178195  , -3.15984618, -3.14030042, -3.11958047, -3.09771034,\n",
              "        -3.07471525, -3.05062161, -3.02545692, -2.99924978, -2.97202977,\n",
              "        -2.94382744, -2.91467425, -2.88460249, -2.85364523, -2.82183625,\n",
              "        -2.78921003, -2.7558016 , -2.72164657, -2.68678098, -2.65124132,\n",
              "        -2.61506439, -2.57828731, -2.54094739, -2.50308213, -2.46472909,\n",
              "        -2.4259259 , -2.38671015, -2.34711935, -2.30719086, -2.26696187,\n",
              "        -2.22646927, -2.18574969, -2.14483936, -2.10377411, -2.06258932,\n",
              "        -2.02131985, -1.98      ]])"
            ]
          },
          "metadata": {},
          "execution_count": 163
        }
      ]
    },
    {
      "cell_type": "code",
      "source": [
        ""
      ],
      "metadata": {
        "id": "8yMUytiO3tj8"
      },
      "execution_count": null,
      "outputs": []
    }
  ]
}