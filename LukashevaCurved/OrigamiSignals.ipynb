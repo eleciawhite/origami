{
  "nbformat": 4,
  "nbformat_minor": 0,
  "metadata": {
    "colab": {
      "provenance": [],
      "authorship_tag": "ABX9TyPxub7wE4qRttEKz03SrCC3",
      "include_colab_link": true
    },
    "kernelspec": {
      "name": "python3",
      "display_name": "Python 3"
    },
    "language_info": {
      "name": "python"
    }
  },
  "cells": [
    {
      "cell_type": "markdown",
      "metadata": {
        "id": "view-in-github",
        "colab_type": "text"
      },
      "source": [
        "<a href=\"https://colab.research.google.com/github/eleciawhite/origami/blob/main/LukashevaCurved/OrigamiSignals.ipynb\" target=\"_parent\"><img src=\"https://colab.research.google.com/assets/colab-badge.svg\" alt=\"Open In Colab\"/></a>"
      ]
    },
    {
      "cell_type": "markdown",
      "source": [
        "This script explores how origami can be made of different mathematical functions and rotations. It is not intended to be used by anyone by me (Elecia White). If you do end up here, you may want to look at my [KateTess colab](https://colab.research.google.com/drive/1fzYIjLuT9UMiUwyxtAOIls0isZT1IvX4?usp=sharing) first as there is some overlap in functions and that is better documented. Or at my [YoshiSines colab](https://colab.research.google.com/drive/1OE3RBsKrw5A8SIV6d2B1cbP3igKiKiIU?usp=sharing) if that is what you are looking for."
      ],
      "metadata": {
        "id": "b-RzlivYOIZK"
      }
    },
    {
      "cell_type": "code",
      "execution_count": null,
      "metadata": {
        "id": "p56Kzq2A31to"
      },
      "outputs": [],
      "source": [
        "from math import *\n",
        "import matplotlib.pyplot as plt\n",
        "import numpy as np\n",
        "from matplotlib import collections  as mc\n",
        "from matplotlib.patches import Ellipse, Wedge, Polygon\n",
        "from matplotlib.path import Path\n",
        "import matplotlib\n",
        "import itertools\n",
        "\n",
        "from scipy.spatial import distance\n",
        "from scipy import signal\n",
        "import scipy\n",
        "from google.colab import files\n"
      ]
    },
    {
      "cell_type": "markdown",
      "source": [
        "I want to be able to use the Amanda Ghassaei's [Origami Simulator](https://origamisimulator.org/) to test the output of the script. \n",
        "\n",
        "In this next block, I'm fixing up the matplotlib output to be more compatible with the simulator."
      ],
      "metadata": {
        "id": "t72uLZWa4FbH"
      }
    },
    {
      "cell_type": "code",
      "source": [
        "indef = False\n",
        "def rm_clippath(line):\n",
        "  global indef\n",
        "\n",
        "  if not indef:\n",
        "    f = line.find('<clipPath')\n",
        "  else:\n",
        "    f = line.find('</clipPath>')\n",
        "  if f >= 0:\n",
        "    indef = not indef\n",
        "    return \"\"\n",
        "  if indef: return \"\"\n",
        "\n",
        "  f = line.find('clip-path')\n",
        "  if (f < 0): return line\n",
        "  fc = line.find('\"', f) + 1\n",
        "  fe = line.find('\"', fc) +1\n",
        "  return line[:f]+line[fe:]\n",
        "\n",
        "def fixup_svg(infile):\n",
        "  global indef\n",
        "  indef = False\n",
        "  outfile = \"kt_\"+ infile\n",
        "  replace_list = [['fill:none;',\"\"], ['style=\"fill:#ffffff;\"/>','style=\"fill:none;stroke:#000000\"/>' ]]\n",
        "  with open(infile) as fin, open(outfile, \"w+\") as fout:\n",
        "    for line in fin:\n",
        "      line = rm_clippath(line)\n",
        "      for pair in replace_list:\n",
        "        line = line.replace(pair[0], pair[1])\n",
        "      fout.write(line)\n",
        "  return outfile\n",
        "\n",
        "def save_fig(name):\n",
        "#  plt.axis('equal') # sometimes you need this but you can put it before save_fig\n",
        "  plt.axis('off')\n",
        "  plt.savefig(name + \".svg\", bbox_inches = 'tight')\n",
        "  outputfilename = fixup_svg(name + \".svg\")\n",
        "  files.download(outputfilename)"
      ],
      "metadata": {
        "id": "q_XWgPE536fO"
      },
      "execution_count": null,
      "outputs": []
    },
    {
      "cell_type": "markdown",
      "source": [
        "I want a signal that is a sine wave inside a gassian. This turns out not to have any application yet but it would make the center open and harder to fold with the edges compressible, like a wrapper on a candy."
      ],
      "metadata": {
        "id": "biQc1ZgRyBug"
      }
    },
    {
      "cell_type": "code",
      "source": [
        "edge = 0.6\n",
        "amplitude = 0.3\n",
        "download = False\n",
        "\n",
        "t = np.linspace(-edge, edge, 2 * 100, endpoint=False)\n",
        "i, q, e = signal.gausspulse(t, fc=5, retquad=True, retenv=True)\n",
        "x = amplitude * i\n",
        "plt.plot(t, x)\n",
        "\n",
        "plt.axis('equal')\n",
        "plt.axis('off')\n",
        "\n",
        "name = \"gausspulse\"\n",
        "plt.savefig(name + \".svg\")\n",
        "outputfilename = fixup_svg(name + \".svg\")\n",
        "if (download): files.download(outputfilename)\n"
      ],
      "metadata": {
        "colab": {
          "base_uri": "https://localhost:8080/",
          "height": 248
        },
        "id": "qANgG9m44Djx",
        "outputId": "0c566bdd-c902-4b32-9dc0-413188855444"
      },
      "execution_count": null,
      "outputs": [
        {
          "output_type": "display_data",
          "data": {
            "text/plain": [
              "<Figure size 432x288 with 1 Axes>"
            ],
            "image/png": "[encoded data removed]"
          },
          "metadata": {
            "needs_background": "light"
          }
        }
      ]
    },
    {
      "cell_type": "markdown",
      "source": [
        "Chirps are kind of the opposide of a sine-contained-in-a-gaussian. These have a lot of applications in my origami as (when mirrored) they make the center very compressible (and rotatable) but the edges are curvy and fixed. \n",
        "\n",
        "To make a foldable origami from this, take the SVG and replicate it several times. A smaller amplitude is likely to work best but I tend to do that as I build the project. Here is a [Cricut Project.](https://design.cricut.com/landing/project-detail/637b9916f431d6b2923ef566) with pictures of partially complete and the full rotation and compression."
      ],
      "metadata": {
        "id": "qlYcPg6PyBK2"
      }
    },
    {
      "cell_type": "code",
      "source": [
        "t = np.linspace(0, 5, 500)\n",
        "\n",
        "wq = signal.chirp(t, f0=0.1, f1=1, t1=5, method='quadratic')\n",
        "plt.plot(t, wq)\n",
        "if (download): save_fig(\"chirp01_1_quadratic\")"
      ],
      "metadata": {
        "id": "LtlHnw9qEZ1r",
        "colab": {
          "base_uri": "https://localhost:8080/",
          "height": 265
        },
        "outputId": "c5df6f8a-ce21-4e63-94c5-3e7ecca0fa7d"
      },
      "execution_count": null,
      "outputs": [
        {
          "output_type": "display_data",
          "data": {
            "text/plain": [
              "<Figure size 432x288 with 1 Axes>"
            ],
            "image/png": "[encoded data removed]"
          },
          "metadata": {
            "needs_background": "light"
          }
        }
      ]
    },
    {
      "cell_type": "code",
      "source": [
        "t = np.linspace(0, 5, 500)\n",
        "\n",
        "wh = signal.chirp(t, f0=0.1, f1=1, t1=5, method='hyperbolic')\n",
        "plt.plot(t, wh)\n",
        "if (download): save_fig(\"chirp01_1_hyperbolic\")"
      ],
      "metadata": {
        "id": "P40wal4o4QJk",
        "colab": {
          "base_uri": "https://localhost:8080/",
          "height": 265
        },
        "outputId": "9f06182d-94d9-40a7-c557-f75602b47843"
      },
      "execution_count": null,
      "outputs": [
        {
          "output_type": "display_data",
          "data": {
            "text/plain": [
              "<Figure size 432x288 with 1 Axes>"
            ],
            "image/png": "[encoded data removed]"
          },
          "metadata": {
            "needs_background": "light"
          }
        }
      ]
    },
    {
      "cell_type": "markdown",
      "source": [
        "\n",
        "The next function rotates a signal around a point. This is usually added to a new signal."
      ],
      "metadata": {
        "id": "zdQr4sbPelB0"
      }
    },
    {
      "cell_type": "code",
      "source": [
        "def rotate(p, origin=(0, 0), degrees=0):\n",
        "    angle = np.deg2rad(degrees)\n",
        "    R = np.array([[np.cos(angle), -np.sin(angle)],\n",
        "                  [np.sin(angle),  np.cos(angle)]])\n",
        "    o = np.atleast_2d(origin)\n",
        "    p = np.atleast_2d(p)\n",
        "    return np.squeeze((R @ (p.T-o.T) + o.T).T)"
      ],
      "metadata": {
        "id": "oTI3azIgsGIY"
      },
      "execution_count": null,
      "outputs": []
    },
    {
      "cell_type": "markdown",
      "source": [
        "Below is a nice wave pattern, generated from chirps rotated around point that is off screen. Note that this clips the signal so it fits in a particular frame. This pattern works well in the Origami Simulator. Here is a [Cricut Project](https://design.cricut.com/landing/project-detail/63a2771bb3466a71efaf57aa) with a pic and the pattern imported."
      ],
      "metadata": {
        "id": "OA48Gjhfzw-M"
      }
    },
    {
      "cell_type": "code",
      "source": [
        "t = np.linspace(-1, 8, 500)\n",
        "y2 =5/((t+3))\n",
        "wl = 0.5*signal.chirp(t, f0=0.1, f1=1, t1=6, method='linear')\n",
        "\n",
        "falling_chirp= wl*y2\n",
        "\n",
        "xr = np.hstack((np.vstack(t), np.vstack(falling_chirp)))\n",
        "origin=(xr[0])\n",
        "xr = rotate(xr, origin=origin, degrees=30)\n",
        "total_angle = 0\n",
        "angle = 10\n",
        "color = 'b'\n",
        "while (total_angle <= 80):\n",
        "  if color == 'b':\n",
        "    color = 'r'\n",
        "  else:\n",
        "    color = 'b'\n",
        "  xr = rotate(xr, origin=origin, degrees=-angle)\n",
        "  plt.plot(xr[:,0], xr[:, 1], color) \n",
        "  total_angle += angle\n",
        "\n",
        "print(origin)\n",
        "plt.axis('equal')\n",
        "plt.ylim([-2.15, 0.85])\n",
        "plt.xlim([-0.7, 5.3])\n",
        "plt.axis('off')\n",
        "#plt.axis('on')\n",
        "if (download): save_fig(\"waves1\")\n",
        "# This turns out pretty good, a lot of stress around that first sharp turn but \n",
        "# overall, very nice"
      ],
      "metadata": {
        "colab": {
          "base_uri": "https://localhost:8080/",
          "height": 266
        },
        "id": "DoLdIcaGtSe9",
        "outputId": "7f737913-f9c4-4c37-f577-4e542d82ebec"
      },
      "execution_count": null,
      "outputs": [
        {
          "output_type": "stream",
          "name": "stdout",
          "text": [
            "[-1.          1.23461043]\n"
          ]
        },
        {
          "output_type": "display_data",
          "data": {
            "text/plain": [
              "<Figure size 432x288 with 1 Axes>"
            ],
            "image/png": "[encoded data removed]"
          },
          "metadata": {
            "needs_background": "light"
          }
        }
      ]
    },
    {
      "cell_type": "markdown",
      "source": [
        "The following pattern is NOT good, too much interference between the straights and curves. "
      ],
      "metadata": {
        "id": "76E4uWKJ0LDC"
      }
    },
    {
      "cell_type": "code",
      "source": [
        "# Another take on waves\n",
        "\n",
        "t = np.linspace(-1, 8, 500)\n",
        "y2 =5/((t+3))\n",
        "wl = 0.25*signal.chirp(t, f0=0.1, f1=1, t1=6, method='linear')\n",
        "\n",
        "falling_chirp= wl*y2\n",
        "\n",
        "xr = np.hstack((np.vstack(t), np.vstack(falling_chirp)))\n",
        "origin=(xr[0])\n",
        "xr = rotate(xr, origin=origin, degrees=30)\n",
        "total_angle = 0\n",
        "angle = 5\n",
        "color = 'b'\n",
        "while (total_angle <= 80):\n",
        "  if color == 'b':\n",
        "    color = 'r'\n",
        "  else:\n",
        "    color = 'b'\n",
        "  xr[:,1] = xr[:,1] - 0.1\n",
        "  origin=(xr[0])\n",
        "  xr = rotate(xr, origin=origin, degrees=-angle)\n",
        "  plt.plot(xr[:,0], xr[:, 1], color) \n",
        "  total_angle += angle\n",
        "\n",
        "  \n",
        "plt.axis('equal')\n",
        "plt.ylim([-2.5, 0.5])\n",
        "plt.xlim([0, 6])\n",
        "plt.axis('off')\n",
        "#plt.axis('on')\n",
        "if (download): save_fig(\"waves2\")\n",
        "# This is not as good as previous, the sine areas fight each other"
      ],
      "metadata": {
        "colab": {
          "base_uri": "https://localhost:8080/",
          "height": 248
        },
        "id": "Pt_uPwkH5brt",
        "outputId": "776861c1-16a2-4355-d640-0c0318a2afd4"
      },
      "execution_count": null,
      "outputs": [
        {
          "output_type": "display_data",
          "data": {
            "text/plain": [
              "<Figure size 432x288 with 1 Axes>"
            ],
            "image/png": "[encoded data removed]"
          },
          "metadata": {
            "needs_background": "light"
          }
        }
      ]
    },
    {
      "cell_type": "markdown",
      "source": [
        "Sine waves that move in different ways are interesting. This has a sine wave added to a binomial as I started to explore sine waves of sine waves. This didn't turn out to have a lot of utility but I do have a nice [Cricut Project](https://design.cricut.com/landing/project-detail/631256e2fc3f79a4ca39b3f2) of simple sine waves."
      ],
      "metadata": {
        "id": "MEGasy8U3cUC"
      }
    },
    {
      "cell_type": "code",
      "source": [
        "# Define the x-values for the two signals\n",
        "x = np.linspace(-2*np.pi, 2*np.pi, 500)\n",
        "\n",
        "# Define the two signals\n",
        "y1 = np.sin(4*x)\n",
        "y2 =(1/5)* x**2\n",
        "\n",
        "# add them together\n",
        "y3 = y1+y2\n",
        "\n",
        "# Plot the resulting signal\n",
        "plt.plot(x, y1, 'r', x, y2,'b', x, y3, 'g')\n",
        "if (download): save_fig(\"sin4x_plus_02xsq\")"
      ],
      "metadata": {
        "colab": {
          "base_uri": "https://localhost:8080/",
          "height": 248
        },
        "id": "Wxppe0tVL8Gl",
        "outputId": "d40323c7-670e-4e66-ba26-38e397d205f3"
      },
      "execution_count": null,
      "outputs": [
        {
          "output_type": "display_data",
          "data": {
            "text/plain": [
              "<IPython.core.display.Javascript object>"
            ],
            "application/javascript": [
              "\n",
              "    async function download(id, filename, size) {\n",
              "      if (!google.colab.kernel.accessAllowed) {\n",
              "        return;\n",
              "      }\n",
              "      const div = document.createElement('div');\n",
              "      const label = document.createElement('label');\n",
              "      label.textContent = `Downloading \"${filename}\": `;\n",
              "      div.appendChild(label);\n",
              "      const progress = document.createElement('progress');\n",
              "      progress.max = size;\n",
              "      div.appendChild(progress);\n",
              "      document.body.appendChild(div);\n",
              "\n",
              "      const buffers = [];\n",
              "      let downloaded = 0;\n",
              "\n",
              "      const channel = await google.colab.kernel.comms.open(id);\n",
              "      // Send a message to notify the kernel that we're ready.\n",
              "      channel.send({})\n",
              "\n",
              "      for await (const message of channel.messages) {\n",
              "        // Send a message to notify the kernel that we're ready.\n",
              "        channel.send({})\n",
              "        if (message.buffers) {\n",
              "          for (const buffer of message.buffers) {\n",
              "            buffers.push(buffer);\n",
              "            downloaded += buffer.byteLength;\n",
              "            progress.value = downloaded;\n",
              "          }\n",
              "        }\n",
              "      }\n",
              "      const blob = new Blob(buffers, {type: 'application/binary'});\n",
              "      const a = document.createElement('a');\n",
              "      a.href = window.URL.createObjectURL(blob);\n",
              "      a.download = filename;\n",
              "      div.appendChild(a);\n",
              "      a.click();\n",
              "      div.remove();\n",
              "    }\n",
              "  "
            ]
          },
          "metadata": {}
        },
        {
          "output_type": "display_data",
          "data": {
            "text/plain": [
              "<IPython.core.display.Javascript object>"
            ],
            "application/javascript": [
              "download(\"download_fa08769a-f217-48e4-860d-97875fb4eb06\", \"kt_sin4x_plus_02xsq.svg\", 15532)"
            ]
          },
          "metadata": {}
        },
        {
          "output_type": "display_data",
          "data": {
            "text/plain": [
              "<Figure size 432x288 with 1 Axes>"
            ],
            "image/png": "[encoded data removed]"
          },
          "metadata": {
            "needs_background": "light"
          }
        }
      ]
    },
    {
      "cell_type": "code",
      "source": [
        "# Bezier output \n",
        "!pip install svgpathtools\n",
        "import svgpathtools\n"
      ],
      "metadata": {
        "colab": {
          "base_uri": "https://localhost:8080/"
        },
        "id": "NbYyuYqzENVF",
        "outputId": "73b90cd0-ccb7-4c73-bf63-751a621fcdff"
      },
      "execution_count": null,
      "outputs": [
        {
          "output_type": "stream",
          "name": "stdout",
          "text": [
            "Looking in indexes: https://pypi.org/simple, https://us-python.pkg.dev/colab-wheels/public/simple/\n",
            "Collecting svgpathtools\n",
            "  Downloading svgpathtools-1.6.0-py2.py3-none-any.whl (67 kB)\n",
            "\u001b[2K     \u001b[90m━━━━━━━━━━━━━━━━━━━━━━━━━━━━━━━━━━━━━━━━\u001b[0m \u001b[32m67.4/67.4 KB\u001b[0m \u001b[31m6.8 MB/s\u001b[0m eta \u001b[36m0:00:00\u001b[0m\n",
            "\u001b[?25hRequirement already satisfied: numpy in /usr/local/lib/python3.8/dist-packages (from svgpathtools) (1.21.6)\n",
            "Requirement already satisfied: scipy in /usr/local/lib/python3.8/dist-packages (from svgpathtools) (1.7.3)\n",
            "Collecting svgwrite\n",
            "  Downloading svgwrite-1.4.3-py3-none-any.whl (67 kB)\n",
            "\u001b[2K     \u001b[90m━━━━━━━━━━━━━━━━━━━━━━━━━━━━━━━━━━━━━━━━\u001b[0m \u001b[32m67.1/67.1 KB\u001b[0m \u001b[31m6.6 MB/s\u001b[0m eta \u001b[36m0:00:00\u001b[0m\n",
            "\u001b[?25hInstalling collected packages: svgwrite, svgpathtools\n",
            "Successfully installed svgpathtools-1.6.0 svgwrite-1.4.3\n"
          ]
        }
      ]
    },
    {
      "cell_type": "code",
      "source": [
        "from svgpathtools import svg2paths2\n",
        "from svgpathtools import smoothed_path\n",
        "import svgpathtools\n",
        "\n",
        "paths, attributes, svg_attributes = svg2paths2('sin4x_plus_02xsq.svg')"
      ],
      "metadata": {
        "id": "5r2xYUVVEiyz"
      },
      "execution_count": null,
      "outputs": []
    },
    {
      "cell_type": "code",
      "source": [
        "\n",
        "\n",
        "print(\"Starting: {} paths\", len(paths))\n",
        "for i in range(len(paths)):\n",
        "  if 'style' in attributes[i]:\n",
        "    print(\"  {}  len {} style {}\".format(i, len(paths[i]), attributes[i]['style']))\n",
        "  else:\n",
        "    print(\"  {}  len {} \".format(i, len(paths[i])))\n",
        "#  s = smoothed_path(paths[i])\n",
        "#  print(\"    smoothed  len {} \".format(i, len(s)))\n"
      ],
      "metadata": {
        "colab": {
          "base_uri": "https://localhost:8080/"
        },
        "id": "tpOmBi-VG1rS",
        "outputId": "5c3461cf-a4bd-4600-8781-c6a0e7018bba"
      },
      "execution_count": null,
      "outputs": [
        {
          "output_type": "stream",
          "name": "stdout",
          "text": [
            "Starting: {} paths 5\n",
            "  0  len 4 style fill:#ffffff;\n",
            "  1  len 263 style fill:none;stroke:#ff0000;stroke-linecap:square;stroke-width:1.5;\n",
            "  2  len 66 style fill:none;stroke:#0000ff;stroke-linecap:square;stroke-width:1.5;\n",
            "  3  len 264 style fill:none;stroke:#008000;stroke-linecap:square;stroke-width:1.5;\n",
            "  4  len 4 \n"
          ]
        }
      ]
    },
    {
      "cell_type": "code",
      "source": [
        "# for each path whose len >4\n",
        "  # for each Line in the path\n",
        "    # points.append( [line.start.real , line.start.imag])\n",
        "    # if current.end != next.end\n",
        "      # points.append(end)\n",
        "  # feed the data into get_bezier_parameters\n",
        "  # create a Quadratic Bezier with svgpathtools\n",
        "  # wsvg on output\n",
        "\n",
        "data = get_bezier_parameters(xpoints, ypoints, degree=4)\n",
        "x_val = [x[0] for x in data]\n",
        "y_val = [x[1] for x in data]\n",
        "\n",
        "xvals, yvals = bezier_curve(data, nTimes=1000)\n",
        "plt.plot(xvals, yvals, 'b-', label='B Curve')\n"
      ],
      "metadata": {
        "colab": {
          "base_uri": "https://localhost:8080/"
        },
        "id": "e4cRTfjbHPs0",
        "outputId": "6a1bad58-307b-47a7-dde2-07325e2a84be"
      },
      "execution_count": null,
      "outputs": [
        {
          "output_type": "execute_result",
          "data": {
            "text/plain": [
              "(22.418182+22.024578j)"
            ]
          },
          "metadata": {},
          "execution_count": 130
        }
      ]
    },
    {
      "cell_type": "code",
      "source": [],
      "metadata": {
        "id": "LtxB79eiIGEq"
      },
      "execution_count": null,
      "outputs": []
    },
    {
      "cell_type": "code",
      "source": [
        "s = smoothed_path(paths[2])\n",
        "print(len(s), len(paths[2]))"
      ],
      "metadata": {
        "colab": {
          "base_uri": "https://localhost:8080/"
        },
        "id": "hmo96cD5NWYw",
        "outputId": "9fecbee5-f604-49a9-9a41-025713e2f317"
      },
      "execution_count": null,
      "outputs": [
        {
          "output_type": "stream",
          "name": "stdout",
          "text": [
            "129 65\n"
          ]
        }
      ]
    },
    {
      "cell_type": "code",
      "source": [
        "p = 3\n",
        "for i in range(len(paths[p])):\n",
        "  if paths[p][i].start == paths[p][i].end:\n",
        "      print(i)\n",
        "      paths[p].remove(paths[p][i])\n"
      ],
      "metadata": {
        "id": "wEdZZnNXNsuH"
      },
      "execution_count": null,
      "outputs": []
    },
    {
      "cell_type": "code",
      "source": [
        "#https://stackoverflow.com/questions/12643079/bézier-curve-fitting-with-scipy\n",
        "\n",
        "import numpy as np\n",
        "from scipy.special import comb\n",
        "\n",
        "def get_bezier_parameters(X, Y, degree=3):\n",
        "    \"\"\" Least square qbezier fit using penrose pseudoinverse.\n",
        "\n",
        "    Parameters:\n",
        "\n",
        "    X: array of x data.\n",
        "    Y: array of y data. Y[0] is the y point for X[0].\n",
        "    degree: degree of the Bézier curve. 2 for quadratic, 3 for cubic.\n",
        "\n",
        "    Based on https://stackoverflow.com/questions/12643079/b%C3%A9zier-curve-fitting-with-scipy\n",
        "    and probably on the 1998 thesis by Tim Andrew Pastva, \"Bézier Curve Fitting\".\n",
        "    \"\"\"\n",
        "    if degree < 1:\n",
        "        raise ValueError('degree must be 1 or greater.')\n",
        "\n",
        "    if len(X) != len(Y):\n",
        "        raise ValueError('X and Y must be of the same length.')\n",
        "\n",
        "    if len(X) < degree + 1:\n",
        "        raise ValueError(f'There must be at least {degree + 1} points to '\n",
        "                         f'determine the parameters of a degree {degree} curve. '\n",
        "                         f'Got only {len(X)} points.')\n",
        "\n",
        "    def bpoly(n, t, k):\n",
        "        \"\"\" Bernstein polynomial when a = 0 and b = 1. \"\"\"\n",
        "        return t ** k * (1 - t) ** (n - k) * comb(n, k)\n",
        "        #return comb(n, i) * ( t**(n-i) ) * (1 - t)**i\n",
        "\n",
        "    def bmatrix(T):\n",
        "        \"\"\" Bernstein matrix for Bézier curves. \"\"\"\n",
        "        return np.matrix([[bpoly(degree, t, k) for k in range(degree + 1)] for t in T])\n",
        "\n",
        "    def least_square_fit(points, M):\n",
        "        M_ = np.linalg.pinv(M)\n",
        "        return M_ * points\n",
        "\n",
        "    T = np.linspace(0, 1, len(X))\n",
        "    M = bmatrix(T)\n",
        "    points = np.array(list(zip(X, Y)))\n",
        "    \n",
        "    final = least_square_fit(points, M).tolist()\n",
        "    final[0] = [X[0], Y[0]]\n",
        "    final[len(final)-1] = [X[len(X)-1], Y[len(Y)-1]]\n",
        "    return final\n",
        "def bernstein_poly(i, n, t):\n",
        "    \"\"\"\n",
        "     The Bernstein polynomial of n, i as a function of t\n",
        "    \"\"\"\n",
        "    return comb(n, i) * ( t**(n-i) ) * (1 - t)**i\n",
        "\n",
        "\n",
        "def bezier_curve(points, nTimes=50):\n",
        "    \"\"\"\n",
        "       Given a set of control points, return the\n",
        "       bezier curve defined by the control points.\n",
        "\n",
        "       points should be a list of lists, or list of tuples\n",
        "       such as [ [1,1], \n",
        "                 [2,3], \n",
        "                 [4,5], ..[Xn, Yn] ]\n",
        "        nTimes is the number of time steps, defaults to 1000\n",
        "\n",
        "        See http://processingjs.nihongoresources.com/bezierinfo/\n",
        "    \"\"\"\n",
        "\n",
        "    nPoints = len(points)\n",
        "    xPoints = np.array([p[0] for p in points])\n",
        "    yPoints = np.array([p[1] for p in points])\n",
        "\n",
        "    t = np.linspace(0.0, 1.0, nTimes)\n",
        "\n",
        "    polynomial_array = np.array([ bernstein_poly(i, nPoints-1, t) for i in range(0, nPoints)   ])\n",
        "\n",
        "    xvals = np.dot(xPoints, polynomial_array)\n",
        "    yvals = np.dot(yPoints, polynomial_array)\n",
        "\n",
        "    return xvals, yvals\n",
        "\n",
        "\n"
      ],
      "metadata": {
        "id": "gYItiOFsN-lb"
      },
      "execution_count": null,
      "outputs": []
    },
    {
      "cell_type": "code",
      "source": [
        "points = []\n",
        "xpoints = [19.21270, 19.21269, 19.21268, 19.21266, 19.21264, 19.21263, 19.21261, 19.21261, 19.21264, 19.21268,19.21274, 19.21282, 19.21290, 19.21299, 19.21307, 19.21316, 19.21324, 19.21333, 19.21342]\n",
        "ypoints = [-100.14895, -100.14885, -100.14875, -100.14865, -100.14855, -100.14847, -100.14840, -100.14832, -100.14827, -100.14823, -100.14818, -100.14818, -100.14818, -100.14818, -100.14819, -100.14819, -100.14819, -100.14820, -100.14820]\n",
        "for i in range(len(xpoints)):\n",
        "    points.append([xpoints[i],ypoints[i]])"
      ],
      "metadata": {
        "id": "3-xRU8bBTRXe"
      },
      "execution_count": null,
      "outputs": []
    },
    {
      "cell_type": "code",
      "source": [
        "import matplotlib.pyplot as plt\n",
        "# Plot the original points\n",
        "plt.plot(xpoints, ypoints, \"ro\",label='Original Points')\n",
        "# Get the Bezier parameters based on a degree.\n",
        "data = get_bezier_parameters(xpoints, ypoints, degree=4)\n",
        "x_val = [x[0] for x in data]\n",
        "y_val = [x[1] for x in data]\n",
        "print(data)\n",
        "# Plot the control points\n",
        "plt.plot(x_val,y_val,'k--o', label='Control Points')\n",
        "# Plot the resulting Bezier curve\n",
        "xvals, yvals = bezier_curve(data, nTimes=1000)\n",
        "plt.plot(xvals, yvals, 'b-', label='B Curve')\n",
        "plt.legend()\n",
        "plt.show()"
      ],
      "metadata": {
        "colab": {
          "base_uri": "https://localhost:8080/",
          "height": 327
        },
        "id": "D0YDIx6lTXMp",
        "outputId": "784ebb69-64ee-48cd-8409-08251e4f2543"
      },
      "execution_count": null,
      "outputs": [
        {
          "output_type": "stream",
          "name": "stdout",
          "text": [
            "[[19.2127, -100.14895], [19.21269253408782, -100.14851871628683], [19.212244684681664, -100.14789676091237], [19.213163415737142, -100.14825934814728], [19.21342, -100.1482]]\n"
          ]
        },
        {
          "output_type": "display_data",
          "data": {
            "text/plain": [
              "<Figure size 432x288 with 1 Axes>"
            ],
            "image/png": "[encoded data removed]"
          },
          "metadata": {
            "needs_background": "light"
          }
        }
      ]
    },
    {
      "cell_type": "code",
      "source": [
        "print(len(xpoints), len(x_val), len(xvals))"
      ],
      "metadata": {
        "colab": {
          "base_uri": "https://localhost:8080/"
        },
        "id": "1SG83K77TY81",
        "outputId": "a83509fe-41bc-496d-c2f5-139ba341e121"
      },
      "execution_count": null,
      "outputs": [
        {
          "output_type": "stream",
          "name": "stdout",
          "text": [
            "19 5 1000\n"
          ]
        }
      ]
    },
    {
      "cell_type": "code",
      "source": [
        "print(x_val)"
      ],
      "metadata": {
        "colab": {
          "base_uri": "https://localhost:8080/"
        },
        "id": "ilV8r2ghXVKn",
        "outputId": "eaffbbb8-f58b-402f-e04b-f3e9064c2e52"
      },
      "execution_count": null,
      "outputs": [
        {
          "output_type": "stream",
          "name": "stdout",
          "text": [
            "[19.2127, 19.21269253408782, 19.212244684681664, 19.213163415737142, 19.21342]\n"
          ]
        }
      ]
    },
    {
      "cell_type": "code",
      "source": [
        "print(y_val)"
      ],
      "metadata": {
        "colab": {
          "base_uri": "https://localhost:8080/"
        },
        "id": "z1Phz2v2YuHO",
        "outputId": "2fff863b-c1bf-4166-d029-8ebdfc6ff9ff"
      },
      "execution_count": null,
      "outputs": [
        {
          "output_type": "stream",
          "name": "stdout",
          "text": [
            "[-100.14895, -100.14851871628683, -100.14789676091237, -100.14825934814728, -100.1482]\n"
          ]
        }
      ]
    },
    {
      "cell_type": "code",
      "source": [
        "print(data)\n",
        "\n"
      ],
      "metadata": {
        "colab": {
          "base_uri": "https://localhost:8080/"
        },
        "id": "Ycw3ZMlSY0Rx",
        "outputId": "04db128e-706a-4e49-8545-febe3b52b94f"
      },
      "execution_count": null,
      "outputs": [
        {
          "output_type": "stream",
          "name": "stdout",
          "text": [
            "[[19.2127, -100.14895], [19.21269253408782, -100.14851871628683], [19.212244684681664, -100.14789676091237], [19.213163415737142, -100.14825934814728], [19.21342, -100.1482]]\n"
          ]
        }
      ]
    },
    {
      "cell_type": "code",
      "source": [],
      "metadata": {
        "id": "TvUETkLbY2CK"
      },
      "execution_count": null,
      "outputs": []
    }
  ]
}