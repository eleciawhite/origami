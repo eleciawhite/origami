{
  "nbformat": 4,
  "nbformat_minor": 0,
  "metadata": {
    "colab": {
      "provenance": []
    },
    "kernelspec": {
      "name": "python3",
      "display_name": "Python 3"
    },
    "language_info": {
      "name": "python"
    }
  },
  "cells": [
    {
      "cell_type": "code",
      "execution_count": 1,
      "metadata": {
        "id": "p56Kzq2A31to"
      },
      "outputs": [],
      "source": [
        "from math import *\n",
        "import matplotlib.pyplot as plt\n",
        "import numpy as np\n",
        "from matplotlib import collections  as mc\n",
        "from matplotlib.patches import Ellipse, Wedge, Polygon\n",
        "from matplotlib.path import Path\n",
        "import matplotlib\n",
        "import itertools\n",
        "\n",
        "from scipy.spatial import distance\n",
        "from scipy import signal\n",
        "from google.colab import files\n"
      ]
    },
    {
      "cell_type": "markdown",
      "source": [
        "I want to be able to use the Amanda Ghassaei's [Origami Simulator](https://origamisimulator.org/) to test the output of the script. \n",
        "\n",
        "In this next block, I'm fixing up the matplotlib output to be more compatible with the simulator."
      ],
      "metadata": {
        "id": "t72uLZWa4FbH"
      }
    },
    {
      "cell_type": "code",
      "source": [
        "indef = False\n",
        "def rm_clippath(line):\n",
        "  global indef\n",
        "\n",
        "  if not indef:\n",
        "    f = line.find('<clipPath')\n",
        "  else:\n",
        "    f = line.find('</clipPath>')\n",
        "  if f >= 0:\n",
        "    indef = not indef\n",
        "    return \"\"\n",
        "  if indef: return \"\"\n",
        "\n",
        "  f = line.find('clip-path')\n",
        "  if (f < 0): return line\n",
        "  fc = line.find('\"', f) + 1\n",
        "  fe = line.find('\"', fc) +1\n",
        "  return line[:f]+line[fe:]\n",
        "\n",
        "def fixup_svg(infile):\n",
        "  global indef\n",
        "  indef = False\n",
        "  outfile = \"kt_\"+ infile\n",
        "  delete_list = ['fill:none;']\n",
        "  with open(infile) as fin, open(outfile, \"w+\") as fout:\n",
        "    for line in fin:\n",
        "      line = rm_clippath(line)\n",
        "      for word in delete_list:\n",
        "        line = line.replace(word, \"\")\n",
        "      fout.write(line)\n",
        "  return outfile"
      ],
      "metadata": {
        "id": "q_XWgPE536fO"
      },
      "execution_count": 3,
      "outputs": []
    },
    {
      "cell_type": "code",
      "source": [
        "edge = 0.6\n",
        "\n",
        "t = np.linspace(-edge, edge, 2 * 100, endpoint=False)\n",
        "i, q, e = signal.gausspulse(t, fc=5, retquad=True, retenv=True)\n",
        "plt.plot(t, i)\n",
        "\n",
        "plt.axis('equal')\n",
        "plt.axis('off')\n",
        "\n",
        "name = \"gausspulse\"\n",
        "plt.savefig(name + \".svg\")\n",
        "outputfilename = fixup_svg(name + \".svg\")\n",
        "files.download(outputfilename)\n"
      ],
      "metadata": {
        "colab": {
          "base_uri": "https://localhost:8080/",
          "height": 248
        },
        "id": "qANgG9m44Djx",
        "outputId": "a951c5ea-00b6-437f-8573-11d885f76c28"
      },
      "execution_count": 4,
      "outputs": [
        {
          "output_type": "display_data",
          "data": {
            "text/plain": [
              "<IPython.core.display.Javascript object>"
            ],
            "application/javascript": [
              "\n",
              "    async function download(id, filename, size) {\n",
              "      if (!google.colab.kernel.accessAllowed) {\n",
              "        return;\n",
              "      }\n",
              "      const div = document.createElement('div');\n",
              "      const label = document.createElement('label');\n",
              "      label.textContent = `Downloading \"${filename}\": `;\n",
              "      div.appendChild(label);\n",
              "      const progress = document.createElement('progress');\n",
              "      progress.max = size;\n",
              "      div.appendChild(progress);\n",
              "      document.body.appendChild(div);\n",
              "\n",
              "      const buffers = [];\n",
              "      let downloaded = 0;\n",
              "\n",
              "      const channel = await google.colab.kernel.comms.open(id);\n",
              "      // Send a message to notify the kernel that we're ready.\n",
              "      channel.send({})\n",
              "\n",
              "      for await (const message of channel.messages) {\n",
              "        // Send a message to notify the kernel that we're ready.\n",
              "        channel.send({})\n",
              "        if (message.buffers) {\n",
              "          for (const buffer of message.buffers) {\n",
              "            buffers.push(buffer);\n",
              "            downloaded += buffer.byteLength;\n",
              "            progress.value = downloaded;\n",
              "          }\n",
              "        }\n",
              "      }\n",
              "      const blob = new Blob(buffers, {type: 'application/binary'});\n",
              "      const a = document.createElement('a');\n",
              "      a.href = window.URL.createObjectURL(blob);\n",
              "      a.download = filename;\n",
              "      div.appendChild(a);\n",
              "      a.click();\n",
              "      div.remove();\n",
              "    }\n",
              "  "
            ]
          },
          "metadata": {}
        },
        {
          "output_type": "display_data",
          "data": {
            "text/plain": [
              "<IPython.core.display.Javascript object>"
            ],
            "application/javascript": [
              "download(\"download_1677bb0f-401a-45a1-b1ba-e90cc0ec2792\", \"kt_gausspulse.svg\", 3519)"
            ]
          },
          "metadata": {}
        },
        {
          "output_type": "display_data",
          "data": {
            "text/plain": [
              "<Figure size 432x288 with 1 Axes>"
            ],
            "image/png": "[encoded data removed]"
          },
          "metadata": {
            "needs_background": "light"
          }
        }
      ]
    },
    {
      "cell_type": "code",
      "source": [
        "from scipy.signal import sweep_poly\n",
        "p = np.poly1d([0.003, 0.0, -0.2, 0, 2])\n",
        "t = np.linspace(0, 10.6, 5001)\n",
        "t = np.linspace(-10, 8, len(curve[1,:]))\n",
        "w = sweep_poly(0.1*t, 10*curve[1,:])\n",
        "\n",
        "\n",
        "plt.plot(t, w, 'b')\n",
        "#plt.plot(t, curve[1,:], 'r')\n",
        "plt.xlabel('t')\n",
        "plt.tight_layout()\n",
        "plt.show()\n",
        "\n",
        "plt.axis('equal')\n",
        "plt.axis('off')\n",
        "\n",
        "name = \"sweeppoly3\"\n",
        "plt.savefig(name + \".svg\")\n",
        "outputfilename = fixup_svg(name + \".svg\")\n",
        "#files.download(outputfilename)"
      ],
      "metadata": {
        "id": "P40wal4o4QJk"
      },
      "execution_count": null,
      "outputs": []
    }
  ]
}